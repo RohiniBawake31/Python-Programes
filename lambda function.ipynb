{
 "cells": [
  {
   "cell_type": "code",
   "execution_count": 1,
   "id": "dd9d6504",
   "metadata": {},
   "outputs": [
    {
     "data": {
      "text/plain": [
       "15"
      ]
     },
     "execution_count": 1,
     "metadata": {},
     "output_type": "execute_result"
    }
   ],
   "source": [
    "add=lambda a,b,c:a+b+c\n",
    "add(5,4,6)"
   ]
  },
  {
   "cell_type": "code",
   "execution_count": 2,
   "id": "653fdbf4",
   "metadata": {},
   "outputs": [
    {
     "data": {
      "text/plain": [
       "343"
      ]
     },
     "execution_count": 2,
     "metadata": {},
     "output_type": "execute_result"
    }
   ],
   "source": [
    "power=lambda m,n:m**n # To find Power \n",
    "power(7,3)"
   ]
  },
  {
   "cell_type": "code",
   "execution_count": 6,
   "id": "3951a102",
   "metadata": {},
   "outputs": [
    {
     "data": {
      "text/plain": [
       "19"
      ]
     },
     "execution_count": 6,
     "metadata": {},
     "output_type": "execute_result"
    }
   ],
   "source": [
    "q=lambda a,b,x,c:a*(x**2)+b*(x)+c\n",
    "q(1,2,3,4)"
   ]
  },
  {
   "cell_type": "code",
   "execution_count": 9,
   "id": "4bb98a18",
   "metadata": {},
   "outputs": [
    {
     "data": {
      "text/plain": [
       "65"
      ]
     },
     "execution_count": 9,
     "metadata": {},
     "output_type": "execute_result"
    }
   ],
   "source": [
    "root=lambda a,b,c:(b**2)-4*a*c\n",
    "root(4,9,1)"
   ]
  },
  {
   "cell_type": "code",
   "execution_count": 11,
   "id": "75a69328",
   "metadata": {},
   "outputs": [
    {
     "data": {
      "text/plain": [
       "12.0"
      ]
     },
     "execution_count": 11,
     "metadata": {},
     "output_type": "execute_result"
    }
   ],
   "source": [
    "sqrt=lambda m :m**0.5 # for find squareroot\n",
    "sqrt(144)"
   ]
  },
  {
   "cell_type": "code",
   "execution_count": 16,
   "id": "36db986e",
   "metadata": {},
   "outputs": [
    {
     "data": {
      "text/plain": [
       "20000"
      ]
     },
     "execution_count": 16,
     "metadata": {},
     "output_type": "execute_result"
    }
   ],
   "source": [
    "g=lambda km:km*1000   #convertion of km to m\n",
    "g(20)"
   ]
  },
  {
   "cell_type": "code",
   "execution_count": 23,
   "id": "85d05267",
   "metadata": {},
   "outputs": [
    {
     "data": {
      "text/plain": [
       "'hello raj'"
      ]
     },
     "execution_count": 23,
     "metadata": {},
     "output_type": "execute_result"
    }
   ],
   "source": [
    "greet=lambda name:\"hello \" + name\n",
    "greet(\"raj\")"
   ]
  },
  {
   "cell_type": "code",
   "execution_count": 27,
   "id": "f6e5240b",
   "metadata": {},
   "outputs": [
    {
     "data": {
      "text/plain": [
       "20"
      ]
     },
     "execution_count": 27,
     "metadata": {},
     "output_type": "execute_result"
    }
   ],
   "source": [
    "Distance=lambda speed,time: speed * time\n",
    "Distance(10,2)"
   ]
  },
  {
   "cell_type": "code",
   "execution_count": 9,
   "id": "f35f4b54",
   "metadata": {},
   "outputs": [
    {
     "data": {
      "text/plain": [
       "'positive'"
      ]
     },
     "execution_count": 9,
     "metadata": {},
     "output_type": "execute_result"
    }
   ],
   "source": [
    "# Check no is positive or negative\n",
    "num=lambda m:'positive'if m>=0 else'negative'\n",
    "num(5)"
   ]
  },
  {
   "cell_type": "code",
   "execution_count": 12,
   "id": "c4593405",
   "metadata": {},
   "outputs": [],
   "source": [
    "#Find percentage \n",
    "f=lambda value,per:value*(per/100)"
   ]
  },
  {
   "cell_type": "code",
   "execution_count": 13,
   "id": "c58f4a77",
   "metadata": {},
   "outputs": [
    {
     "data": {
      "text/plain": [
       "10.0"
      ]
     },
     "execution_count": 13,
     "metadata": {},
     "output_type": "execute_result"
    }
   ],
   "source": [
    "f(100,10)"
   ]
  },
  {
   "cell_type": "code",
   "execution_count": 15,
   "id": "922656e8",
   "metadata": {},
   "outputs": [
    {
     "data": {
      "text/plain": [
       "25.0"
      ]
     },
     "execution_count": 15,
     "metadata": {},
     "output_type": "execute_result"
    }
   ],
   "source": [
    "f(100,25)"
   ]
  },
  {
   "cell_type": "code",
   "execution_count": null,
   "id": "bac7fb17",
   "metadata": {},
   "outputs": [],
   "source": []
  }
 ],
 "metadata": {
  "kernelspec": {
   "display_name": "Python 3 (ipykernel)",
   "language": "python",
   "name": "python3"
  },
  "language_info": {
   "codemirror_mode": {
    "name": "ipython",
    "version": 3
   },
   "file_extension": ".py",
   "mimetype": "text/x-python",
   "name": "python",
   "nbconvert_exporter": "python",
   "pygments_lexer": "ipython3",
   "version": "3.10.9"
  }
 },
 "nbformat": 4,
 "nbformat_minor": 5
}
