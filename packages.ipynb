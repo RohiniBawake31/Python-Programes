{
 "cells": [
  {
   "cell_type": "markdown",
   "id": "547d8df9-0517-4c5a-93bf-32d48a7d1c38",
   "metadata": {},
   "source": [
    "                         1) math Module"
   ]
  },
  {
   "cell_type": "code",
   "execution_count": 51,
   "id": "86903d1c-9a9d-4af4-8d85-d38bc4c32414",
   "metadata": {},
   "outputs": [],
   "source": [
    "import math"
   ]
  },
  {
   "cell_type": "code",
   "execution_count": 52,
   "id": "3361c1e0-3aee-40c3-8c6f-c8903112f3f1",
   "metadata": {},
   "outputs": [
    {
     "data": {
      "text/plain": [
       "410"
      ]
     },
     "execution_count": 52,
     "metadata": {},
     "output_type": "execute_result"
    }
   ],
   "source": [
    "a=[10,25,63,24,1,51]\n",
    "b=[50,14,56,7,9,100]\n",
    "sum(a+b)"
   ]
  },
  {
   "cell_type": "code",
   "execution_count": 53,
   "id": "20cb78da-93e2-47cb-b221-0e0da0136fdc",
   "metadata": {},
   "outputs": [
    {
     "data": {
      "text/plain": [
       "-0.4480736161291701"
      ]
     },
     "execution_count": 53,
     "metadata": {},
     "output_type": "execute_result"
    }
   ],
   "source": [
    "math.cos(90) #Returns the cosine of a number"
   ]
  },
  {
   "cell_type": "code",
   "execution_count": 54,
   "id": "c1bd6f18-c3f3-489e-bb12-37a7669409cb",
   "metadata": {},
   "outputs": [
    {
     "data": {
      "text/plain": [
       "0.8939966636005579"
      ]
     },
     "execution_count": 54,
     "metadata": {},
     "output_type": "execute_result"
    }
   ],
   "source": [
    "math.sin(90) #Returns the sine of a number"
   ]
  },
  {
   "cell_type": "code",
   "execution_count": 55,
   "id": "f4abb4f4-0f72-4ffa-b29d-07637c280121",
   "metadata": {},
   "outputs": [
    {
     "data": {
      "text/plain": [
       "8.0"
      ]
     },
     "execution_count": 55,
     "metadata": {},
     "output_type": "execute_result"
    }
   ],
   "source": [
    "a=64\n",
    "math.sqrt(a) # return suareroot of the number"
   ]
  },
  {
   "cell_type": "code",
   "execution_count": 56,
   "id": "8bb8a84c-5375-49ab-b3ce-e2cb29e16f6f",
   "metadata": {},
   "outputs": [
    {
     "data": {
      "text/plain": [
       "5.0"
      ]
     },
     "execution_count": 56,
     "metadata": {},
     "output_type": "execute_result"
    }
   ],
   "source": [
    "math.fabs(-5) #Returns the absolute value of a number"
   ]
  },
  {
   "cell_type": "code",
   "execution_count": 57,
   "id": "a3c4e161-e695-4e95-a1a1-bb553af1a58a",
   "metadata": {},
   "outputs": [
    {
     "data": {
      "text/plain": [
       "720"
      ]
     },
     "execution_count": 57,
     "metadata": {},
     "output_type": "execute_result"
    }
   ],
   "source": [
    "math.factorial(6) #Returns the factorial of a number"
   ]
  },
  {
   "cell_type": "code",
   "execution_count": 58,
   "id": "1fd68544-15ae-4d7b-9e5f-f4bb919eb2ad",
   "metadata": {},
   "outputs": [
    {
     "data": {
      "text/plain": [
       "7"
      ]
     },
     "execution_count": 58,
     "metadata": {},
     "output_type": "execute_result"
    }
   ],
   "source": [
    "math.floor(7.8) #Rounds a number down to the nearest integer"
   ]
  },
  {
   "cell_type": "code",
   "execution_count": 59,
   "id": "8177c9f1-fb81-4260-b59e-5902cb286c39",
   "metadata": {},
   "outputs": [
    {
     "data": {
      "text/plain": [
       "1.0"
      ]
     },
     "execution_count": 59,
     "metadata": {},
     "output_type": "execute_result"
    }
   ],
   "source": [
    "x=61\n",
    "y=2\n",
    "math.fmod(x,y)   #Returns the remainder \n",
    "math.remainder(x,y)"
   ]
  },
  {
   "cell_type": "code",
   "execution_count": 60,
   "id": "56ca9ff9-63bd-4ade-8b25-431371ea3033",
   "metadata": {},
   "outputs": [
    {
     "data": {
      "text/plain": [
       "True"
      ]
     },
     "execution_count": 60,
     "metadata": {},
     "output_type": "execute_result"
    }
   ],
   "source": [
    "math.isfinite(9.966666666666) #Checks whether a number is finite or not"
   ]
  },
  {
   "cell_type": "code",
   "execution_count": 61,
   "id": "77b92b9a-4612-439d-90ed-5064677de273",
   "metadata": {},
   "outputs": [
    {
     "data": {
      "text/plain": [
       "False"
      ]
     },
     "execution_count": 61,
     "metadata": {},
     "output_type": "execute_result"
    }
   ],
   "source": [
    "math.isinf(6.3333) #Checks whether a number is infinite or not"
   ]
  },
  {
   "cell_type": "code",
   "execution_count": 62,
   "id": "046dadd2-0b7d-4edc-9932-23eda7005d8b",
   "metadata": {},
   "outputs": [
    {
     "data": {
      "text/plain": [
       "3.8066624897703196"
      ]
     },
     "execution_count": 62,
     "metadata": {},
     "output_type": "execute_result"
    }
   ],
   "source": [
    "math.log(45)   #Returns the natural logarithm of a number"
   ]
  },
  {
   "cell_type": "code",
   "execution_count": 64,
   "id": "1ca7d8a2-5f45-4f50-81ff-8266991910e0",
   "metadata": {},
   "outputs": [
    {
     "data": {
      "text/plain": [
       "1.3010299956639813"
      ]
     },
     "execution_count": 64,
     "metadata": {},
     "output_type": "execute_result"
    }
   ],
   "source": [
    "math.log10(20)  #Returns the logarithm of a number to base 10"
   ]
  },
  {
   "cell_type": "code",
   "execution_count": 65,
   "id": "1373cfaf-31d2-4f6c-96e1-be06cdc00694",
   "metadata": {},
   "outputs": [
    {
     "data": {
      "text/plain": [
       "6840"
      ]
     },
     "execution_count": 65,
     "metadata": {},
     "output_type": "execute_result"
    }
   ],
   "source": [
    "n=20\n",
    "k=3\n",
    "math.perm(n,k) #Returns the number of ways to choose k items from n items with order and without repetition"
   ]
  },
  {
   "cell_type": "code",
   "execution_count": 66,
   "id": "3517cda1-2d0d-4bbe-8df1-bc2e1221cfa9",
   "metadata": {},
   "outputs": [
    {
     "data": {
      "text/plain": [
       "625.0"
      ]
     },
     "execution_count": 66,
     "metadata": {},
     "output_type": "execute_result"
    }
   ],
   "source": [
    "math.pow(5,4) #Returns the value of x to the power of y"
   ]
  },
  {
   "cell_type": "code",
   "execution_count": 67,
   "id": "f2504aba-7b8d-41f1-9ecf-1a0b9884d2c2",
   "metadata": {},
   "outputs": [
    {
     "data": {
      "text/plain": [
       "120"
      ]
     },
     "execution_count": 67,
     "metadata": {},
     "output_type": "execute_result"
    }
   ],
   "source": [
    "x=(2,3,1,4,5) #Returns the product of all the elements in an iterable\n",
    "math.prod(x)"
   ]
  },
  {
   "cell_type": "code",
   "execution_count": 68,
   "id": "5111b440-9291-4985-a327-9b3da6e6e6f9",
   "metadata": {},
   "outputs": [
    {
     "data": {
      "text/plain": [
       "3.141592653589793"
      ]
     },
     "execution_count": 68,
     "metadata": {},
     "output_type": "execute_result"
    }
   ],
   "source": [
    "math.pi  # value of pie"
   ]
  },
  {
   "cell_type": "code",
   "execution_count": 70,
   "id": "f5f94fbf-8cd9-4f1f-8632-7b7440db0ee2",
   "metadata": {},
   "outputs": [
    {
     "data": {
      "text/plain": [
       "5156.620156177409"
      ]
     },
     "execution_count": 70,
     "metadata": {},
     "output_type": "execute_result"
    }
   ],
   "source": [
    "math.degrees(90) #Converts a degree value into radians"
   ]
  },
  {
   "cell_type": "code",
   "execution_count": 72,
   "id": "1ba1a194-d00d-42e4-b47d-9c85f47dab08",
   "metadata": {},
   "outputs": [
    {
     "data": {
      "text/plain": [
       "89.98917623282763"
      ]
     },
     "execution_count": 72,
     "metadata": {},
     "output_type": "execute_result"
    }
   ],
   "source": [
    "math.radians(5156) #Converts a radians value into degree."
   ]
  },
  {
   "cell_type": "markdown",
   "id": "0864c680-acb7-432e-8fd5-141455cda7e2",
   "metadata": {},
   "source": [
    "                      2) random module"
   ]
  },
  {
   "cell_type": "code",
   "execution_count": 2,
   "id": "f1cdb99a-1d7b-4e5e-97a1-b77ca2bd024d",
   "metadata": {},
   "outputs": [],
   "source": [
    "import random"
   ]
  },
  {
   "cell_type": "code",
   "execution_count": 91,
   "id": "d2c9bba2-83eb-48a9-bcd7-cb582bca57b5",
   "metadata": {},
   "outputs": [
    {
     "data": {
      "text/plain": [
       "0.6229016948897019"
      ]
     },
     "execution_count": 91,
     "metadata": {},
     "output_type": "execute_result"
    }
   ],
   "source": [
    "random.seed(5) #seed makes these numbers the same every time we run the code.\n",
    "random.random()"
   ]
  },
  {
   "cell_type": "code",
   "execution_count": 104,
   "id": "996d9750-065c-4239-8218-f729ff06bbd5",
   "metadata": {},
   "outputs": [
    {
     "data": {
      "text/plain": [
       "6"
      ]
     },
     "execution_count": 104,
     "metadata": {},
     "output_type": "execute_result"
    }
   ],
   "source": [
    "random.randrange(1,10) #Returns a random number between the given range"
   ]
  },
  {
   "cell_type": "code",
   "execution_count": 105,
   "id": "1b8f218e-24ae-48b5-ad3d-126f6a117608",
   "metadata": {},
   "outputs": [
    {
     "data": {
      "text/plain": [
       "8"
      ]
     },
     "execution_count": 105,
     "metadata": {},
     "output_type": "execute_result"
    }
   ],
   "source": [
    "random.randint(1,10) #Returns a random number between the given range"
   ]
  },
  {
   "cell_type": "code",
   "execution_count": 111,
   "id": "3608d9d0-ee3e-4d74-8f1a-d7ce16125813",
   "metadata": {},
   "outputs": [
    {
     "data": {
      "text/plain": [
       "63"
      ]
     },
     "execution_count": 111,
     "metadata": {},
     "output_type": "execute_result"
    }
   ],
   "source": [
    "a=(12,4,5,63,1,20,65,7,8)\n",
    "random.choice(a)  #Returns a random element from the given sequence"
   ]
  },
  {
   "cell_type": "code",
   "execution_count": 112,
   "id": "41f16d8f-1cce-4fa8-bcf2-33c92c7abbdb",
   "metadata": {},
   "outputs": [
    {
     "data": {
      "text/plain": [
       "[12]"
      ]
     },
     "execution_count": 112,
     "metadata": {},
     "output_type": "execute_result"
    }
   ],
   "source": [
    "random.choices(a) # Returns a list with a random selection from the given sequence\n"
   ]
  },
  {
   "cell_type": "code",
   "execution_count": 119,
   "id": "fd6531a1-b48d-4394-99bc-0c87affa8b31",
   "metadata": {},
   "outputs": [
    {
     "data": {
      "text/plain": [
       "[45, 9, 65, 2, 2]"
      ]
     },
     "execution_count": 119,
     "metadata": {},
     "output_type": "execute_result"
    }
   ],
   "source": [
    "p=(10,2,3,45,65,8,9,45,78,2)\n",
    "random.sample(p,5)   #Returns a given sample of a sequence\n"
   ]
  },
  {
   "cell_type": "code",
   "execution_count": 9,
   "id": "d2adff53-c51d-4544-9471-aceb1ba35872",
   "metadata": {},
   "outputs": [
    {
     "data": {
      "text/plain": [
       "5.479098991317318"
      ]
     },
     "execution_count": 9,
     "metadata": {},
     "output_type": "execute_result"
    }
   ],
   "source": [
    "random.uniform(a=6,b=3) #Returns a random float number between two given parameters"
   ]
  },
  {
   "cell_type": "code",
   "execution_count": 8,
   "id": "fb2aa39b-d2a8-4588-8d7e-4bea18e5b252",
   "metadata": {},
   "outputs": [
    {
     "data": {
      "text/plain": [
       "0.28501018954919466"
      ]
     },
     "execution_count": 8,
     "metadata": {},
     "output_type": "execute_result"
    }
   ],
   "source": [
    "random.betavariate(alpha=4,beta=3) #Beta Dist.ribution with parameter alpha,beta"
   ]
  },
  {
   "cell_type": "code",
   "execution_count": 12,
   "id": "d564cc27-1cdf-45ce-89a9-a5ade31e79ca",
   "metadata": {},
   "outputs": [
    {
     "data": {
      "text/plain": [
       "0.269504037605196"
      ]
     },
     "execution_count": 12,
     "metadata": {},
     "output_type": "execute_result"
    }
   ],
   "source": [
    "random.expovariate(3)   #Exponential Distribution with parameter p"
   ]
  },
  {
   "cell_type": "code",
   "execution_count": 16,
   "id": "3658f53d-c6dc-47f8-9a03-77c39b4dcf9d",
   "metadata": {},
   "outputs": [
    {
     "data": {
      "text/plain": [
       "7.795009317734936"
      ]
     },
     "execution_count": 16,
     "metadata": {},
     "output_type": "execute_result"
    }
   ],
   "source": [
    "random.gammavariate(2,6)  #gamma Distribution with two parameter"
   ]
  },
  {
   "cell_type": "code",
   "execution_count": 19,
   "id": "6db1606b-207b-46a7-83be-39e782c2f252",
   "metadata": {},
   "outputs": [
    {
     "data": {
      "text/plain": [
       "0.24389335968690468"
      ]
     },
     "execution_count": 19,
     "metadata": {},
     "output_type": "execute_result"
    }
   ],
   "source": [
    "random.gauss(0,1)    "
   ]
  },
  {
   "cell_type": "code",
   "execution_count": 21,
   "id": "f6ed69bd-3c0c-4e71-acaa-f6a8eb5d5f9a",
   "metadata": {},
   "outputs": [
    {
     "data": {
      "text/plain": [
       "1.5895814192360684"
      ]
     },
     "execution_count": 21,
     "metadata": {},
     "output_type": "execute_result"
    }
   ],
   "source": [
    "random.normalvariate(0,1)"
   ]
  },
  {
   "cell_type": "code",
   "execution_count": 25,
   "id": "9fb4361f-bdbe-4d00-8f38-d3c1ba0fa4c9",
   "metadata": {},
   "outputs": [
    {
     "data": {
      "text/plain": [
       "6.272460011587053"
      ]
     },
     "execution_count": 25,
     "metadata": {},
     "output_type": "execute_result"
    }
   ],
   "source": [
    "random.lognormvariate(3,4)"
   ]
  },
  {
   "cell_type": "code",
   "execution_count": 5,
   "id": "404d9576-d621-4d0c-a402-77858ffa7253",
   "metadata": {},
   "outputs": [
    {
     "data": {
      "text/plain": [
       "1.0403657781951623"
      ]
     },
     "execution_count": 5,
     "metadata": {},
     "output_type": "execute_result"
    }
   ],
   "source": [
    "random.paretovariate(3)"
   ]
  },
  {
   "cell_type": "code",
   "execution_count": 10,
   "id": "afb6c32e-fe2f-497d-b492-1c0fa9a797db",
   "metadata": {},
   "outputs": [
    {
     "data": {
      "text/plain": [
       "4.3127644949282615"
      ]
     },
     "execution_count": 10,
     "metadata": {},
     "output_type": "execute_result"
    }
   ],
   "source": [
    "random.weibullvariate(5,4)"
   ]
  },
  {
   "cell_type": "markdown",
   "id": "8177bb2f-d3d2-46b7-97f3-3530fc36efa6",
   "metadata": {},
   "source": [
    "                3)Statistics Module"
   ]
  },
  {
   "cell_type": "code",
   "execution_count": 22,
   "id": "a11231a2-62a0-4e57-9443-933994e0ea71",
   "metadata": {},
   "outputs": [],
   "source": [
    "import statistics"
   ]
  },
  {
   "cell_type": "code",
   "execution_count": 24,
   "id": "5d5ac750-af60-4996-8138-ef47830ab722",
   "metadata": {},
   "outputs": [
    {
     "data": {
      "text/plain": [
       "29.285714285714285"
      ]
     },
     "execution_count": 24,
     "metadata": {},
     "output_type": "execute_result"
    }
   ],
   "source": [
    "p=(10,20,45,60,8,52,10)\n",
    "statistics.mean(p)"
   ]
  },
  {
   "cell_type": "code",
   "execution_count": 30,
   "id": "ba356db6-70e0-4d28-9cb5-59ec275bdb3c",
   "metadata": {},
   "outputs": [
    {
     "data": {
      "text/plain": [
       "16.16181549087321"
      ]
     },
     "execution_count": 30,
     "metadata": {},
     "output_type": "execute_result"
    }
   ],
   "source": [
    "statistics.harmonic_mean(p)"
   ]
  },
  {
   "cell_type": "code",
   "execution_count": 31,
   "id": "3191a90f-d4fd-4c69-a40c-da051e129fd6",
   "metadata": {},
   "outputs": [
    {
     "data": {
      "text/plain": [
       "20"
      ]
     },
     "execution_count": 31,
     "metadata": {},
     "output_type": "execute_result"
    }
   ],
   "source": [
    "statistics.median(p)"
   ]
  },
  {
   "cell_type": "code",
   "execution_count": 32,
   "id": "4fbb2b93-4bf3-416e-92dc-5f523fa64d9a",
   "metadata": {},
   "outputs": [
    {
     "data": {
      "text/plain": [
       "10"
      ]
     },
     "execution_count": 32,
     "metadata": {},
     "output_type": "execute_result"
    }
   ],
   "source": [
    "statistics.mode(p)"
   ]
  },
  {
   "cell_type": "code",
   "execution_count": 36,
   "id": "3ceb51a8-763f-44bc-9e5f-4bdc01d57ce0",
   "metadata": {},
   "outputs": [
    {
     "data": {
      "text/plain": [
       "20.665459697035434"
      ]
     },
     "execution_count": 36,
     "metadata": {},
     "output_type": "execute_result"
    }
   ],
   "source": [
    "statistics.pstdev(p)  #Calculates the standard deviation from an entire population"
   ]
  },
  {
   "cell_type": "code",
   "execution_count": 38,
   "id": "b12e397c-affd-47b4-a839-c0c941b67daf",
   "metadata": {},
   "outputs": [
    {
     "data": {
      "text/plain": [
       "22.321247618314153"
      ]
     },
     "execution_count": 38,
     "metadata": {},
     "output_type": "execute_result"
    }
   ],
   "source": [
    "statistics.stdev(p)\t#Calculates the standard deviation from a sample of data"
   ]
  },
  {
   "cell_type": "code",
   "execution_count": 41,
   "id": "69ca30fb-c68e-4f7d-a15a-4a8fa85a3a0d",
   "metadata": {},
   "outputs": [
    {
     "data": {
      "text/plain": [
       "427.0612244897959"
      ]
     },
     "execution_count": 41,
     "metadata": {},
     "output_type": "execute_result"
    }
   ],
   "source": [
    "statistics.pvariance(p) #Calculates the variance of an entire population\n"
   ]
  },
  {
   "cell_type": "code",
   "execution_count": 42,
   "id": "3f1a04d3-58c0-4c8b-a9e5-6addeeee9acc",
   "metadata": {},
   "outputs": [
    {
     "data": {
      "text/plain": [
       "498.23809523809524"
      ]
     },
     "execution_count": 42,
     "metadata": {},
     "output_type": "execute_result"
    }
   ],
   "source": [
    "statistics.variance(p) #Calculates the variance from a sample of data"
   ]
  },
  {
   "cell_type": "code",
   "execution_count": 44,
   "id": "0fe4a4e0-06e5-4ffc-90f0-970a32cac25f",
   "metadata": {},
   "outputs": [
    {
     "data": {
      "text/plain": [
       "[10.0, 20.0, 52.0]"
      ]
     },
     "execution_count": 44,
     "metadata": {},
     "output_type": "execute_result"
    }
   ],
   "source": [
    "statistics.quantiles(p) #Divides data into intervals with equal probability."
   ]
  },
  {
   "cell_type": "code",
   "execution_count": 45,
   "id": "b9daf93c-2a6b-49e2-85c9-a3c4ff675c42",
   "metadata": {},
   "outputs": [
    {
     "data": {
      "text/plain": [
       "21.67338407482183"
      ]
     },
     "execution_count": 45,
     "metadata": {},
     "output_type": "execute_result"
    }
   ],
   "source": [
    "statistics.geometric_mean(p)"
   ]
  },
  {
   "cell_type": "markdown",
   "id": "56169f32-3cba-4e7a-b29b-ba07d22744bc",
   "metadata": {},
   "source": [
    "                      4)datetime module"
   ]
  },
  {
   "cell_type": "code",
   "execution_count": 51,
   "id": "e7daa15a-6770-48ce-bc11-3b98cbcbd681",
   "metadata": {},
   "outputs": [],
   "source": [
    " import datetime"
   ]
  },
  {
   "cell_type": "code",
   "execution_count": 66,
   "id": "9423cf33-8d3c-41fa-8e18-5eb162d00565",
   "metadata": {},
   "outputs": [
    {
     "data": {
      "text/plain": [
       "datetime.date(1997, 3, 23)"
      ]
     },
     "execution_count": 66,
     "metadata": {},
     "output_type": "execute_result"
    }
   ],
   "source": [
    "datetime.date(1997,3,23) #handle calender dates(year,month,date)"
   ]
  },
  {
   "cell_type": "code",
   "execution_count": 63,
   "id": "f5c02d26-04f6-4ca9-a29d-e9bc9e273b2d",
   "metadata": {},
   "outputs": [
    {
     "data": {
      "text/plain": [
       "datetime.datetime(2025, 6, 21, 11, 44, 6, 174114)"
      ]
     },
     "execution_count": 63,
     "metadata": {},
     "output_type": "execute_result"
    }
   ],
   "source": [
    "datetime.datetime.now() #display current date and time"
   ]
  },
  {
   "cell_type": "code",
   "execution_count": 71,
   "id": "afb22a70-ced9-4b12-bce4-dc91b7fbc08c",
   "metadata": {},
   "outputs": [
    {
     "data": {
      "text/plain": [
       "datetime.time(2, 0)"
      ]
     },
     "execution_count": 71,
     "metadata": {},
     "output_type": "execute_result"
    }
   ],
   "source": [
    "datetime.time(2) #Handles time (hour, minute, second, microsecond)."
   ]
  },
  {
   "cell_type": "code",
   "execution_count": 73,
   "id": "704edd08-e9ff-4270-8441-e8398513321d",
   "metadata": {},
   "outputs": [
    {
     "data": {
      "text/plain": [
       "datetime.datetime(2000, 10, 31, 1, 50)"
      ]
     },
     "execution_count": 73,
     "metadata": {},
     "output_type": "execute_result"
    }
   ],
   "source": [
    "datetime.datetime(2000,10,31,1,50) #Combines date and time"
   ]
  },
  {
   "cell_type": "code",
   "execution_count": 76,
   "id": "a5be6803-961f-4f17-889f-ad77a7d86562",
   "metadata": {},
   "outputs": [
    {
     "data": {
      "text/plain": [
       "datetime.timedelta"
      ]
     },
     "execution_count": 76,
     "metadata": {},
     "output_type": "execute_result"
    }
   ],
   "source": [
    "datetime.timedelta  #Represents time duration.|"
   ]
  },
  {
   "cell_type": "markdown",
   "id": "6053c0ee-bd47-416f-bfe9-9d79bf0f434b",
   "metadata": {},
   "source": [
    "            4)JSON module"
   ]
  },
  {
   "cell_type": "code",
   "execution_count": null,
   "id": "16b8b5a3-5fef-4b1a-8907-45dbbb494257",
   "metadata": {},
   "outputs": [],
   "source": [
    "JSON is a syntax for storing and exchanging data\n",
    "\n",
    "which can be used to work with JSON data. "
   ]
  }
 ],
 "metadata": {
  "kernelspec": {
   "display_name": "Python [conda env:base] *",
   "language": "python",
   "name": "conda-base-py"
  },
  "language_info": {
   "codemirror_mode": {
    "name": "ipython",
    "version": 3
   },
   "file_extension": ".py",
   "mimetype": "text/x-python",
   "name": "python",
   "nbconvert_exporter": "python",
   "pygments_lexer": "ipython3",
   "version": "3.12.7"
  }
 },
 "nbformat": 4,
 "nbformat_minor": 5
}
