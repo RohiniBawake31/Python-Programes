{
 "cells": [
  {
   "cell_type": "markdown",
   "id": "b3ffa77f",
   "metadata": {},
   "source": [
    "# programe for find simple intreast"
   ]
  },
  {
   "cell_type": "code",
   "execution_count": null,
   "id": "7507779f",
   "metadata": {},
   "outputs": [],
   "source": [
    "P=int(input(\"Enter the Principal amount :\")) #starting amount\n",
    "R=int(input(\"Enter the Rate of Interest in % per annum :\"))\n",
    "T=int(input(\"Enter the time :\")) \n",
    "SI= (P * R * T)/100\n",
    "print(SI)"
   ]
  },
  {
   "cell_type": "markdown",
   "id": "652b1a14",
   "metadata": {},
   "source": [
    "# programe for find compound intreast"
   ]
  },
  {
   "cell_type": "code",
   "execution_count": null,
   "id": "1ee6d14f",
   "metadata": {},
   "outputs": [],
   "source": [
    "P=int(input(\"Enter the Principal amount :\")) #starting amount\n",
    "R=int(input(\"Enter the Rate of Interest in % per annum :\"))\n",
    "T=int(input(\"Enter the time :\")) \n",
    "CI=P*(1+ R/100)**T\n",
    "print(CI)"
   ]
  },
  {
   "cell_type": "markdown",
   "id": "426f3070",
   "metadata": {},
   "source": [
    "# programe for profit and loss"
   ]
  },
  {
   "cell_type": "code",
   "execution_count": 18,
   "id": "3d401c53",
   "metadata": {},
   "outputs": [
    {
     "name": "stdout",
     "output_type": "stream",
     "text": [
      "Enter the cost price of product:10\n",
      "Enter the selling price of product :20\n",
      "profit : 10\n",
      "profitper: 100.0\n"
     ]
    }
   ],
   "source": [
    "cp=int(input(\"Enter the cost price of product:\"))\n",
    "sp=int(input(\"Enter the selling price of product :\")) \n",
    "if sp>cp:\n",
    "    profit=sp-cp\n",
    "    profitper=(profit/cp)*100\n",
    "    print(\"profit :\",profit)\n",
    "    print(\"profitper:\",profitper)\n",
    "else:\n",
    "    loss=cp-sp\n",
    "    lossper=(loss/cp)*100\n",
    "    print(\"loss:\",loss)\n",
    "    print(\"lossper:\",lossper)"
   ]
  },
  {
   "cell_type": "markdown",
   "id": "c182480c",
   "metadata": {},
   "source": [
    "# Programes for even and odd Number"
   ]
  },
  {
   "cell_type": "code",
   "execution_count": 7,
   "id": "39c576eb",
   "metadata": {},
   "outputs": [
    {
     "name": "stdout",
     "output_type": "stream",
     "text": [
      "Enter the number : 15\n",
      "Number the number is odd\n"
     ]
    }
   ],
   "source": [
    "num= int(input(\"Enter the number : \"))\n",
    "if num%2==0:\n",
    "    print(\"Number the number is even\")\n",
    "else:\n",
    "    print(\"Number the number is odd\")"
   ]
  },
  {
   "cell_type": "markdown",
   "id": "c148f08a",
   "metadata": {},
   "source": [
    "# Programes for  check the positive and negative Number"
   ]
  },
  {
   "cell_type": "code",
   "execution_count": 8,
   "id": "036150ad",
   "metadata": {},
   "outputs": [
    {
     "name": "stdout",
     "output_type": "stream",
     "text": [
      "Enter the number : -10\n",
      "Number the number is negative\n"
     ]
    }
   ],
   "source": [
    "num= int(input(\"Enter the number : \"))\n",
    "if num>=0:\n",
    "    print(\"Number the number is positive\")\n",
    "else:\n",
    "    print(\"Number the number is negative\")"
   ]
  },
  {
   "cell_type": "markdown",
   "id": "1c8c0152",
   "metadata": {},
   "source": [
    "# programe for find square root"
   ]
  },
  {
   "cell_type": "code",
   "execution_count": 6,
   "id": "099847b5",
   "metadata": {},
   "outputs": [
    {
     "name": "stdout",
     "output_type": "stream",
     "text": [
      "Enter the number : 67\n",
      "8.18535277187245\n"
     ]
    }
   ],
   "source": [
    "no=int(input(\"Enter the number : \"))\n",
    "sqrt=no**0.5\n",
    "print(sqrt)"
   ]
  },
  {
   "cell_type": "markdown",
   "id": "9c9c0190",
   "metadata": {},
   "source": [
    "# programes for Find sum of elements in list "
   ]
  },
  {
   "cell_type": "code",
   "execution_count": 11,
   "id": "6156225c",
   "metadata": {},
   "outputs": [
    {
     "name": "stdout",
     "output_type": "stream",
     "text": [
      "545\n"
     ]
    }
   ],
   "source": [
    "l=[100,35,78,56,72,89,65,20,30]\n",
    "sum=0\n",
    "for i in l:\n",
    "    sum=i+sum\n",
    "print(sum)"
   ]
  },
  {
   "cell_type": "markdown",
   "id": "cbc71f2e",
   "metadata": {},
   "source": [
    "# Python Program to print all numbers in a range divisible by a given number."
   ]
  },
  {
   "cell_type": "code",
   "execution_count": 13,
   "id": "927461a5",
   "metadata": {},
   "outputs": [
    {
     "name": "stdout",
     "output_type": "stream",
     "text": [
      "Enter lower range limit:1\n",
      "Enter upper range limit:20\n",
      "Enter the number to be divided by:5\n",
      "5\n",
      "10\n",
      "15\n",
      "20\n"
     ]
    }
   ],
   "source": [
    "lower=int(input(\"Enter lower range limit:\"))\n",
    "upper=int(input(\"Enter upper range limit:\"))\n",
    "n=int(input(\"Enter the number to be divided by:\"))\n",
    "for i in range(lower,upper+1):\n",
    "    if(i%n==0):\n",
    "        print(i)"
   ]
  },
  {
   "cell_type": "markdown",
   "id": "485fc583",
   "metadata": {},
   "source": [
    "# Programe for convert distance in kilometers to meter "
   ]
  },
  {
   "cell_type": "code",
   "execution_count": 6,
   "id": "6cf97f1a",
   "metadata": {},
   "outputs": [
    {
     "name": "stdout",
     "output_type": "stream",
     "text": [
      "Enter the distance with unit :16\n",
      "Distance in meter: 16000\n"
     ]
    }
   ],
   "source": [
    "D=int(input(\"Enter the distance with unit :\"))\n",
    "meter=D*1000\n",
    "print(\"Distance in meter:\",meter)"
   ]
  },
  {
   "cell_type": "markdown",
   "id": "836f8f2d",
   "metadata": {},
   "source": [
    "# Programe for Convert Celsius To Fahrenheit"
   ]
  },
  {
   "cell_type": "code",
   "execution_count": 10,
   "id": "38801460",
   "metadata": {},
   "outputs": [
    {
     "name": "stdout",
     "output_type": "stream",
     "text": [
      "Enter the temp in celcius :21\n",
      "Temperature in farenheit: 69.8\n"
     ]
    }
   ],
   "source": [
    "temp=int(input(\"Enter the temp in celcius :\"))\n",
    "far=(temp*9/5)+32\n",
    "print(\"Temperature in farenheit:\",far)"
   ]
  }
 ],
 "metadata": {
  "kernelspec": {
   "display_name": "Python 3 (ipykernel)",
   "language": "python",
   "name": "python3"
  },
  "language_info": {
   "codemirror_mode": {
    "name": "ipython",
    "version": 3
   },
   "file_extension": ".py",
   "mimetype": "text/x-python",
   "name": "python",
   "nbconvert_exporter": "python",
   "pygments_lexer": "ipython3",
   "version": "3.10.9"
  }
 },
 "nbformat": 4,
 "nbformat_minor": 5
}
