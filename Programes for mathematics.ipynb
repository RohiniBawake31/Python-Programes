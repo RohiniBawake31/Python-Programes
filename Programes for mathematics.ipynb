{
 "cells": [
  {
   "cell_type": "markdown",
   "id": "b3ffa77f",
   "metadata": {},
   "source": [
    "# programe for find simple intreast"
   ]
  },
  {
   "cell_type": "code",
   "execution_count": null,
   "id": "7507779f",
   "metadata": {},
   "outputs": [],
   "source": [
    "P=int(input(\"Enter the Principal amount :\")) #starting amount\n",
    "R=int(input(\"Enter the Rate of Interest in % per annum :\"))\n",
    "T=int(input(\"Enter the time :\")) \n",
    "SI= (P * R * T)/100\n",
    "print(SI)"
   ]
  },
  {
   "cell_type": "markdown",
   "id": "426f3070",
   "metadata": {},
   "source": [
    "# programe for profit and loss"
   ]
  },
  {
   "cell_type": "code",
   "execution_count": 18,
   "id": "3d401c53",
   "metadata": {},
   "outputs": [
    {
     "name": "stdout",
     "output_type": "stream",
     "text": [
      "Enter the cost price of product:10\n",
      "Enter the selling price of product :20\n",
      "profit : 10\n",
      "profitper: 100.0\n"
     ]
    }
   ],
   "source": [
    "cp=int(input(\"Enter the cost price of product:\"))\n",
    "sp=int(input(\"Enter the selling price of product :\")) \n",
    "if sp>cp:\n",
    "    profit=sp-cp\n",
    "    profitper=(profit/cp)*100\n",
    "    print(\"profit :\",profit)\n",
    "    print(\"profitper:\",profitper)\n",
    "else:\n",
    "    loss=cp-sp\n",
    "    lossper=(loss/cp)*100\n",
    "    print(\"loss:\",loss)\n",
    "    print(\"lossper:\",lossper)"
   ]
  },
  {
   "cell_type": "markdown",
   "id": "c182480c",
   "metadata": {},
   "source": [
    "# Programes for even and odd Number"
   ]
  },
  {
   "cell_type": "code",
   "execution_count": null,
   "id": "39c576eb",
   "metadata": {},
   "outputs": [],
   "source": []
  }
 ],
 "metadata": {
  "kernelspec": {
   "display_name": "Python 3 (ipykernel)",
   "language": "python",
   "name": "python3"
  },
  "language_info": {
   "codemirror_mode": {
    "name": "ipython",
    "version": 3
   },
   "file_extension": ".py",
   "mimetype": "text/x-python",
   "name": "python",
   "nbconvert_exporter": "python",
   "pygments_lexer": "ipython3",
   "version": "3.10.9"
  }
 },
 "nbformat": 4,
 "nbformat_minor": 5
}
