{
 "cells": [
  {
   "cell_type": "markdown",
   "id": "e6109002",
   "metadata": {},
   "source": [
    "# append()\n",
    "\n",
    "used : Adds an element to the end of the list.                                                           \n",
    "input: give single value or collection"
   ]
  },
  {
   "cell_type": "code",
   "execution_count": 1,
   "id": "defef8bc",
   "metadata": {},
   "outputs": [],
   "source": [
    "#Example:\n",
    "l=[11,22,33,44,55,66,77,88,99]\n"
   ]
  },
  {
   "cell_type": "code",
   "execution_count": 2,
   "id": "2d486f3b",
   "metadata": {},
   "outputs": [
    {
     "data": {
      "text/plain": [
       "[11, 22, 33, 44, 55, 66, 77, 88, 99, 30]"
      ]
     },
     "execution_count": 2,
     "metadata": {},
     "output_type": "execute_result"
    }
   ],
   "source": [
    "l.append(30)\n",
    "l"
   ]
  },
  {
   "cell_type": "code",
   "execution_count": 3,
   "id": "0af3c0d7",
   "metadata": {},
   "outputs": [
    {
     "data": {
      "text/plain": [
       "[11, 22, 33, 44, 55, 66, 77, 88, 99, 30, [15, 25, 35]]"
      ]
     },
     "execution_count": 3,
     "metadata": {},
     "output_type": "execute_result"
    }
   ],
   "source": [
    "l.append([15,25,35])\n",
    "l"
   ]
  },
  {
   "cell_type": "markdown",
   "id": "9fece6f6",
   "metadata": {},
   "source": [
    "# insert()\n",
    "used : Inserts an element at a specified position.\n",
    "\n",
    "input: Give index and value   "
   ]
  },
  {
   "cell_type": "code",
   "execution_count": 4,
   "id": "b29397fc",
   "metadata": {},
   "outputs": [
    {
     "data": {
      "text/plain": [
       "[11, 22, 33, 0, 44, 55, 66, 77, 88, 99, 30, [15, 25, 35]]"
      ]
     },
     "execution_count": 4,
     "metadata": {},
     "output_type": "execute_result"
    }
   ],
   "source": [
    "l.insert(3,0)\n",
    "l"
   ]
  },
  {
   "cell_type": "code",
   "execution_count": 5,
   "id": "5091ce40",
   "metadata": {},
   "outputs": [
    {
     "data": {
      "text/plain": [
       "[11, 22, 33, 0, 44, 55, 46, 66, 77, 88, 99, 30, [15, 25, 35]]"
      ]
     },
     "execution_count": 5,
     "metadata": {},
     "output_type": "execute_result"
    }
   ],
   "source": [
    "l.insert(6,46)\n",
    "l"
   ]
  },
  {
   "cell_type": "code",
   "execution_count": 6,
   "id": "b50e8e72",
   "metadata": {},
   "outputs": [
    {
     "data": {
      "text/plain": [
       "[11, [65, 77], 22, 33, 0, 44, 55, 46, 66, 77, 88, 99, 30, [15, 25, 35]]"
      ]
     },
     "execution_count": 6,
     "metadata": {},
     "output_type": "execute_result"
    }
   ],
   "source": [
    "l.insert(1,[65,77])\n",
    "l"
   ]
  },
  {
   "cell_type": "markdown",
   "id": "70b96105",
   "metadata": {},
   "source": [
    "# extend()\n",
    "used: Adds elements from another list to the end of the current list.\n",
    "\n",
    "input :give list"
   ]
  },
  {
   "cell_type": "code",
   "execution_count": 10,
   "id": "694a8f9c",
   "metadata": {},
   "outputs": [
    {
     "data": {
      "text/plain": [
       "[11,\n",
       " [65, 77],\n",
       " 22,\n",
       " 33,\n",
       " 0,\n",
       " 44,\n",
       " 55,\n",
       " 46,\n",
       " 66,\n",
       " 77,\n",
       " 88,\n",
       " 99,\n",
       " 30,\n",
       " [15, 25, 35],\n",
       " 4,\n",
       " 5,\n",
       " 6,\n",
       " 4,\n",
       " 5,\n",
       " 6]"
      ]
     },
     "execution_count": 10,
     "metadata": {},
     "output_type": "execute_result"
    }
   ],
   "source": [
    "l.extend([4,5,6])\n",
    "l"
   ]
  },
  {
   "cell_type": "markdown",
   "id": "54823cc3",
   "metadata": {},
   "source": [
    "# pop(): \n",
    "used :Removes and returns the element at the specified position \n",
    "    (or the last element if no index is specified).\n",
    "    \n",
    "input : index"
   ]
  },
  {
   "cell_type": "code",
   "execution_count": 16,
   "id": "c70eebea",
   "metadata": {},
   "outputs": [
    {
     "data": {
      "text/plain": [
       "50"
      ]
     },
     "execution_count": 16,
     "metadata": {},
     "output_type": "execute_result"
    }
   ],
   "source": [
    "l1=[10,20,30,40,50]\n",
    "l1.pop()"
   ]
  },
  {
   "cell_type": "code",
   "execution_count": 17,
   "id": "676d6d4d",
   "metadata": {},
   "outputs": [
    {
     "data": {
      "text/plain": [
       "[10, 20, 30]"
      ]
     },
     "execution_count": 17,
     "metadata": {},
     "output_type": "execute_result"
    }
   ],
   "source": [
    "l1.pop()\n",
    "l1"
   ]
  },
  {
   "cell_type": "code",
   "execution_count": 18,
   "id": "9107e7aa",
   "metadata": {},
   "outputs": [
    {
     "data": {
      "text/plain": [
       "[20, 30]"
      ]
     },
     "execution_count": 18,
     "metadata": {},
     "output_type": "execute_result"
    }
   ],
   "source": [
    "l1.pop(0)\n",
    "l1"
   ]
  },
  {
   "cell_type": "markdown",
   "id": "0912b78f",
   "metadata": {},
   "source": [
    "# remove(): \n",
    "\n",
    "used: Removes the first occurrence of a specified element.\n",
    "\n",
    "input: only one value at a time."
   ]
  },
  {
   "cell_type": "code",
   "execution_count": 15,
   "id": "385c006c",
   "metadata": {},
   "outputs": [
    {
     "data": {
      "text/plain": [
       "[1, 2, 3, 4, 6, 7, 8, 9]"
      ]
     },
     "execution_count": 15,
     "metadata": {},
     "output_type": "execute_result"
    }
   ],
   "source": [
    "l2=[1,2,3,4,5,6,7,8,9]\n",
    "l2.remove(5)\n",
    "l2"
   ]
  },
  {
   "cell_type": "markdown",
   "id": "eb06fe31",
   "metadata": {},
   "source": [
    "# clear():\n",
    "used: Removes all elements from the list.\n",
    "    \n",
    "input:no argument(empty)"
   ]
  },
  {
   "cell_type": "code",
   "execution_count": 33,
   "id": "672479b1",
   "metadata": {},
   "outputs": [
    {
     "data": {
      "text/plain": [
       "[]"
      ]
     },
     "execution_count": 33,
     "metadata": {},
     "output_type": "execute_result"
    }
   ],
   "source": [
    "l2.clear()\n",
    "l2"
   ]
  },
  {
   "cell_type": "markdown",
   "id": "b45905eb",
   "metadata": {},
   "source": [
    "# count(): \n",
    " \n",
    "used : Returns the number of times a specified element appears in the list.\n",
    "\n",
    "input : value\n",
    "    "
   ]
  },
  {
   "cell_type": "code",
   "execution_count": 36,
   "id": "913f5af2",
   "metadata": {},
   "outputs": [
    {
     "data": {
      "text/plain": [
       "2"
      ]
     },
     "execution_count": 36,
     "metadata": {},
     "output_type": "execute_result"
    }
   ],
   "source": [
    "l=[100,200,300,200,400,200,500,400,600]\n",
    "l.count(400)"
   ]
  },
  {
   "cell_type": "code",
   "execution_count": 37,
   "id": "a7e4b932",
   "metadata": {},
   "outputs": [
    {
     "data": {
      "text/plain": [
       "3"
      ]
     },
     "execution_count": 37,
     "metadata": {},
     "output_type": "execute_result"
    }
   ],
   "source": [
    "l.count(200)"
   ]
  },
  {
   "cell_type": "markdown",
   "id": "2a948200",
   "metadata": {},
   "source": [
    "# index():\n",
    "used:Returns the index of the first occurrence of a specified element.\n",
    "    \n",
    "input : give the value"
   ]
  },
  {
   "cell_type": "code",
   "execution_count": 38,
   "id": "0818f311",
   "metadata": {},
   "outputs": [
    {
     "data": {
      "text/plain": [
       "4"
      ]
     },
     "execution_count": 38,
     "metadata": {},
     "output_type": "execute_result"
    }
   ],
   "source": [
    "l.index(400)"
   ]
  },
  {
   "cell_type": "code",
   "execution_count": 39,
   "id": "2ed977e4",
   "metadata": {},
   "outputs": [
    {
     "data": {
      "text/plain": [
       "0"
      ]
     },
     "execution_count": 39,
     "metadata": {},
     "output_type": "execute_result"
    }
   ],
   "source": [
    "l.index(100)\n"
   ]
  },
  {
   "cell_type": "markdown",
   "id": "01bd019c",
   "metadata": {},
   "source": [
    "# reverse(): \n",
    "    \n",
    "used:Reverses the order of the elements in the list.\n",
    "    \n",
    "input: list"
   ]
  },
  {
   "cell_type": "code",
   "execution_count": 43,
   "id": "d6f06d6b",
   "metadata": {},
   "outputs": [
    {
     "data": {
      "text/plain": [
       "[600, 400, 500, 200, 400, 200, 300, 200, 100]"
      ]
     },
     "execution_count": 43,
     "metadata": {},
     "output_type": "execute_result"
    }
   ],
   "source": [
    "l=[100,200,300,200,400,200,500,400,600]\n",
    "l.reverse()\n",
    "l"
   ]
  },
  {
   "cell_type": "markdown",
   "id": "133d3814",
   "metadata": {},
   "source": [
    "# sort():\n",
    "used: Sorts the list in ascending order (by default).\n",
    "    \n",
    "input: list"
   ]
  },
  {
   "cell_type": "code",
   "execution_count": 47,
   "id": "babcdd99",
   "metadata": {},
   "outputs": [
    {
     "data": {
      "text/plain": [
       "[100, 200, 200, 200, 300, 400, 400, 500, 600]"
      ]
     },
     "execution_count": 47,
     "metadata": {},
     "output_type": "execute_result"
    }
   ],
   "source": [
    "l=[100,200,300,200,400,200,500,400,600]\n",
    "l.sort()\n",
    "l\n"
   ]
  },
  {
   "cell_type": "code",
   "execution_count": null,
   "id": "48cc19e2",
   "metadata": {},
   "outputs": [],
   "source": []
  },
  {
   "cell_type": "code",
   "execution_count": null,
   "id": "3e10b73b",
   "metadata": {},
   "outputs": [],
   "source": []
  }
 ],
 "metadata": {
  "kernelspec": {
   "display_name": "Python 3 (ipykernel)",
   "language": "python",
   "name": "python3"
  },
  "language_info": {
   "codemirror_mode": {
    "name": "ipython",
    "version": 3
   },
   "file_extension": ".py",
   "mimetype": "text/x-python",
   "name": "python",
   "nbconvert_exporter": "python",
   "pygments_lexer": "ipython3",
   "version": "3.10.9"
  }
 },
 "nbformat": 4,
 "nbformat_minor": 5
}
