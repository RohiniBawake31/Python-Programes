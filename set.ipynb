{
 "cells": [
  {
   "cell_type": "markdown",
   "id": "87e0e425-1300-410e-96a3-5b29cbd827e4",
   "metadata": {},
   "source": [
    "                       Set Methods"
   ]
  },
  {
   "cell_type": "markdown",
   "id": "10ca8081-b844-41e5-9bba-82e5c96ce7d1",
   "metadata": {},
   "source": [
    " copy()-Returns a shallow copy of the set.\n",
    "   \n",
    " input -no argument"
   ]
  },
  {
   "cell_type": "code",
   "execution_count": 3,
   "id": "f1ad47c4-2697-41c1-9fe7-0b18ccc66599",
   "metadata": {},
   "outputs": [
    {
     "data": {
      "text/plain": [
       "{11, 22, 33, 44, 55}"
      ]
     },
     "execution_count": 3,
     "metadata": {},
     "output_type": "execute_result"
    }
   ],
   "source": [
    "s={11,22,33,44,55}\n",
    "s.copy()\n",
    "s"
   ]
  },
  {
   "cell_type": "markdown",
   "id": "9defe54b-ba5e-45d9-9f38-9b700765074c",
   "metadata": {},
   "source": [
    " add() – Adds an element to the set.\n",
    " \n",
    "input- Enter only one argument(int, float,string)"
   ]
  },
  {
   "cell_type": "code",
   "execution_count": 4,
   "id": "f65e85ef-88fd-41c9-94fe-8643a4a7fa8f",
   "metadata": {},
   "outputs": [
    {
     "data": {
      "text/plain": [
       "{11, 2.24, 22, 33, 44, 55, 65, 'sai'}"
      ]
     },
     "execution_count": 4,
     "metadata": {},
     "output_type": "execute_result"
    }
   ],
   "source": [
    "s.add(65)\n",
    "s.add(\"sai\")\n",
    "s.add(2.24)\n",
    "s"
   ]
  },
  {
   "cell_type": "markdown",
   "id": "f044b648-e103-45f2-82fe-64d6152aefa6",
   "metadata": {},
   "source": [
    "difference() – Returns the difference between two sets.\n",
    "\n",
    "input- two sets"
   ]
  },
  {
   "cell_type": "code",
   "execution_count": 18,
   "id": "a9d0d648-5005-4114-a724-b34723043d35",
   "metadata": {},
   "outputs": [
    {
     "name": "stdout",
     "output_type": "stream",
     "text": [
      "{65, 2.24, 11, 44, 'sai', 22}\n",
      "{33, 10, 20, 30}\n"
     ]
    }
   ],
   "source": [
    "p={10,20,30,33,55}\n",
    "print(s.difference(p))\n",
    "print(p.difference(s))"
   ]
  },
  {
   "cell_type": "markdown",
   "id": "6300cb47-1668-4e9b-a549-13ff55f09e6d",
   "metadata": {},
   "source": [
    "discard() – Removes an element from the set if it exists.\n",
    "\n",
    "input - exactly one argument"
   ]
  },
  {
   "cell_type": "code",
   "execution_count": 19,
   "id": "991cc67b-4f27-49ad-88c0-b01dd80f902c",
   "metadata": {},
   "outputs": [
    {
     "data": {
      "text/plain": [
       "{12, 15, 35, 65}"
      ]
     },
     "execution_count": 19,
     "metadata": {},
     "output_type": "execute_result"
    }
   ],
   "source": [
    "r={12,15,42,65,35,\"ram\"}\n",
    "r.discard(42)\n",
    "r.discard(\"ram\")\n",
    "r"
   ]
  },
  {
   "cell_type": "markdown",
   "id": "c824bb64-8b06-433e-ab0f-fef25cf85e27",
   "metadata": {},
   "source": [
    "intersection() – Returns the intersection of two sets.\n",
    "    \n",
    "input -two sets"
   ]
  },
  {
   "cell_type": "code",
   "execution_count": 25,
   "id": "d221b84d-c616-49a3-88e3-81b45fdb2260",
   "metadata": {},
   "outputs": [
    {
     "name": "stdout",
     "output_type": "stream",
     "text": [
      "{4, 5, 6}\n"
     ]
    }
   ],
   "source": [
    "a={2,3,4,5,6}\n",
    "b={4,5,6,7,8}\n",
    "print(a.intersection(b)) # give set of common elements"
   ]
  },
  {
   "cell_type": "markdown",
   "id": "a8b3a7fc-5633-4b5d-a936-ba29bdb56a9e",
   "metadata": {},
   "source": [
    "union() – Returns the union of two sets.\n",
    "\n",
    "input : two sets\n"
   ]
  },
  {
   "cell_type": "code",
   "execution_count": 1,
   "id": "0bc02043-0095-4559-a6cd-4d3a27a60eae",
   "metadata": {},
   "outputs": [
    {
     "name": "stdout",
     "output_type": "stream",
     "text": [
      "{2, 3, 4, 5, 6, 7, 8}\n"
     ]
    }
   ],
   "source": [
    "a={2,3,4,5,6}\n",
    "b={4,5,6,7,8}\n",
    "print(a.union(b))  #give all unique elements"
   ]
  },
  {
   "cell_type": "markdown",
   "id": "78875564-0bda-4818-9933-3ad9cfd847bb",
   "metadata": {},
   "source": [
    "isdisjoint() – Checks if two sets have no elements in common.\n",
    "\n",
    "input- two sets\n"
   ]
  },
  {
   "cell_type": "code",
   "execution_count": 2,
   "id": "269d54c4-5f8d-4f9c-a74a-16538ce06773",
   "metadata": {},
   "outputs": [
    {
     "data": {
      "text/plain": [
       "False"
      ]
     },
     "execution_count": 2,
     "metadata": {},
     "output_type": "execute_result"
    }
   ],
   "source": [
    "a={2,3,4,5,6}\n",
    "b={4,5,6,7,8}\n",
    "a.isdisjoint(b)"
   ]
  },
  {
   "cell_type": "code",
   "execution_count": 42,
   "id": "e05d1ddb-48f0-4f86-8542-54b5654205b5",
   "metadata": {},
   "outputs": [
    {
     "data": {
      "text/plain": [
       "True"
      ]
     },
     "execution_count": 42,
     "metadata": {},
     "output_type": "execute_result"
    }
   ],
   "source": [
    "p={4,5,6}\n",
    "q={1,2,3}\n",
    "p.isdisjoint(q)"
   ]
  },
  {
   "cell_type": "markdown",
   "id": "0db9f5b9-142f-4ef3-bebd-468250c3980d",
   "metadata": {},
   "source": [
    "issubset() – Checks if the set is a subset of another set.\n",
    "\n",
    "input -Two sets"
   ]
  },
  {
   "cell_type": "code",
   "execution_count": 43,
   "id": "be2aef78-34fa-4619-9797-10c5fe45d558",
   "metadata": {},
   "outputs": [
    {
     "data": {
      "text/plain": [
       "False"
      ]
     },
     "execution_count": 43,
     "metadata": {},
     "output_type": "execute_result"
    }
   ],
   "source": [
    "a.issubset(b)"
   ]
  },
  {
   "cell_type": "code",
   "execution_count": 44,
   "id": "60659e69-64da-4e98-8e9c-35dab11df769",
   "metadata": {},
   "outputs": [
    {
     "data": {
      "text/plain": [
       "True"
      ]
     },
     "execution_count": 44,
     "metadata": {},
     "output_type": "execute_result"
    }
   ],
   "source": [
    "p={1,2,3,4,5,6}\n",
    "q={2,3}\n",
    "q.issubset(p)"
   ]
  },
  {
   "cell_type": "markdown",
   "id": "f815eaee-21ad-4787-abf2-558231558b6e",
   "metadata": {},
   "source": [
    "update() – Updates the set with elements from another set.\n",
    "\n",
    "input -collection"
   ]
  },
  {
   "cell_type": "code",
   "execution_count": 45,
   "id": "78130d81-e438-4dd8-9fad-fec1805172a3",
   "metadata": {},
   "outputs": [],
   "source": [
    "p1={1,2,5,4,3}\n",
    "q1={44,75,62}\n",
    "p1.update(q1)"
   ]
  },
  {
   "cell_type": "code",
   "execution_count": 46,
   "id": "3c2b8e5a-5c25-49af-a860-e6731a5fa407",
   "metadata": {},
   "outputs": [
    {
     "data": {
      "text/plain": [
       "{1, 2, 3, 4, 5, 44, 62, 75}"
      ]
     },
     "execution_count": 46,
     "metadata": {},
     "output_type": "execute_result"
    }
   ],
   "source": [
    "p1"
   ]
  },
  {
   "cell_type": "markdown",
   "id": "8112039c-85a4-43c5-9e0f-370c6a7a2c30",
   "metadata": {},
   "source": [
    "pop() – Removes and returns a random element from the set.\n",
    "\n",
    "input- takes no arguments "
   ]
  },
  {
   "cell_type": "code",
   "execution_count": 49,
   "id": "b54e2225-5f95-4abf-b189-a9626a658a55",
   "metadata": {},
   "outputs": [
    {
     "data": {
      "text/plain": [
       "{2, 3, 4, 5}"
      ]
     },
     "execution_count": 49,
     "metadata": {},
     "output_type": "execute_result"
    }
   ],
   "source": [
    "p1={1,2,5,4,3}\n",
    "p1.pop()\n",
    "p1"
   ]
  },
  {
   "cell_type": "markdown",
   "id": "416614ee-8588-4d77-a253-d913ddf3fa48",
   "metadata": {},
   "source": [
    "remove() – Removes a specified element from the set (raises an error if not found).\n",
    "\n",
    "input- specified Single value included in data"
   ]
  },
  {
   "cell_type": "code",
   "execution_count": 50,
   "id": "a7e67a78-f682-4607-9e98-087180b79113",
   "metadata": {},
   "outputs": [
    {
     "data": {
      "text/plain": [
       "{10, 20, 30}"
      ]
     },
     "execution_count": 50,
     "metadata": {},
     "output_type": "execute_result"
    }
   ],
   "source": [
    "s1={10,20,40,30}\n",
    "s1.remove(40)\n",
    "s1"
   ]
  },
  {
   "cell_type": "code",
   "execution_count": null,
   "id": "12a24fdc-2bc7-4fdd-a51e-19856f740b4c",
   "metadata": {},
   "outputs": [],
   "source": []
  },
  {
   "cell_type": "code",
   "execution_count": null,
   "id": "7dddfacd-d1bb-4cdf-9f78-2a65d5e6500c",
   "metadata": {},
   "outputs": [],
   "source": []
  }
 ],
 "metadata": {
  "kernelspec": {
   "display_name": "Python [conda env:base] *",
   "language": "python",
   "name": "conda-base-py"
  },
  "language_info": {
   "codemirror_mode": {
    "name": "ipython",
    "version": 3
   },
   "file_extension": ".py",
   "mimetype": "text/x-python",
   "name": "python",
   "nbconvert_exporter": "python",
   "pygments_lexer": "ipython3",
   "version": "3.12.7"
  }
 },
 "nbformat": 4,
 "nbformat_minor": 5
}
