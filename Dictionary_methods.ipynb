{
 "cells": [
  {
   "cell_type": "code",
   "execution_count": null,
   "id": "656c35a4",
   "metadata": {},
   "outputs": [],
   "source": [
    "                   Dictionary methods"
   ]
  },
  {
   "cell_type": "code",
   "execution_count": 1,
   "id": "28ba1097-09e8-4739-8021-e7eec4369a67",
   "metadata": {},
   "outputs": [],
   "source": [
    "d={1:\"ram\",2:\"dev\",3:\"sparsh\",4:\"spruha\"}"
   ]
  },
  {
   "cell_type": "markdown",
   "id": "ad1d1619-96b0-4eb4-adcc-f3e9337f6a82",
   "metadata": {},
   "source": [
    "update-add or modify key-value pairs.\n",
    "\n",
    "input- key-value pairs"
   ]
  },
  {
   "cell_type": "code",
   "execution_count": 2,
   "id": "edabccef-338e-4a0a-bc38-eb3737f457ec",
   "metadata": {},
   "outputs": [
    {
     "data": {
      "text/plain": [
       "{1: 'ram', 2: 'dev', 3: 'sparsh', 4: 'spruha', 5: 'manager', 'sallery': 2000}"
      ]
     },
     "execution_count": 2,
     "metadata": {},
     "output_type": "execute_result"
    }
   ],
   "source": [
    "d.update({5:\"manager\",\"sallery\":2000})\n",
    "d"
   ]
  },
  {
   "cell_type": "markdown",
   "id": "734612f6-b04e-45d0-8574-a862d0493ea8",
   "metadata": {},
   "source": [
    "popitems()- Remove last key value pair"
   ]
  },
  {
   "cell_type": "code",
   "execution_count": 22,
   "id": "b1ca4116-1776-4952-8e41-d219c4f6fe38",
   "metadata": {},
   "outputs": [
    {
     "data": {
      "text/plain": [
       "{1: 'ram', 2: 'vishu', 3: 'sparsh'}"
      ]
     },
     "execution_count": 22,
     "metadata": {},
     "output_type": "execute_result"
    }
   ],
   "source": [
    "d.popitem()\n",
    "d"
   ]
  },
  {
   "cell_type": "code",
   "execution_count": 16,
   "id": "e3211831-0be3-451a-ab5c-fe1d51ecefdf",
   "metadata": {},
   "outputs": [
    {
     "data": {
      "text/plain": [
       "{1: 'ram', 2: 'vishu', 3: 'sparsh', 4: 'spruha'}"
      ]
     },
     "execution_count": 16,
     "metadata": {},
     "output_type": "execute_result"
    }
   ],
   "source": [
    "d[2]=\"vishu\"\n",
    "d"
   ]
  },
  {
   "cell_type": "code",
   "execution_count": 17,
   "id": "6261367b-8685-4bbf-9692-769d35d53ca0",
   "metadata": {},
   "outputs": [
    {
     "data": {
      "text/plain": [
       "'vishu'"
      ]
     },
     "execution_count": 17,
     "metadata": {},
     "output_type": "execute_result"
    }
   ],
   "source": [
    "d[2]"
   ]
  },
  {
   "cell_type": "markdown",
   "id": "c97661c9-557e-4db0-82b9-28c300ae0653",
   "metadata": {},
   "source": [
    "keys(): Returns a view of all the keys.\n",
    "\n",
    "values(): Returns a view of all the values.\n",
    "\n",
    "items(): Returns a view of all key-value pairs as tuples."
   ]
  },
  {
   "cell_type": "code",
   "execution_count": 18,
   "id": "a73f713a-7fd8-4525-b35b-221adcdbd633",
   "metadata": {},
   "outputs": [
    {
     "data": {
      "text/plain": [
       "dict_keys([1, 2, 3, 4])"
      ]
     },
     "execution_count": 18,
     "metadata": {},
     "output_type": "execute_result"
    }
   ],
   "source": [
    "d.keys()"
   ]
  },
  {
   "cell_type": "code",
   "execution_count": 19,
   "id": "32e6887e-808e-4a5b-b505-2476e8e67893",
   "metadata": {},
   "outputs": [
    {
     "data": {
      "text/plain": [
       "dict_values(['ram', 'vishu', 'sparsh', 'spruha'])"
      ]
     },
     "execution_count": 19,
     "metadata": {},
     "output_type": "execute_result"
    }
   ],
   "source": [
    "d.values()"
   ]
  },
  {
   "cell_type": "code",
   "execution_count": 20,
   "id": "53eb3e09-a345-4337-8423-4867567ff6dc",
   "metadata": {},
   "outputs": [
    {
     "data": {
      "text/plain": [
       "dict_items([(1, 'ram'), (2, 'vishu'), (3, 'sparsh'), (4, 'spruha')])"
      ]
     },
     "execution_count": 20,
     "metadata": {},
     "output_type": "execute_result"
    }
   ],
   "source": [
    "d.items()"
   ]
  },
  {
   "cell_type": "markdown",
   "id": "03c7f48f-2e76-4d6a-bdfb-f7bc67c8c47c",
   "metadata": {},
   "source": [
    "clear() – Empties the dictionary."
   ]
  },
  {
   "cell_type": "code",
   "execution_count": 24,
   "id": "999acc14-7079-44d1-bd4f-bf6cde6f4d5c",
   "metadata": {},
   "outputs": [],
   "source": [
    "d.clear()"
   ]
  },
  {
   "cell_type": "code",
   "execution_count": null,
   "id": "62b59414-2b34-4715-af7c-45563f62d0ff",
   "metadata": {},
   "outputs": [],
   "source": [
    "\n"
   ]
  }
 ],
 "metadata": {
  "kernelspec": {
   "display_name": "Python [conda env:base] *",
   "language": "python",
   "name": "conda-base-py"
  },
  "language_info": {
   "codemirror_mode": {
    "name": "ipython",
    "version": 3
   },
   "file_extension": ".py",
   "mimetype": "text/x-python",
   "name": "python",
   "nbconvert_exporter": "python",
   "pygments_lexer": "ipython3",
   "version": "3.12.7"
  }
 },
 "nbformat": 4,
 "nbformat_minor": 5
}
