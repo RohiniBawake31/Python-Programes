{
 "cells": [
  {
   "cell_type": "code",
   "execution_count": 86,
   "id": "bab38053-de49-4f7c-b718-e3ab16c855cc",
   "metadata": {},
   "outputs": [],
   "source": [
    "                                ## Numpy Assignments ##"
   ]
  },
  {
   "cell_type": "code",
   "execution_count": null,
   "id": "320d33a7-1b5f-40eb-80cc-62fe7834e724",
   "metadata": {},
   "outputs": [],
   "source": [
    "import numpy as np\n"
   ]
  },
  {
   "cell_type": "markdown",
   "id": "a37e01f4-18b7-475e-890a-abeeda3dcbc9",
   "metadata": {},
   "source": [
    "Create an array of 10 zeros"
   ]
  },
  {
   "cell_type": "code",
   "execution_count": 81,
   "id": "cada8857-3df3-4c88-aaf8-e6ef4dc46d3c",
   "metadata": {},
   "outputs": [
    {
     "data": {
      "text/plain": [
       "array([0., 0., 0., 0., 0., 0., 0., 0., 0., 0.])"
      ]
     },
     "execution_count": 81,
     "metadata": {},
     "output_type": "execute_result"
    }
   ],
   "source": [
    "a=np.zeros( 10)\n",
    "a"
   ]
  },
  {
   "cell_type": "markdown",
   "id": "fdb325c7-e29d-4b35-a539-59a79c57cebc",
   "metadata": {},
   "source": [
    "Create an array of 10 ones"
   ]
  },
  {
   "cell_type": "code",
   "execution_count": 85,
   "id": "235220f6-6b1a-4f0c-a4d7-123a165a0a1b",
   "metadata": {},
   "outputs": [
    {
     "data": {
      "text/plain": [
       "array([1., 1., 1., 1., 1., 1., 1., 1., 1., 1.])"
      ]
     },
     "execution_count": 85,
     "metadata": {},
     "output_type": "execute_result"
    }
   ],
   "source": [
    "b=np.ones(10)\n",
    "b"
   ]
  },
  {
   "cell_type": "markdown",
   "id": "bc21003d-6f4e-4ef0-b2e1-55602133c374",
   "metadata": {},
   "source": [
    "Create an array of 10 fives"
   ]
  },
  {
   "cell_type": "code",
   "execution_count": 87,
   "id": "a468c21c-c289-4223-9948-5c04267f56f3",
   "metadata": {},
   "outputs": [
    {
     "data": {
      "text/plain": [
       "array([5., 5., 5., 5., 5., 5., 5., 5., 5., 5.])"
      ]
     },
     "execution_count": 87,
     "metadata": {},
     "output_type": "execute_result"
    }
   ],
   "source": [
    "b=(np.ones(10))*5\n",
    "b"
   ]
  },
  {
   "cell_type": "markdown",
   "id": "43c3aa1f-82d4-489e-9bab-cf191edf4412",
   "metadata": {},
   "source": [
    "Create an array of the integers from 10 to 50"
   ]
  },
  {
   "cell_type": "code",
   "execution_count": 88,
   "id": "249d7901-dfc3-499e-93ea-6e4a7369b8e9",
   "metadata": {},
   "outputs": [
    {
     "data": {
      "text/plain": [
       "array([10, 11, 12, 13, 14, 15, 16, 17, 18, 19, 20, 21, 22, 23, 24, 25, 26,\n",
       "       27, 28, 29, 30, 31, 32, 33, 34, 35, 36, 37, 38, 39, 40, 41, 42, 43,\n",
       "       44, 45, 46, 47, 48, 49, 50])"
      ]
     },
     "execution_count": 88,
     "metadata": {},
     "output_type": "execute_result"
    }
   ],
   "source": [
    "v=np.arange(10,51)\n",
    "v"
   ]
  },
  {
   "cell_type": "markdown",
   "id": "9813c16e-46e8-4cf7-8005-e040854f7faf",
   "metadata": {},
   "source": [
    "Create an array of all the even integers from 10 to 50"
   ]
  },
  {
   "cell_type": "code",
   "execution_count": 89,
   "id": "14c83408-e106-4216-924b-00f464bf67fc",
   "metadata": {},
   "outputs": [
    {
     "data": {
      "text/plain": [
       "array([10, 12, 14, 16, 18, 20, 22, 24, 26, 28, 30, 32, 34, 36, 38, 40, 42,\n",
       "       44, 46, 48, 50])"
      ]
     },
     "execution_count": 89,
     "metadata": {},
     "output_type": "execute_result"
    }
   ],
   "source": [
    "x=np.arange(10,51,2)\n",
    "x"
   ]
  },
  {
   "cell_type": "markdown",
   "id": "055be14f-87de-4abb-b6b9-dc8928048364",
   "metadata": {},
   "source": [
    "Create a 3x3 matrix with values ranging from 0 to 8"
   ]
  },
  {
   "cell_type": "code",
   "execution_count": 27,
   "id": "0a08ad60-f6d6-4ba9-b970-f8479cf11e78",
   "metadata": {},
   "outputs": [
    {
     "data": {
      "text/plain": [
       "array([[0, 1, 2],\n",
       "       [3, 4, 5],\n",
       "       [6, 7, 8]])"
      ]
     },
     "execution_count": 27,
     "metadata": {},
     "output_type": "execute_result"
    }
   ],
   "source": [
    "s=np.arange(0,9)\n",
    "s1=s.reshape(3,3)\n",
    "s1"
   ]
  },
  {
   "cell_type": "code",
   "execution_count": 7,
   "id": "93a9c0af-3d8b-4fa0-97e7-130ef3a37d3d",
   "metadata": {},
   "outputs": [
    {
     "data": {
      "text/plain": [
       "matrix([[0, 1, 2],\n",
       "        [3, 4, 5],\n",
       "        [6, 7, 8]])"
      ]
     },
     "execution_count": 7,
     "metadata": {},
     "output_type": "execute_result"
    }
   ],
   "source": [
    "s=np.arange(0,9)\n",
    "s1=np.matrix(s)\n",
    "s1.reshape(3,3)"
   ]
  },
  {
   "cell_type": "markdown",
   "id": "0026c53f-ca33-4f59-9261-16396b57da34",
   "metadata": {},
   "source": [
    "Create a 3x3 identity matrix"
   ]
  },
  {
   "cell_type": "code",
   "execution_count": 93,
   "id": "a9cb9752-d2ab-4929-bca9-ba21122385ea",
   "metadata": {},
   "outputs": [
    {
     "data": {
      "text/plain": [
       "array([[1., 0., 0.],\n",
       "       [0., 1., 0.],\n",
       "       [0., 0., 1.]])"
      ]
     },
     "execution_count": 93,
     "metadata": {},
     "output_type": "execute_result"
    }
   ],
   "source": [
    "d=np.eye(3,3)\n",
    "d"
   ]
  },
  {
   "cell_type": "markdown",
   "id": "caf5e1a3-f9fc-436b-9873-7e19ec4db312",
   "metadata": {},
   "source": [
    "Use NumPy to generate a random number between 0 and 1"
   ]
  },
  {
   "cell_type": "code",
   "execution_count": 98,
   "id": "b116b56f-6902-47da-a246-dac1c2fd44bb",
   "metadata": {},
   "outputs": [
    {
     "data": {
      "text/plain": [
       "0.959551348641022"
      ]
     },
     "execution_count": 98,
     "metadata": {},
     "output_type": "execute_result"
    }
   ],
   "source": [
    "s=np.random.rand()\n",
    "s"
   ]
  },
  {
   "cell_type": "markdown",
   "id": "2975c273-4df3-4476-a34a-6a8f116292f8",
   "metadata": {},
   "source": [
    "Use NumPy to generate an array of 25 random numbers sampled from a standard normal distribution"
   ]
  },
  {
   "cell_type": "code",
   "execution_count": 101,
   "id": "16815f85-1946-4f7f-bb27-c22ebf7baeac",
   "metadata": {},
   "outputs": [
    {
     "data": {
      "text/plain": [
       "array([ 1.67250743, -0.38948896,  0.17692271,  2.4168188 , -0.08125374,\n",
       "       -0.09675763,  1.28697525, -0.77075004,  1.30895852,  0.90290188,\n",
       "        0.51476743, -1.3619753 , -0.10718965, -0.15122852,  0.84499535,\n",
       "       -0.99580898, -0.63637343, -0.22890982,  0.53269922,  0.31427146,\n",
       "       -0.74667175, -1.1701179 , -0.26829607, -1.00829949,  0.59922476])"
      ]
     },
     "execution_count": 101,
     "metadata": {},
     "output_type": "execute_result"
    }
   ],
   "source": [
    "s=np.random.randn(25)\n",
    "s"
   ]
  },
  {
   "cell_type": "markdown",
   "id": "2d8a2328-4280-4fb9-9ec8-c0e31bbd2d2f",
   "metadata": {},
   "source": [
    "Create the following matrix:"
   ]
  },
  {
   "cell_type": "code",
   "execution_count": 102,
   "id": "83ad0a70-2dd6-4e01-a06c-6e01c5473510",
   "metadata": {},
   "outputs": [
    {
     "data": {
      "text/plain": [
       "array([[0.01, 0.02, 0.03, 0.04, 0.05, 0.06, 0.07, 0.08, 0.09, 0.1 ],\n",
       "       [0.11, 0.12, 0.13, 0.14, 0.15, 0.16, 0.17, 0.18, 0.19, 0.2 ],\n",
       "       [0.21, 0.22, 0.23, 0.24, 0.25, 0.26, 0.27, 0.28, 0.29, 0.3 ],\n",
       "       [0.31, 0.32, 0.33, 0.34, 0.35, 0.36, 0.37, 0.38, 0.39, 0.4 ],\n",
       "       [0.41, 0.42, 0.43, 0.44, 0.45, 0.46, 0.47, 0.48, 0.49, 0.5 ],\n",
       "       [0.51, 0.52, 0.53, 0.54, 0.55, 0.56, 0.57, 0.58, 0.59, 0.6 ],\n",
       "       [0.61, 0.62, 0.63, 0.64, 0.65, 0.66, 0.67, 0.68, 0.69, 0.7 ],\n",
       "       [0.71, 0.72, 0.73, 0.74, 0.75, 0.76, 0.77, 0.78, 0.79, 0.8 ],\n",
       "       [0.81, 0.82, 0.83, 0.84, 0.85, 0.86, 0.87, 0.88, 0.89, 0.9 ],\n",
       "       [0.91, 0.92, 0.93, 0.94, 0.95, 0.96, 0.97, 0.98, 0.99, 1.  ]])"
      ]
     },
     "execution_count": 102,
     "metadata": {},
     "output_type": "execute_result"
    }
   ],
   "source": [
    "mat1 = np.arange(0.01,1.01,0.01).reshape(10,10)\n",
    "mat1"
   ]
  },
  {
   "cell_type": "markdown",
   "id": "dd4faa69-1b6d-4072-94f7-7db194643ef9",
   "metadata": {},
   "source": [
    "Create an array of 20 linearly spaced points between 0 and 1:"
   ]
  },
  {
   "cell_type": "code",
   "execution_count": 103,
   "id": "4ef01251-0d1e-41ae-834b-8e4c41d68717",
   "metadata": {},
   "outputs": [
    {
     "data": {
      "text/plain": [
       "array([0.        , 0.05263158, 0.10526316, 0.15789474, 0.21052632,\n",
       "       0.26315789, 0.31578947, 0.36842105, 0.42105263, 0.47368421,\n",
       "       0.52631579, 0.57894737, 0.63157895, 0.68421053, 0.73684211,\n",
       "       0.78947368, 0.84210526, 0.89473684, 0.94736842, 1.        ])"
      ]
     },
     "execution_count": 103,
     "metadata": {},
     "output_type": "execute_result"
    }
   ],
   "source": [
    "c=np.linspace(0,1,20)\n",
    "c"
   ]
  },
  {
   "cell_type": "code",
   "execution_count": 24,
   "id": "93cd86e0-507e-4de7-9c44-1946da0cbf75",
   "metadata": {},
   "outputs": [
    {
     "data": {
      "text/plain": [
       "array([[ 1,  2,  3,  4,  5],\n",
       "       [ 6,  7,  8,  9, 10],\n",
       "       [11, 12, 13, 14, 15],\n",
       "       [16, 17, 18, 19, 20],\n",
       "       [21, 22, 23, 24, 25]])"
      ]
     },
     "execution_count": 24,
     "metadata": {},
     "output_type": "execute_result"
    }
   ],
   "source": [
    "mat = np.arange(1,26).reshape(5,5)\n",
    "mat"
   ]
  },
  {
   "cell_type": "markdown",
   "id": "c537f852-9f3b-4438-9d1f-eadedf982661",
   "metadata": {},
   "source": [
    "Create an array of 20 linearly spaced points between 0 and 1:"
   ]
  },
  {
   "cell_type": "code",
   "execution_count": 49,
   "id": "dd70255a-2f00-4a2b-b98b-ea9b9c5e7a7d",
   "metadata": {},
   "outputs": [
    {
     "data": {
      "text/plain": [
       "array([[12, 13, 14, 15],\n",
       "       [17, 18, 19, 20],\n",
       "       [22, 23, 24, 25]])"
      ]
     },
     "execution_count": 49,
     "metadata": {},
     "output_type": "execute_result"
    }
   ],
   "source": [
    "mat[2:5,1:5]"
   ]
  },
  {
   "cell_type": "code",
   "execution_count": 54,
   "id": "ff0ad3c9-ded0-4fc0-8404-2dff748b3cb0",
   "metadata": {},
   "outputs": [
    {
     "data": {
      "text/plain": [
       "20"
      ]
     },
     "execution_count": 54,
     "metadata": {},
     "output_type": "execute_result"
    }
   ],
   "source": [
    "mat[3,4]"
   ]
  },
  {
   "cell_type": "code",
   "execution_count": 56,
   "id": "465e1a91-d24b-4641-b909-4c231aa121da",
   "metadata": {},
   "outputs": [
    {
     "data": {
      "text/plain": [
       "array([[ 2],\n",
       "       [ 7],\n",
       "       [12]])"
      ]
     },
     "execution_count": 56,
     "metadata": {},
     "output_type": "execute_result"
    }
   ],
   "source": [
    "mat[0:3,[1]]"
   ]
  },
  {
   "cell_type": "code",
   "execution_count": 57,
   "id": "2255ac63-835d-4499-87f3-ac4911a18699",
   "metadata": {},
   "outputs": [
    {
     "data": {
      "text/plain": [
       "array([[21, 22, 23, 24, 25]])"
      ]
     },
     "execution_count": 57,
     "metadata": {},
     "output_type": "execute_result"
    }
   ],
   "source": [
    "mat[[4,]]"
   ]
  },
  {
   "cell_type": "code",
   "execution_count": 65,
   "id": "fec7a9a4-f84a-4bd0-8af3-5854b5a9db72",
   "metadata": {},
   "outputs": [
    {
     "data": {
      "text/plain": [
       "array([[16, 17, 18, 19, 20],\n",
       "       [21, 22, 23, 24, 25]])"
      ]
     },
     "execution_count": 65,
     "metadata": {},
     "output_type": "execute_result"
    }
   ],
   "source": [
    "mat[3:5]"
   ]
  },
  {
   "cell_type": "markdown",
   "id": "49f95e89-dffb-451c-8d2b-ee2e71a1a1fa",
   "metadata": {},
   "source": [
    "Get the sum of all the values in mat"
   ]
  },
  {
   "cell_type": "code",
   "execution_count": 67,
   "id": "0fa76e74-245c-4638-9e0c-e39b13e3af7b",
   "metadata": {},
   "outputs": [
    {
     "data": {
      "text/plain": [
       "325"
      ]
     },
     "execution_count": 67,
     "metadata": {},
     "output_type": "execute_result"
    }
   ],
   "source": [
    "mat.sum()"
   ]
  },
  {
   "cell_type": "markdown",
   "id": "aaeaec2f-a8ba-4d74-a617-16fc9895e034",
   "metadata": {},
   "source": [
    "Get the standard deviation of the values in mat\n"
   ]
  },
  {
   "cell_type": "code",
   "execution_count": 68,
   "id": "b15d2d32-0577-496b-8153-bd3154d6e9a3",
   "metadata": {},
   "outputs": [
    {
     "data": {
      "text/plain": [
       "7.211102550927978"
      ]
     },
     "execution_count": 68,
     "metadata": {},
     "output_type": "execute_result"
    }
   ],
   "source": [
    "mat.std()"
   ]
  },
  {
   "cell_type": "markdown",
   "id": "33afa7de-d99e-435d-a6c4-a128543083b1",
   "metadata": {},
   "source": [
    "Get the sum of all the columns in mat\n"
   ]
  },
  {
   "cell_type": "code",
   "execution_count": 106,
   "id": "bdcb87ff-a5c8-45fa-849f-53bc42e1edc1",
   "metadata": {},
   "outputs": [
    {
     "data": {
      "text/plain": [
       "array([55, 60, 65, 70, 75])"
      ]
     },
     "execution_count": 106,
     "metadata": {},
     "output_type": "execute_result"
    }
   ],
   "source": [
    "np.sum(mat,axis=0)"
   ]
  },
  {
   "cell_type": "code",
   "execution_count": null,
   "id": "6b7c91e1-c0f8-4c44-b387-027aac04ca2a",
   "metadata": {},
   "outputs": [],
   "source": []
  }
 ],
 "metadata": {
  "kernelspec": {
   "display_name": "Python [conda env:base] *",
   "language": "python",
   "name": "conda-base-py"
  },
  "language_info": {
   "codemirror_mode": {
    "name": "ipython",
    "version": 3
   },
   "file_extension": ".py",
   "mimetype": "text/x-python",
   "name": "python",
   "nbconvert_exporter": "python",
   "pygments_lexer": "ipython3",
   "version": "3.12.7"
  }
 },
 "nbformat": 4,
 "nbformat_minor": 5
}
