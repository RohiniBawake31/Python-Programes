{
 "cells": [
  {
   "cell_type": "markdown",
   "id": "ca3a0ab1",
   "metadata": {},
   "source": [
    "# Area of circle"
   ]
  },
  {
   "cell_type": "code",
   "execution_count": 1,
   "id": "4927a377",
   "metadata": {},
   "outputs": [
    {
     "name": "stdout",
     "output_type": "stream",
     "text": [
      "Enter the radius8\n",
      "200.96\n"
     ]
    }
   ],
   "source": [
    "radius=int(input(\"Enter the radius\"))\n",
    "pie=3.14\n",
    "area=pie*(radius**2)\n",
    "print(area)"
   ]
  },
  {
   "cell_type": "markdown",
   "id": "f1f79d5e",
   "metadata": {},
   "source": [
    "# Area of Trianlge"
   ]
  },
  {
   "cell_type": "code",
   "execution_count": 2,
   "id": "49e2a95d",
   "metadata": {},
   "outputs": [
    {
     "name": "stdout",
     "output_type": "stream",
     "text": [
      "Enter the Base of triangle :30\n",
      "Enter the height of triangle :6\n",
      "90.0\n"
     ]
    }
   ],
   "source": [
    "base=int(input(\"Enter the Base of triangle :\"))\n",
    "height=int(input(\"Enter the height of triangle :\"))\n",
    "Area=0.5*base*height\n",
    "print(Area)"
   ]
  },
  {
   "cell_type": "markdown",
   "id": "ca965baa",
   "metadata": {},
   "source": [
    "# Area of square"
   ]
  },
  {
   "cell_type": "code",
   "execution_count": 3,
   "id": "479b84a6",
   "metadata": {},
   "outputs": [
    {
     "name": "stdout",
     "output_type": "stream",
     "text": [
      "Enter the side of triangle: 5\n",
      "25\n"
     ]
    }
   ],
   "source": [
    "side=int(input(\"Enter the side of triangle: \"))\n",
    "Area=side**2\n",
    "print(Area)"
   ]
  },
  {
   "cell_type": "markdown",
   "id": "a4cc5be5",
   "metadata": {},
   "source": [
    "# Total Surface Area of cone"
   ]
  },
  {
   "cell_type": "code",
   "execution_count": 4,
   "id": "0cdb8653",
   "metadata": {},
   "outputs": [
    {
     "name": "stdout",
     "output_type": "stream",
     "text": [
      "Enter the radius of the base of the cone : 4\n",
      "Enter the height of the cone : 8\n",
      "150.72\n"
     ]
    }
   ],
   "source": [
    "radius=int(input(\"Enter the radius of the base of the cone : \"))\n",
    "height=int(input(\"Enter the height of the cone : \"))\n",
    "pie=3.14\n",
    "area=pie*radius*(radius+height)\n",
    "print(area)"
   ]
  },
  {
   "cell_type": "markdown",
   "id": "1b49d989",
   "metadata": {},
   "source": [
    "# curved surface area of cone"
   ]
  },
  {
   "cell_type": "code",
   "execution_count": 5,
   "id": "d7df739a",
   "metadata": {},
   "outputs": [
    {
     "name": "stdout",
     "output_type": "stream",
     "text": [
      "Enter the radius of the base of the cone : 23\n",
      "Enter the height of the cone: 10\n",
      "722.2\n"
     ]
    }
   ],
   "source": [
    "radius=int(input(\"Enter the radius of the base of the cone : \"))\n",
    "height=int(input(\"Enter the height of the cone: \"))\n",
    "pie=3.14\n",
    "area=pie*radius*height\n",
    "print(area)"
   ]
  },
  {
   "cell_type": "markdown",
   "id": "f1128b49",
   "metadata": {},
   "source": [
    "# Area of Parallograme"
   ]
  },
  {
   "cell_type": "code",
   "execution_count": 1,
   "id": "12f4de39",
   "metadata": {},
   "outputs": [
    {
     "name": "stdout",
     "output_type": "stream",
     "text": [
      "Enter the Base : 40\n",
      "Enter the height :22\n",
      "880\n"
     ]
    }
   ],
   "source": [
    "base=int(input(\"Enter the Base : \"))\n",
    "height=int(input(\"Enter the height :\"))\n",
    "Area=base*height\n",
    "print(Area)"
   ]
  },
  {
   "cell_type": "markdown",
   "id": "701dbbb9",
   "metadata": {},
   "source": [
    "# Area of Rectangle"
   ]
  },
  {
   "cell_type": "code",
   "execution_count": 2,
   "id": "7401ec3c",
   "metadata": {},
   "outputs": [
    {
     "name": "stdout",
     "output_type": "stream",
     "text": [
      "Enter the lenght of rectangle : 6\n",
      "Enter the width of rectangle :7\n",
      "42\n"
     ]
    }
   ],
   "source": [
    "length=int(input(\"Enter the lenght of rectangle : \"))\n",
    "width=int(input(\"Enter the width of rectangle :\"))\n",
    "Area=length*width\n",
    "print(Area)"
   ]
  },
  {
   "cell_type": "markdown",
   "id": "aa8bcdd0",
   "metadata": {},
   "source": [
    "# circumference of circle"
   ]
  },
  {
   "cell_type": "code",
   "execution_count": 3,
   "id": "73f3d45e",
   "metadata": {},
   "outputs": [
    {
     "name": "stdout",
     "output_type": "stream",
     "text": [
      "Enter the radius22\n",
      "138.16\n"
     ]
    }
   ],
   "source": [
    "radius=int(input(\"Enter the radius\"))\n",
    "pie=3.14\n",
    "c=2*pie*radius\n",
    "print(c)"
   ]
  },
  {
   "cell_type": "markdown",
   "id": "061e3098",
   "metadata": {},
   "source": [
    "# perimeter of rectangle"
   ]
  },
  {
   "cell_type": "code",
   "execution_count": 4,
   "id": "535aeb47",
   "metadata": {},
   "outputs": [
    {
     "name": "stdout",
     "output_type": "stream",
     "text": [
      "Enter the lenght of rectangle: 9\n",
      "Enter the width of rectangle :15\n",
      "48\n"
     ]
    }
   ],
   "source": [
    "length=int(input(\"Enter the lenght of rectangle: \"))\n",
    "width=int(input(\"Enter the width of rectangle :\"))\n",
    "perimeter=2*(length+width)\n",
    "print(perimeter)"
   ]
  },
  {
   "cell_type": "markdown",
   "id": "5c1ed064",
   "metadata": {},
   "source": [
    "\n",
    "# perimeter of Triangle"
   ]
  },
  {
   "cell_type": "code",
   "execution_count": 6,
   "id": "5250714d",
   "metadata": {},
   "outputs": [
    {
     "name": "stdout",
     "output_type": "stream",
     "text": [
      "Enter the side1 of triangle :10\n",
      "Enter the side2 of triangle :20\n",
      "Enter the side3 of triangle :30\n",
      "60\n"
     ]
    }
   ],
   "source": [
    "side1 =int(input(\"Enter the side1 of triangle :\"))\n",
    "side2 =int(input(\"Enter the side2 of triangle :\"))\n",
    "side3 =int(input(\"Enter the side3 of triangle :\"))\n",
    "perimeter=side1 +side2 +side3\n",
    "print(perimeter)"
   ]
  },
  {
   "cell_type": "markdown",
   "id": "a50b5a41",
   "metadata": {},
   "source": [
    "# perimeter of Square"
   ]
  },
  {
   "cell_type": "code",
   "execution_count": 7,
   "id": "b4c421c9",
   "metadata": {},
   "outputs": [
    {
     "name": "stdout",
     "output_type": "stream",
     "text": [
      "Enter the side of triangle22\n",
      "88\n"
     ]
    }
   ],
   "source": [
    "side=int(input(\"Enter the side of triangle\"))\n",
    "perimeter=4*side\n",
    "print(perimeter)"
   ]
  }
 ],
 "metadata": {
  "kernelspec": {
   "display_name": "Python 3 (ipykernel)",
   "language": "python",
   "name": "python3"
  },
  "language_info": {
   "codemirror_mode": {
    "name": "ipython",
    "version": 3
   },
   "file_extension": ".py",
   "mimetype": "text/x-python",
   "name": "python",
   "nbconvert_exporter": "python",
   "pygments_lexer": "ipython3",
   "version": "3.10.9"
  }
 },
 "nbformat": 4,
 "nbformat_minor": 5
}
