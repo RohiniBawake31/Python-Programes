{
 "cells": [
  {
   "cell_type": "markdown",
   "id": "cded7daa",
   "metadata": {},
   "source": [
    "# Datamites :2-june-25"
   ]
  },
  {
   "cell_type": "code",
   "execution_count": null,
   "id": "4c4d33b2",
   "metadata": {},
   "outputs": [],
   "source": []
  },
  {
   "cell_type": "code",
   "execution_count": null,
   "id": "1c9776bf",
   "metadata": {},
   "outputs": [],
   "source": [
    "Name='shree'"
   ]
  },
  {
   "cell_type": "code",
   "execution_count": 7,
   "id": "c45e3579",
   "metadata": {},
   "outputs": [
    {
     "ename": "SyntaxError",
     "evalue": "invalid syntax (1602262960.py, line 1)",
     "output_type": "error",
     "traceback": [
      "\u001b[1;36m  Cell \u001b[1;32mIn[7], line 1\u001b[1;36m\u001b[0m\n\u001b[1;33m    else=45\u001b[0m\n\u001b[1;37m    ^\u001b[0m\n\u001b[1;31mSyntaxError\u001b[0m\u001b[1;31m:\u001b[0m invalid syntax\n"
     ]
    }
   ],
   "source": [
    "else=45"
   ]
  },
  {
   "cell_type": "code",
   "execution_count": 8,
   "id": "091c6c98",
   "metadata": {},
   "outputs": [
    {
     "ename": "SyntaxError",
     "evalue": "invalid syntax. Maybe you meant '==' or ':=' instead of '='? (2277105089.py, line 1)",
     "output_type": "error",
     "traceback": [
      "\u001b[1;36m  Cell \u001b[1;32mIn[8], line 1\u001b[1;36m\u001b[0m\n\u001b[1;33m    @per=80\u001b[0m\n\u001b[1;37m     ^\u001b[0m\n\u001b[1;31mSyntaxError\u001b[0m\u001b[1;31m:\u001b[0m invalid syntax. Maybe you meant '==' or ':=' instead of '='?\n"
     ]
    }
   ],
   "source": [
    "@per=80"
   ]
  },
  {
   "cell_type": "code",
   "execution_count": 9,
   "id": "2ed815a6",
   "metadata": {},
   "outputs": [],
   "source": [
    "sum=45"
   ]
  },
  {
   "cell_type": "code",
   "execution_count": 10,
   "id": "4352d80b",
   "metadata": {},
   "outputs": [
    {
     "data": {
      "text/plain": [
       "int"
      ]
     },
     "execution_count": 10,
     "metadata": {},
     "output_type": "execute_result"
    }
   ],
   "source": [
    "type(sum)"
   ]
  },
  {
   "cell_type": "code",
   "execution_count": 11,
   "id": "9ff4e086",
   "metadata": {},
   "outputs": [],
   "source": [
    "import keyword"
   ]
  },
  {
   "cell_type": "code",
   "execution_count": 12,
   "id": "df4a00bd",
   "metadata": {},
   "outputs": [
    {
     "data": {
      "text/plain": [
       "['False',\n",
       " 'None',\n",
       " 'True',\n",
       " 'and',\n",
       " 'as',\n",
       " 'assert',\n",
       " 'async',\n",
       " 'await',\n",
       " 'break',\n",
       " 'class',\n",
       " 'continue',\n",
       " 'def',\n",
       " 'del',\n",
       " 'elif',\n",
       " 'else',\n",
       " 'except',\n",
       " 'finally',\n",
       " 'for',\n",
       " 'from',\n",
       " 'global',\n",
       " 'if',\n",
       " 'import',\n",
       " 'in',\n",
       " 'is',\n",
       " 'lambda',\n",
       " 'nonlocal',\n",
       " 'not',\n",
       " 'or',\n",
       " 'pass',\n",
       " 'raise',\n",
       " 'return',\n",
       " 'try',\n",
       " 'while',\n",
       " 'with',\n",
       " 'yield']"
      ]
     },
     "execution_count": 12,
     "metadata": {},
     "output_type": "execute_result"
    }
   ],
   "source": [
    "keyword.kwlist"
   ]
  },
  {
   "cell_type": "code",
   "execution_count": 14,
   "id": "acf6bb10",
   "metadata": {},
   "outputs": [
    {
     "data": {
      "text/plain": [
       "35"
      ]
     },
     "execution_count": 14,
     "metadata": {},
     "output_type": "execute_result"
    }
   ],
   "source": [
    "len(keyword.kwlist)"
   ]
  },
  {
   "cell_type": "code",
   "execution_count": 15,
   "id": "968e3f8f",
   "metadata": {},
   "outputs": [
    {
     "data": {
      "text/plain": [
       "7"
      ]
     },
     "execution_count": 15,
     "metadata": {},
     "output_type": "execute_result"
    }
   ],
   "source": [
    "a=3\n",
    "b=4\n",
    "c=a+b\n",
    "c"
   ]
  },
  {
   "cell_type": "code",
   "execution_count": 21,
   "id": "fe574832",
   "metadata": {},
   "outputs": [
    {
     "data": {
      "text/plain": [
       "str"
      ]
     },
     "execution_count": 21,
     "metadata": {},
     "output_type": "execute_result"
    }
   ],
   "source": [
    "type(a)\n",
    "type(b)\n",
    "type(c)"
   ]
  },
  {
   "cell_type": "code",
   "execution_count": 24,
   "id": "04f148b1",
   "metadata": {},
   "outputs": [
    {
     "name": "stdout",
     "output_type": "stream",
     "text": [
      "Enter the No.:   2\n",
      "Enter the No.:   3\n",
      "5\n"
     ]
    }
   ],
   "source": [
    "a=int(input( \"Enter the No.:   \"))\n",
    "b=int(input( \"Enter the No.:   \"))\n",
    "c=a+b\n",
    "print(c)"
   ]
  },
  {
   "cell_type": "code",
   "execution_count": 25,
   "id": "ab341526",
   "metadata": {},
   "outputs": [
    {
     "data": {
      "text/plain": [
       "int"
      ]
     },
     "execution_count": 25,
     "metadata": {},
     "output_type": "execute_result"
    }
   ],
   "source": [
    "type(a)\n",
    "type(b)\n",
    "type(c)"
   ]
  },
  {
   "cell_type": "code",
   "execution_count": 31,
   "id": "478c4612",
   "metadata": {},
   "outputs": [
    {
     "name": "stdout",
     "output_type": "stream",
     "text": [
      "Enter the No.:   5\n",
      "Enter the No.:   3\n",
      "2.0\n"
     ]
    }
   ],
   "source": [
    "a=float(input( \"Enter the No.:   \"))\n",
    "b=int(input( \"Enter the No.:   \"))\n",
    "c=a-b\n",
    "print(c)"
   ]
  },
  {
   "cell_type": "code",
   "execution_count": 26,
   "id": "0e0ab159",
   "metadata": {},
   "outputs": [
    {
     "name": "stdout",
     "output_type": "stream",
     "text": [
      "Enter the No.:   2.3\n",
      "Enter the No.:   4\n",
      "9.2\n"
     ]
    }
   ],
   "source": [
    "a=float(input( \"Enter the No.:   \"))\n",
    "b=int(input( \"Enter the No.:   \"))\n",
    "c=a*b\n",
    "print(c)"
   ]
  },
  {
   "cell_type": "code",
   "execution_count": null,
   "id": "b3d627f3",
   "metadata": {},
   "outputs": [],
   "source": [
    "a=float(input( \"Enter the No.:   \"))\n",
    "b=int(input( \"Enter the No.:   \"))\n",
    "c=a*b\n",
    "print(c)"
   ]
  },
  {
   "cell_type": "markdown",
   "id": "0876d075",
   "metadata": {},
   "source": [
    "# Area Of Circle"
   ]
  },
  {
   "cell_type": "code",
   "execution_count": 30,
   "id": "981b853f",
   "metadata": {},
   "outputs": [
    {
     "name": "stdout",
     "output_type": "stream",
     "text": [
      "Enter the radius : 5\n"
     ]
    },
    {
     "data": {
      "text/plain": [
       "78.5"
      ]
     },
     "execution_count": 30,
     "metadata": {},
     "output_type": "execute_result"
    }
   ],
   "source": [
    "r=int(input(\"Enter the radius : \"))\n",
    "pie=3.14\n",
    "area=pie*r**2\n",
    "area"
   ]
  },
  {
   "cell_type": "markdown",
   "id": "eb9b2d0c",
   "metadata": {},
   "source": [
    "# Area Of Triangle"
   ]
  },
  {
   "cell_type": "code",
   "execution_count": 34,
   "id": "5332b43f",
   "metadata": {},
   "outputs": [
    {
     "name": "stdout",
     "output_type": "stream",
     "text": [
      "Enter the Height3\n",
      "Enter the Base2\n"
     ]
    },
    {
     "data": {
      "text/plain": [
       "3.0"
      ]
     },
     "execution_count": 34,
     "metadata": {},
     "output_type": "execute_result"
    }
   ],
   "source": [
    "Height=int(input(\"Enter the Height\" ))\n",
    "Base=int(input(\"Enter the Base\"))\n",
    "Area=0.5*Height*Base\n",
    "Area"
   ]
  },
  {
   "cell_type": "markdown",
   "id": "19662955",
   "metadata": {},
   "source": [
    "# Area Of Rectangle"
   ]
  },
  {
   "cell_type": "code",
   "execution_count": 36,
   "id": "b7525b28",
   "metadata": {},
   "outputs": [
    {
     "name": "stdout",
     "output_type": "stream",
     "text": [
      "Enter the lenght3\n",
      "Enter the breath2\n"
     ]
    },
    {
     "data": {
      "text/plain": [
       "6"
      ]
     },
     "execution_count": 36,
     "metadata": {},
     "output_type": "execute_result"
    }
   ],
   "source": [
    "lenght=int(input(\"Enter the lenght\" ))\n",
    "breath=int(input(\"Enter the breath\"))\n",
    "area=lenght*breath\n",
    "area"
   ]
  },
  {
   "cell_type": "markdown",
   "id": "8d920489",
   "metadata": {},
   "source": [
    "# Area Of Square"
   ]
  },
  {
   "cell_type": "code",
   "execution_count": 37,
   "id": "b818a0b7",
   "metadata": {},
   "outputs": [
    {
     "name": "stdout",
     "output_type": "stream",
     "text": [
      "Enter the value of side of Square 5\n"
     ]
    },
    {
     "data": {
      "text/plain": [
       "25"
      ]
     },
     "execution_count": 37,
     "metadata": {},
     "output_type": "execute_result"
    }
   ],
   "source": [
    "side=int(input(\"Enter the value of side of Square \" ))\n",
    "area=side**2\n",
    "area"
   ]
  },
  {
   "cell_type": "markdown",
   "id": "3262ff77",
   "metadata": {},
   "source": [
    "# conditional statement"
   ]
  },
  {
   "cell_type": "markdown",
   "id": "fed7d2ba",
   "metadata": {},
   "source": [
    "1)if statement\n",
    "Syntax : \n",
    "if(condition/Expression):\n",
    "----Bussiness logic\n",
    "----Bussiness logic\n",
    "----Bussiness logic\n",
    "print(\"hello\")\n",
    "\n",
    "2)if else statement\n",
    "Syntax : \n",
    "if(condition/Expression):\n",
    "----Bussiness logic\n",
    "----Bussiness logic\n",
    "----Bussiness logic\n",
    "else:\n",
    "print(\"hello\")\n",
    "\n",
    "3)Syntax : \n",
    "if(condition/Expression):\n",
    "----Bussiness logic\n",
    "----Bussiness logic\n",
    "----Bussiness logic\n",
    "elif:(condition/Expression):\n",
    "----Bussiness logic\n",
    "----Bussiness logic\n",
    "----Bussiness logic\n",
    "elif:(condition/Expression):\n",
    "----Bussiness logic\n",
    "----Bussiness logic\n",
    "----Bussiness logic\n",
    "else:\n",
    "print(\"hello\")\n"
   ]
  },
  {
   "cell_type": "code",
   "execution_count": 38,
   "id": "a2cbd1a9",
   "metadata": {},
   "outputs": [
    {
     "name": "stdout",
     "output_type": "stream",
     "text": [
      "a is greater\n"
     ]
    }
   ],
   "source": [
    "a=20\n",
    "b=10\n",
    "if a>b:\n",
    "    print('a is greater')\n",
    "    "
   ]
  },
  {
   "cell_type": "code",
   "execution_count": 41,
   "id": "b30c82ad",
   "metadata": {},
   "outputs": [
    {
     "name": "stdout",
     "output_type": "stream",
     "text": [
      "enter the no :4\n",
      "a is even\n"
     ]
    }
   ],
   "source": [
    "a=int(input(\"enter the no :\"))\n",
    "if a%2==0:\n",
    "            print('a is even')\n",
    "else:\n",
    "            print('a is odd')\n",
    "            "
   ]
  },
  {
   "cell_type": "code",
   "execution_count": 43,
   "id": "c879de01",
   "metadata": {},
   "outputs": [
    {
     "name": "stdout",
     "output_type": "stream",
     "text": [
      "enter the no :0\n",
      "Its zero\n"
     ]
    }
   ],
   "source": [
    "a=int(input(\"enter the no :\"))\n",
    "if a>0:\n",
    "            print('a is positive')\n",
    "elif a<0:\n",
    "            print('a is negative')\n",
    "else:\n",
    "            print(\"Its zero\")"
   ]
  },
  {
   "cell_type": "code",
   "execution_count": null,
   "id": "c004d940",
   "metadata": {},
   "outputs": [],
   "source": [
    "#Batch Name: 26-May-25-CDS/AEN/CDS-WDM1130-PUN\n",
    "#Event: 02 -Jun-25-PYF-WDM1130-PUN\n",
    "   "
   ]
  },
  {
   "cell_type": "code",
   "execution_count": 3,
   "id": "a4dd59a4",
   "metadata": {},
   "outputs": [
    {
     "name": "stdout",
     "output_type": "stream",
     "text": [
      "Enter the marks: 22\n",
      "failed\n",
      " Better luck next time\n"
     ]
    }
   ],
   "source": [
    "marks=int(input(\"Enter the marks: \"))\n",
    "if marks>=35:\n",
    "    print(\"passed\")\n",
    "    print(\"Congratulations !!\")\n",
    "else:\n",
    "    print(\"failed\")\n",
    "print(\" Better luck next time !!\")"
   ]
  },
  {
   "cell_type": "code",
   "execution_count": 7,
   "id": "2075c0b7",
   "metadata": {},
   "outputs": [
    {
     "name": "stdout",
     "output_type": "stream",
     "text": [
      "Enter the marks: 90\n",
      "pass with distinction\n",
      "Congratulations !!\n"
     ]
    }
   ],
   "source": [
    "marks=int(input(\"Enter the marks: \"))\n",
    "if marks>=75:\n",
    "    print(\"pass with distinction\")\n",
    "    print(\"Congratulations !!\")\n",
    "elif marks>=70:\n",
    "    print(\"pass in First class\")\n",
    "    print(\"Congratulations !!\")\n",
    "elif marks>=60:\n",
    "    print(\"pass in second class\")\n",
    "    print(\"Congratulations !!\")\n",
    "elif marks<35:\n",
    "    print(\"failed\")\n",
    "    print(\" Better luck next time !!\")"
   ]
  },
  {
   "cell_type": "raw",
   "id": "9ebaaadb",
   "metadata": {},
   "source": [
    "# 3-JUNE-2025"
   ]
  },
  {
   "cell_type": "markdown",
   "id": "2da2433c",
   "metadata": {},
   "source": [
    "# For looping\n",
    "1)while\n",
    "2) for\n"
   ]
  },
  {
   "cell_type": "code",
   "execution_count": 8,
   "id": "b53a76ff",
   "metadata": {},
   "outputs": [
    {
     "name": "stdout",
     "output_type": "stream",
     "text": [
      "hello\n",
      "hello\n",
      "hello\n",
      "hello\n",
      "hello\n",
      "hello\n",
      "hello\n",
      "hello\n",
      "hello\n",
      "hello\n",
      "complete\n"
     ]
    }
   ],
   "source": [
    "i=1\n",
    "while i<=10:\n",
    "    print(\"hello\")\n",
    "    i=i+1\n",
    "print(\"complete\")"
   ]
  },
  {
   "cell_type": "code",
   "execution_count": 2,
   "id": "fe16f923",
   "metadata": {},
   "outputs": [
    {
     "name": "stdout",
     "output_type": "stream",
     "text": [
      "1\n",
      "2\n",
      "3\n",
      "4\n",
      "5\n",
      "6\n",
      "7\n",
      "8\n",
      "9\n",
      "10\n",
      "complete\n"
     ]
    }
   ],
   "source": [
    "i=1\n",
    "while i<=10:\n",
    "    print(i)\n",
    "    i=i+1\n",
    "print(\"complete\")"
   ]
  },
  {
   "cell_type": "code",
   "execution_count": 9,
   "id": "9273d46f",
   "metadata": {},
   "outputs": [
    {
     "name": "stdout",
     "output_type": "stream",
     "text": [
      "Enter the no2\n",
      "2\n",
      "4\n",
      "6\n",
      "8\n",
      "10\n",
      "12\n",
      "14\n",
      "16\n",
      "18\n",
      "20\n"
     ]
    }
   ],
   "source": [
    "No=int(input(\"Enter the no\" ))\n",
    "i=1\n",
    "while (i<=10):\n",
    "    print(i*No)\n",
    "    i=i+1\n"
   ]
  },
  {
   "cell_type": "code",
   "execution_count": 2,
   "id": "6f93795c",
   "metadata": {},
   "outputs": [
    {
     "name": "stdout",
     "output_type": "stream",
     "text": [
      "Enter the no4\n",
      "24\n"
     ]
    }
   ],
   "source": [
    "no=int(input(\"Enter the no\" ))\n",
    "i=1\n",
    "fact=1\n",
    "while(i<=no):\n",
    "    fact=fact*i\n",
    "    i=i+1\n",
    "print(fact)\n"
   ]
  },
  {
   "cell_type": "code",
   "execution_count": 5,
   "id": "1fcd2ce9",
   "metadata": {},
   "outputs": [
    {
     "name": "stdout",
     "output_type": "stream",
     "text": [
      "Enter the no5\n",
      "Enter the no5\n",
      "3125\n"
     ]
    }
   ],
   "source": [
    "m=int(input(\"Enter the no\" ))\n",
    "n=int(input(\"Enter the no\" ))\n",
    "i=1\n",
    "power=1\n",
    "while(i<=n):\n",
    "    power=power*m\n",
    "    i=i+1\n",
    "print(power)\n",
    "    "
   ]
  },
  {
   "cell_type": "markdown",
   "id": "28e2de19",
   "metadata": {},
   "source": [
    "#quetions#\n",
    "1)take input from user 123outputis sum of that no like (1+2+3)print the sum of digit of given number.\n",
    "\n",
    "2)print reverse the given number\n",
    "\n",
    "3)check the palindrome number\n",
    "\n",
    "4)check the given number is magic/armstrong (check only for 3 digit)\n"
   ]
  },
  {
   "cell_type": "code",
   "execution_count": 2,
   "id": "24754a14",
   "metadata": {},
   "outputs": [
    {
     "name": "stdout",
     "output_type": "stream",
     "text": [
      "enter the no : 345\n",
      "12\n"
     ]
    }
   ],
   "source": [
    "# sum of the digit of given number\n",
    "no=int(input(\"enter the no : \"))\n",
    "sum=0\n",
    "while(no>0):\n",
    "        digit=no % 10\n",
    "        sum=sum+digit\n",
    "        no=no//10\n",
    "print(sum)\n",
    "    "
   ]
  },
  {
   "cell_type": "code",
   "execution_count": 1,
   "id": "38cc35f2",
   "metadata": {},
   "outputs": [
    {
     "name": "stdout",
     "output_type": "stream",
     "text": [
      "Enter the no 234\n",
      "9\n"
     ]
    }
   ],
   "source": [
    "no=int(input(\"Enter the no \"))\n",
    "sum=0\n",
    "while True:\n",
    "    digit=no % 10\n",
    "    sum=sum+digit\n",
    "    no=no//10\n",
    "    if no==0:\n",
    "        break\n",
    "print(sum)"
   ]
  },
  {
   "cell_type": "code",
   "execution_count": 28,
   "id": "9cd36a01",
   "metadata": {},
   "outputs": [
    {
     "name": "stdout",
     "output_type": "stream",
     "text": [
      "7\n",
      "6\n",
      "5\n"
     ]
    }
   ],
   "source": [
    "# print the given number in reverse order\n",
    "no=567\n",
    "i=0\n",
    "while(no>0):\n",
    "    digit=no %10\n",
    "    i=digit\n",
    "    no=no//10\n",
    "    print(i)    \n",
    "    \n"
   ]
  },
  {
   "cell_type": "code",
   "execution_count": 2,
   "id": "29f8fa41",
   "metadata": {},
   "outputs": [
    {
     "name": "stdout",
     "output_type": "stream",
     "text": [
      "1\n",
      "2\n",
      "1\n"
     ]
    }
   ],
   "source": [
    "#check the given no is palindrome\n",
    "no=121\n",
    "i=1\n",
    "while(no>0):\n",
    "    digit=no%10\n",
    "    i=digit\n",
    "    print(i)\n",
    "    no=no//10\n"
   ]
  },
  {
   "cell_type": "markdown",
   "id": "6cc58a33",
   "metadata": {},
   "source": [
    "# for loop"
   ]
  },
  {
   "cell_type": "code",
   "execution_count": 17,
   "id": "5f1b803c",
   "metadata": {},
   "outputs": [
    {
     "data": {
      "text/plain": [
       "range(0, 20)"
      ]
     },
     "execution_count": 17,
     "metadata": {},
     "output_type": "execute_result"
    }
   ],
   "source": [
    "range(1,20,1)\n",
    "range(1,20)\n",
    "range(20)\n",
    "range(20,1,-1)"
   ]
  },
  {
   "cell_type": "code",
   "execution_count": 21,
   "id": "b3df246b",
   "metadata": {},
   "outputs": [
    {
     "data": {
      "text/plain": [
       "[1, 2, 3, 4, 5, 6, 7, 8, 9, 10, 11, 12, 13, 14, 15, 16, 17, 18, 19]"
      ]
     },
     "execution_count": 21,
     "metadata": {},
     "output_type": "execute_result"
    }
   ],
   "source": [
    "list(range(1,20,1))"
   ]
  },
  {
   "cell_type": "code",
   "execution_count": 22,
   "id": "110cda57",
   "metadata": {},
   "outputs": [
    {
     "data": {
      "text/plain": [
       "[1, 2, 3, 4, 5, 6, 7, 8, 9, 10, 11, 12, 13, 14, 15, 16, 17, 18, 19]"
      ]
     },
     "execution_count": 22,
     "metadata": {},
     "output_type": "execute_result"
    }
   ],
   "source": [
    "list(range(1,20))\n"
   ]
  },
  {
   "cell_type": "code",
   "execution_count": 23,
   "id": "d3468101",
   "metadata": {},
   "outputs": [
    {
     "data": {
      "text/plain": [
       "[0, 1, 2, 3, 4, 5, 6, 7, 8, 9, 10, 11, 12, 13, 14, 15, 16, 17, 18, 19]"
      ]
     },
     "execution_count": 23,
     "metadata": {},
     "output_type": "execute_result"
    }
   ],
   "source": [
    "list(range(20))"
   ]
  },
  {
   "cell_type": "code",
   "execution_count": 24,
   "id": "576ffd05",
   "metadata": {},
   "outputs": [
    {
     "data": {
      "text/plain": [
       "[20, 19, 18, 17, 16, 15, 14, 13, 12, 11, 10, 9, 8, 7, 6, 5, 4, 3, 2]"
      ]
     },
     "execution_count": 24,
     "metadata": {},
     "output_type": "execute_result"
    }
   ],
   "source": [
    "list(range(20,1,-1))"
   ]
  },
  {
   "cell_type": "code",
   "execution_count": 25,
   "id": "1d8ef6fb",
   "metadata": {},
   "outputs": [
    {
     "name": "stdout",
     "output_type": "stream",
     "text": [
      "1\n",
      "2\n",
      "3\n",
      "4\n",
      "5\n",
      "6\n",
      "7\n",
      "8\n",
      "9\n",
      "10\n"
     ]
    }
   ],
   "source": [
    "for i in range(1,11,1):\n",
    "    print(i)"
   ]
  },
  {
   "cell_type": "code",
   "execution_count": 27,
   "id": "12575b78",
   "metadata": {},
   "outputs": [
    {
     "name": "stdout",
     "output_type": "stream",
     "text": [
      "enter the no: 2\n",
      "2\n",
      "4\n",
      "6\n",
      "8\n",
      "10\n",
      "12\n",
      "14\n",
      "16\n",
      "18\n",
      "20\n"
     ]
    }
   ],
   "source": [
    "num=int(input(\"enter the no: \"))\n",
    "for i in range(1,11,1):\n",
    "    print(i*num)\n",
    "    i=i+1"
   ]
  },
  {
   "cell_type": "code",
   "execution_count": 7,
   "id": "4cd8c6c1",
   "metadata": {},
   "outputs": [
    {
     "name": "stdout",
     "output_type": "stream",
     "text": [
      "11  22  33  44  55  66  77  88  99  110  \n",
      "12  24  36  48  60  72  84  96  108  120  \n",
      "13  26  39  52  65  78  91  104  117  130  \n",
      "14  28  42  56  70  84  98  112  126  140  \n",
      "15  30  45  60  75  90  105  120  135  150  \n",
      "16  32  48  64  80  96  112  128  144  160  \n",
      "17  34  51  68  85  102  119  136  153  170  \n",
      "18  36  54  72  90  108  126  144  162  180  \n",
      "19  38  57  76  95  114  133  152  171  190  \n",
      "20  40  60  80  100  120  140  160  180  200  \n"
     ]
    }
   ],
   "source": [
    "for i in range(11,21):\n",
    "    for j in range(1,11,1):\n",
    "        print(i*j,end=\"  \")\n",
    "    print()\n",
    "    "
   ]
  },
  {
   "cell_type": "raw",
   "id": "c1463c11",
   "metadata": {},
   "source": [
    "4-JUN-25"
   ]
  },
  {
   "cell_type": "code",
   "execution_count": 13,
   "id": "36e4315e",
   "metadata": {},
   "outputs": [
    {
     "name": "stdout",
     "output_type": "stream",
     "text": [
      "*\n",
      "**\n",
      "***\n",
      "****\n"
     ]
    }
   ],
   "source": [
    "j=\"*\"\n",
    "for i in range(1,5):\n",
    "    print(i*j)\n",
    "    #print(\"*\"*i)\n",
    "    i=i+1\n",
    "    "
   ]
  },
  {
   "cell_type": "code",
   "execution_count": 26,
   "id": "b658105a",
   "metadata": {},
   "outputs": [
    {
     "name": "stdout",
     "output_type": "stream",
     "text": [
      "#\n",
      "&&\n",
      "###\n",
      "&&&&\n"
     ]
    }
   ],
   "source": [
    "for i in range(1,5):\n",
    "    if i%2==0:\n",
    "        print(i*\"&\")\n",
    "    else:\n",
    "            print(i*\"#\")\n"
   ]
  },
  {
   "cell_type": "code",
   "execution_count": 39,
   "id": "b9d09172",
   "metadata": {},
   "outputs": [
    {
     "name": "stdout",
     "output_type": "stream",
     "text": [
      "1 \n",
      "1 2 \n",
      "1 2 3 \n",
      "1 2 3 4 \n"
     ]
    }
   ],
   "source": [
    "for i in range (1,5):\n",
    "    for j in range(1,i+1):\n",
    "        print(j,end=\" \")\n",
    "    print()"
   ]
  },
  {
   "cell_type": "code",
   "execution_count": 9,
   "id": "b19cf2a6",
   "metadata": {},
   "outputs": [
    {
     "name": "stdout",
     "output_type": "stream",
     "text": [
      "1 \n",
      "2 2 \n",
      "3 3 3 \n",
      "4 4 4 4 \n"
     ]
    }
   ],
   "source": [
    "for i in range (1,5):\n",
    "    for j in range(1,i+1):\n",
    "        print(i,end=\" \")\n",
    "    print()"
   ]
  },
  {
   "cell_type": "code",
   "execution_count": 6,
   "id": "80927bfa",
   "metadata": {},
   "outputs": [
    {
     "name": "stdout",
     "output_type": "stream",
     "text": [
      "1 \n",
      "2 3 \n",
      "4 5 6 \n",
      "7 8 9 10 \n"
     ]
    }
   ],
   "source": [
    "k=1\n",
    "for i in range(1,5):\n",
    "    for j in range(1,i+1):\n",
    "        print(k,end=\" \")\n",
    "        k+=1\n",
    "    print()\n",
    "    \n",
    "    "
   ]
  },
  {
   "cell_type": "markdown",
   "id": "5f4dfaac",
   "metadata": {},
   "source": [
    "Array: stored same type of variables.(operation perform using \"numpy\"\" library)\n",
    "datatypes: 1)list 2)tuple 3)set 4)Dicttionary 5)Array 6)strinug 7) series 8) Dataframe \n",
    ".  for series and dataframe use (\"pandas\")"
   ]
  },
  {
   "cell_type": "markdown",
   "id": "593ee54f",
   "metadata": {},
   "source": [
    "# 1) LIST"
   ]
  },
  {
   "cell_type": "code",
   "execution_count": 2,
   "id": "ef4a3bf5",
   "metadata": {},
   "outputs": [],
   "source": [
    "L=[10,20,30,40,50,60,70,80,90]"
   ]
  },
  {
   "cell_type": "code",
   "execution_count": 3,
   "id": "79e4ea76",
   "metadata": {},
   "outputs": [
    {
     "data": {
      "text/plain": [
       "10"
      ]
     },
     "execution_count": 3,
     "metadata": {},
     "output_type": "execute_result"
    }
   ],
   "source": [
    "L[0]"
   ]
  },
  {
   "cell_type": "code",
   "execution_count": 4,
   "id": "0ae12a51",
   "metadata": {},
   "outputs": [
    {
     "data": {
      "text/plain": [
       "60"
      ]
     },
     "execution_count": 4,
     "metadata": {},
     "output_type": "execute_result"
    }
   ],
   "source": [
    "L[5]"
   ]
  },
  {
   "cell_type": "code",
   "execution_count": 5,
   "id": "9d6a8017",
   "metadata": {},
   "outputs": [
    {
     "data": {
      "text/plain": [
       "90"
      ]
     },
     "execution_count": 5,
     "metadata": {},
     "output_type": "execute_result"
    }
   ],
   "source": [
    "L[-1]"
   ]
  },
  {
   "cell_type": "code",
   "execution_count": 6,
   "id": "c305fe0c",
   "metadata": {},
   "outputs": [
    {
     "name": "stdout",
     "output_type": "stream",
     "text": [
      "[10, 20, 30, 40, 100, 60, 70, 80, 90]\n"
     ]
    }
   ],
   "source": [
    "L[4]=100\n",
    "print(L)"
   ]
  },
  {
   "cell_type": "code",
   "execution_count": 7,
   "id": "b781315c",
   "metadata": {},
   "outputs": [
    {
     "data": {
      "text/plain": [
       "[10, 20, 30, 40, 100]"
      ]
     },
     "execution_count": 7,
     "metadata": {},
     "output_type": "execute_result"
    }
   ],
   "source": [
    "L[0:5:1]"
   ]
  },
  {
   "cell_type": "code",
   "execution_count": 8,
   "id": "9867bb80",
   "metadata": {},
   "outputs": [
    {
     "data": {
      "text/plain": [
       "list"
      ]
     },
     "execution_count": 8,
     "metadata": {},
     "output_type": "execute_result"
    }
   ],
   "source": [
    "type(L)"
   ]
  },
  {
   "cell_type": "code",
   "execution_count": 9,
   "id": "b03349e8",
   "metadata": {},
   "outputs": [
    {
     "data": {
      "text/plain": [
       "[10, 40, 70]"
      ]
     },
     "execution_count": 9,
     "metadata": {},
     "output_type": "execute_result"
    }
   ],
   "source": [
    "L[0:8:3]"
   ]
  },
  {
   "cell_type": "code",
   "execution_count": 10,
   "id": "9c9a458a",
   "metadata": {},
   "outputs": [
    {
     "data": {
      "text/plain": [
       "[10, 20, 30, 40, 100, 60, 70, 80, 90]"
      ]
     },
     "execution_count": 10,
     "metadata": {},
     "output_type": "execute_result"
    }
   ],
   "source": [
    "L[:]"
   ]
  },
  {
   "cell_type": "code",
   "execution_count": 11,
   "id": "4cbd10a3",
   "metadata": {},
   "outputs": [
    {
     "data": {
      "text/plain": [
       "[10, 20, 30, 40, 100, 60, 70, 80, 90]"
      ]
     },
     "execution_count": 11,
     "metadata": {},
     "output_type": "execute_result"
    }
   ],
   "source": [
    "L[::]"
   ]
  },
  {
   "cell_type": "code",
   "execution_count": 12,
   "id": "494fd9d1",
   "metadata": {},
   "outputs": [
    {
     "data": {
      "text/plain": [
       "[90, 80, 70, 60, 100, 40, 30, 20, 10]"
      ]
     },
     "execution_count": 12,
     "metadata": {},
     "output_type": "execute_result"
    }
   ],
   "source": [
    "L[::-1]"
   ]
  },
  {
   "cell_type": "code",
   "execution_count": 13,
   "id": "a1179c73",
   "metadata": {},
   "outputs": [
    {
     "data": {
      "text/plain": [
       "9"
      ]
     },
     "execution_count": 13,
     "metadata": {},
     "output_type": "execute_result"
    }
   ],
   "source": [
    "len(L)"
   ]
  },
  {
   "cell_type": "code",
   "execution_count": 14,
   "id": "aeb0b2ba",
   "metadata": {},
   "outputs": [
    {
     "data": {
      "text/plain": [
       "[10, 20, 30, 40, 100, 60, 70, 80, 90]"
      ]
     },
     "execution_count": 14,
     "metadata": {},
     "output_type": "execute_result"
    }
   ],
   "source": [
    "L"
   ]
  },
  {
   "cell_type": "code",
   "execution_count": 15,
   "id": "681feff8",
   "metadata": {},
   "outputs": [],
   "source": [
    "l1=[10,20,30,40,50,60,70,80,90,100]"
   ]
  },
  {
   "cell_type": "code",
   "execution_count": 16,
   "id": "d35666ea",
   "metadata": {},
   "outputs": [
    {
     "data": {
      "text/plain": [
       "[100, 90, 80, 70, 60, 50, 40, 30, 20, 10]"
      ]
     },
     "execution_count": 16,
     "metadata": {},
     "output_type": "execute_result"
    }
   ],
   "source": [
    "l1[::-1]"
   ]
  },
  {
   "cell_type": "code",
   "execution_count": 17,
   "id": "67343aa1",
   "metadata": {},
   "outputs": [
    {
     "data": {
      "text/plain": [
       "10"
      ]
     },
     "execution_count": 17,
     "metadata": {},
     "output_type": "execute_result"
    }
   ],
   "source": [
    "len(l1)"
   ]
  },
  {
   "cell_type": "code",
   "execution_count": 18,
   "id": "5ed7ddac",
   "metadata": {},
   "outputs": [
    {
     "data": {
      "text/plain": [
       "[50, 60, 70, 80, 90]"
      ]
     },
     "execution_count": 18,
     "metadata": {},
     "output_type": "execute_result"
    }
   ],
   "source": [
    "l1[4:9:1]"
   ]
  },
  {
   "cell_type": "code",
   "execution_count": 19,
   "id": "171513f9",
   "metadata": {},
   "outputs": [
    {
     "name": "stdout",
     "output_type": "stream",
     "text": [
      "<class 'list'>\n"
     ]
    }
   ],
   "source": [
    "print(type(l1))"
   ]
  },
  {
   "cell_type": "code",
   "execution_count": 20,
   "id": "3dbf7d05",
   "metadata": {},
   "outputs": [
    {
     "data": {
      "text/plain": [
       "[10, 20, 30, 40, 50, 60, 70, 80, 90, 100, 20]"
      ]
     },
     "execution_count": 20,
     "metadata": {},
     "output_type": "execute_result"
    }
   ],
   "source": [
    "l1.append(20)\n",
    "l1"
   ]
  },
  {
   "cell_type": "code",
   "execution_count": 21,
   "id": "80dde547",
   "metadata": {},
   "outputs": [
    {
     "data": {
      "text/plain": [
       "[10, 20, 30, 40, 50, 60, 70, 80, 90, 100, 20, 500]"
      ]
     },
     "execution_count": 21,
     "metadata": {},
     "output_type": "execute_result"
    }
   ],
   "source": [
    "l1.append(500)\n",
    "l1"
   ]
  },
  {
   "cell_type": "code",
   "execution_count": 27,
   "id": "e40091ac",
   "metadata": {},
   "outputs": [
    {
     "ename": "TypeError",
     "evalue": "list.append() takes exactly one argument (2 given)",
     "output_type": "error",
     "traceback": [
      "\u001b[1;31m---------------------------------------------------------------------------\u001b[0m",
      "\u001b[1;31mTypeError\u001b[0m                                 Traceback (most recent call last)",
      "Cell \u001b[1;32mIn[27], line 1\u001b[0m\n\u001b[1;32m----> 1\u001b[0m \u001b[43ml1\u001b[49m\u001b[38;5;241;43m.\u001b[39;49m\u001b[43mappend\u001b[49m\u001b[43m(\u001b[49m\u001b[38;5;241;43m2\u001b[39;49m\u001b[43m,\u001b[49m\u001b[38;5;241;43m3\u001b[39;49m\u001b[43m)\u001b[49m\n",
      "\u001b[1;31mTypeError\u001b[0m: list.append() takes exactly one argument (2 given)"
     ]
    }
   ],
   "source": [
    "l1.append(2,3)  #only give single elemrnt in append method"
   ]
  },
  {
   "cell_type": "code",
   "execution_count": 24,
   "id": "0ec6a046",
   "metadata": {},
   "outputs": [
    {
     "data": {
      "text/plain": [
       "[100, 10, 20, 30, 20, 40, 50, 60, 70, 80, 90, 100, 20, 500, [200, 303, 400]]"
      ]
     },
     "execution_count": 24,
     "metadata": {},
     "output_type": "execute_result"
    }
   ],
   "source": [
    "l1.append([200,303,400,])\n",
    "l1"
   ]
  },
  {
   "cell_type": "code",
   "execution_count": 26,
   "id": "8c0b7086",
   "metadata": {},
   "outputs": [
    {
     "data": {
      "text/plain": [
       "[200, 303, 400]"
      ]
     },
     "execution_count": 26,
     "metadata": {},
     "output_type": "execute_result"
    }
   ],
   "source": [
    "l1[-1]"
   ]
  },
  {
   "cell_type": "code",
   "execution_count": 30,
   "id": "14880710",
   "metadata": {},
   "outputs": [
    {
     "ename": "AttributeError",
     "evalue": "'list' object has no attribute 'apend'",
     "output_type": "error",
     "traceback": [
      "\u001b[1;31m---------------------------------------------------------------------------\u001b[0m",
      "\u001b[1;31mAttributeError\u001b[0m                            Traceback (most recent call last)",
      "Cell \u001b[1;32mIn[30], line 1\u001b[0m\n\u001b[1;32m----> 1\u001b[0m \u001b[43ml1\u001b[49m\u001b[38;5;241;43m.\u001b[39;49m\u001b[43mapend\u001b[49m[\u001b[38;5;241m30\u001b[39m]\n",
      "\u001b[1;31mAttributeError\u001b[0m: 'list' object has no attribute 'apend'"
     ]
    }
   ],
   "source": [
    "l1.apend[30]  #apend not involve in this class"
   ]
  },
  {
   "cell_type": "code",
   "execution_count": 22,
   "id": "9fa589ad",
   "metadata": {},
   "outputs": [
    {
     "data": {
      "text/plain": [
       "[10, 20, 30, 20, 40, 50, 60, 70, 80, 90, 100, 20, 500]"
      ]
     },
     "execution_count": 22,
     "metadata": {},
     "output_type": "execute_result"
    }
   ],
   "source": [
    "l1.insert(3,20)\n",
    "l1"
   ]
  },
  {
   "cell_type": "code",
   "execution_count": 23,
   "id": "7b845be6",
   "metadata": {},
   "outputs": [
    {
     "data": {
      "text/plain": [
       "[100, 10, 20, 30, 20, 40, 50, 60, 70, 80, 90, 100, 20, 500]"
      ]
     },
     "execution_count": 23,
     "metadata": {},
     "output_type": "execute_result"
    }
   ],
   "source": [
    "l1.insert(0,100)\n",
    "l1"
   ]
  },
  {
   "cell_type": "code",
   "execution_count": 31,
   "id": "1664e384",
   "metadata": {},
   "outputs": [
    {
     "data": {
      "text/plain": [
       "[[7, 77, 777],\n",
       " 100,\n",
       " 10,\n",
       " 20,\n",
       " 30,\n",
       " 20,\n",
       " 40,\n",
       " 50,\n",
       " 60,\n",
       " 70,\n",
       " 80,\n",
       " 90,\n",
       " 100,\n",
       " 20,\n",
       " 500,\n",
       " [200, 303, 400],\n",
       " 9,\n",
       " 99,\n",
       " 999,\n",
       " 9999]"
      ]
     },
     "execution_count": 31,
     "metadata": {},
     "output_type": "execute_result"
    }
   ],
   "source": [
    "l1.insert(0,[7,77,777])\n",
    "l1"
   ]
  },
  {
   "cell_type": "code",
   "execution_count": 32,
   "id": "ab65caaa",
   "metadata": {},
   "outputs": [
    {
     "data": {
      "text/plain": [
       "[[7, 77, 777],\n",
       " 100,\n",
       " 10,\n",
       " 20,\n",
       " 30,\n",
       " 20,\n",
       " 40,\n",
       " 50,\n",
       " 60,\n",
       " 70,\n",
       " 80,\n",
       " 90,\n",
       " 100,\n",
       " 20,\n",
       " 500,\n",
       " [200, 303, 400],\n",
       " 9,\n",
       " 99,\n",
       " 999,\n",
       " 9999,\n",
       " 9,\n",
       " 99,\n",
       " 999,\n",
       " 9999]"
      ]
     },
     "execution_count": 32,
     "metadata": {},
     "output_type": "execute_result"
    }
   ],
   "source": [
    "l1.extend([9,99,999,9999])\n",
    "l1"
   ]
  },
  {
   "cell_type": "code",
   "execution_count": 36,
   "id": "d6ca9eb0",
   "metadata": {},
   "outputs": [
    {
     "ename": "TypeError",
     "evalue": "'int' object is not iterable",
     "output_type": "error",
     "traceback": [
      "\u001b[1;31m---------------------------------------------------------------------------\u001b[0m",
      "\u001b[1;31mTypeError\u001b[0m                                 Traceback (most recent call last)",
      "Cell \u001b[1;32mIn[36], line 1\u001b[0m\n\u001b[1;32m----> 1\u001b[0m \u001b[43ml1\u001b[49m\u001b[38;5;241;43m.\u001b[39;49m\u001b[43mextend\u001b[49m\u001b[43m(\u001b[49m\u001b[38;5;241;43m40\u001b[39;49m\u001b[43m)\u001b[49m\n\u001b[0;32m      2\u001b[0m l1\n",
      "\u001b[1;31mTypeError\u001b[0m: 'int' object is not iterable"
     ]
    }
   ],
   "source": [
    "l1.extend(40) # extend has collection of object like [10,40,60]\n",
    "l1"
   ]
  },
  {
   "cell_type": "code",
   "execution_count": 37,
   "id": "1e1301c9",
   "metadata": {},
   "outputs": [
    {
     "data": {
      "text/plain": [
       "[8, 88, 888, 8888]"
      ]
     },
     "execution_count": 37,
     "metadata": {},
     "output_type": "execute_result"
    }
   ],
   "source": [
    "l2=[8,88,888,8888]\n",
    "l2"
   ]
  },
  {
   "cell_type": "code",
   "execution_count": 38,
   "id": "81f69699",
   "metadata": {},
   "outputs": [
    {
     "data": {
      "text/plain": [
       "[[7, 77, 777],\n",
       " 100,\n",
       " 10,\n",
       " 20,\n",
       " 30,\n",
       " 20,\n",
       " 40,\n",
       " 50,\n",
       " 60,\n",
       " 70,\n",
       " 80,\n",
       " 90,\n",
       " 100,\n",
       " 20,\n",
       " 500,\n",
       " [200, 303, 400],\n",
       " 9,\n",
       " 99,\n",
       " 999,\n",
       " 9999,\n",
       " 9,\n",
       " 99,\n",
       " 999,\n",
       " 9999]"
      ]
     },
     "execution_count": 38,
     "metadata": {},
     "output_type": "execute_result"
    }
   ],
   "source": [
    "l=l1+l2\n",
    "l1"
   ]
  },
  {
   "cell_type": "code",
   "execution_count": 16,
   "id": "b110b726",
   "metadata": {},
   "outputs": [],
   "source": [
    "l=[10,20,30,40,50,60,70,80,90,100]"
   ]
  },
  {
   "cell_type": "code",
   "execution_count": 13,
   "id": "5d5dabe4",
   "metadata": {},
   "outputs": [
    {
     "data": {
      "text/plain": [
       "[10, 20, 30, 40, 50, 60, 70, 80, 90, 100]"
      ]
     },
     "execution_count": 13,
     "metadata": {},
     "output_type": "execute_result"
    }
   ],
   "source": [
    "squarelist=l*2\n",
    "l"
   ]
  },
  {
   "cell_type": "code",
   "execution_count": 17,
   "id": "901ce808",
   "metadata": {},
   "outputs": [
    {
     "ename": "TypeError",
     "evalue": "unsupported operand type(s) for ** or pow(): 'list' and 'int'",
     "output_type": "error",
     "traceback": [
      "\u001b[1;31m---------------------------------------------------------------------------\u001b[0m",
      "\u001b[1;31mTypeError\u001b[0m                                 Traceback (most recent call last)",
      "Cell \u001b[1;32mIn[17], line 1\u001b[0m\n\u001b[1;32m----> 1\u001b[0m \u001b[43ml\u001b[49m\u001b[38;5;241;43m*\u001b[39;49m\u001b[38;5;241;43m*\u001b[39;49m\u001b[38;5;241;43m2\u001b[39;49m\n",
      "\u001b[1;31mTypeError\u001b[0m: unsupported operand type(s) for ** or pow(): 'list' and 'int'"
     ]
    }
   ],
   "source": [
    "l**2"
   ]
  },
  {
   "cell_type": "code",
   "execution_count": 20,
   "id": "e70beb0a",
   "metadata": {},
   "outputs": [
    {
     "data": {
      "text/plain": [
       "[100, 400, 900, 1600, 2500, 3600, 4900, 6400, 8100, 10000]"
      ]
     },
     "execution_count": 20,
     "metadata": {},
     "output_type": "execute_result"
    }
   ],
   "source": [
    "squarelist=[]\n",
    "for i in l:\n",
    "    squarelist.append(i**2)\n",
    "squarelist"
   ]
  },
  {
   "cell_type": "code",
   "execution_count": 26,
   "id": "e83eb442",
   "metadata": {},
   "outputs": [
    {
     "data": {
      "text/plain": [
       "90"
      ]
     },
     "execution_count": 26,
     "metadata": {},
     "output_type": "execute_result"
    }
   ],
   "source": [
    "l.pop() #used to delete last element\n"
   ]
  },
  {
   "cell_type": "code",
   "execution_count": 27,
   "id": "e7134238",
   "metadata": {},
   "outputs": [
    {
     "data": {
      "text/plain": [
       "[10, 20, 30, 40, 50, 60, 70]"
      ]
     },
     "execution_count": 27,
     "metadata": {},
     "output_type": "execute_result"
    }
   ],
   "source": [
    "l.pop()\n",
    "l"
   ]
  },
  {
   "cell_type": "code",
   "execution_count": 28,
   "id": "91a3c93b",
   "metadata": {},
   "outputs": [
    {
     "data": {
      "text/plain": [
       "40"
      ]
     },
     "execution_count": 28,
     "metadata": {},
     "output_type": "execute_result"
    }
   ],
   "source": [
    "l.pop(3) # remove element using index"
   ]
  },
  {
   "cell_type": "code",
   "execution_count": 30,
   "id": "e82178a5",
   "metadata": {},
   "outputs": [
    {
     "data": {
      "text/plain": [
       "[10, 20, 30, 50, 60, 70]"
      ]
     },
     "execution_count": 30,
     "metadata": {},
     "output_type": "execute_result"
    }
   ],
   "source": [
    "l"
   ]
  },
  {
   "cell_type": "code",
   "execution_count": 31,
   "id": "5306374a",
   "metadata": {},
   "outputs": [
    {
     "data": {
      "text/plain": [
       "[10, 20, 30, 60, 70]"
      ]
     },
     "execution_count": 31,
     "metadata": {},
     "output_type": "execute_result"
    }
   ],
   "source": [
    "l.remove(50) # used to remove specific element \n",
    "l"
   ]
  },
  {
   "cell_type": "code",
   "execution_count": 32,
   "id": "540caab2",
   "metadata": {},
   "outputs": [],
   "source": [
    "del l[2] #is keyword used for do memory free"
   ]
  },
  {
   "cell_type": "code",
   "execution_count": 33,
   "id": "aa363f34",
   "metadata": {},
   "outputs": [
    {
     "data": {
      "text/plain": [
       "[10, 20, 60, 70]"
      ]
     },
     "execution_count": 33,
     "metadata": {},
     "output_type": "execute_result"
    }
   ],
   "source": [
    "l"
   ]
  },
  {
   "cell_type": "code",
   "execution_count": 34,
   "id": "ad3cc5aa",
   "metadata": {},
   "outputs": [
    {
     "data": {
      "text/plain": [
       "True"
      ]
     },
     "execution_count": 34,
     "metadata": {},
     "output_type": "execute_result"
    }
   ],
   "source": [
    "60 in l"
   ]
  },
  {
   "cell_type": "code",
   "execution_count": 35,
   "id": "6fbb4453",
   "metadata": {},
   "outputs": [
    {
     "data": {
      "text/plain": [
       "False"
      ]
     },
     "execution_count": 35,
     "metadata": {},
     "output_type": "execute_result"
    }
   ],
   "source": [
    "40 in l"
   ]
  },
  {
   "cell_type": "code",
   "execution_count": 36,
   "id": "95291590",
   "metadata": {},
   "outputs": [],
   "source": [
    "del l"
   ]
  },
  {
   "cell_type": "code",
   "execution_count": 37,
   "id": "0fdc2de8",
   "metadata": {},
   "outputs": [
    {
     "ename": "NameError",
     "evalue": "name 'l' is not defined",
     "output_type": "error",
     "traceback": [
      "\u001b[1;31m---------------------------------------------------------------------------\u001b[0m",
      "\u001b[1;31mNameError\u001b[0m                                 Traceback (most recent call last)",
      "Cell \u001b[1;32mIn[37], line 1\u001b[0m\n\u001b[1;32m----> 1\u001b[0m \u001b[43ml\u001b[49m\n",
      "\u001b[1;31mNameError\u001b[0m: name 'l' is not defined"
     ]
    }
   ],
   "source": [
    "l"
   ]
  },
  {
   "cell_type": "markdown",
   "id": "2d7525e2",
   "metadata": {},
   "source": [
    "assigenment:\n",
    "    create a separate notebook which contain all list methods with example.\n",
    "que-what is difference between append,insert,extend or pop, remove,delete."
   ]
  },
  {
   "cell_type": "markdown",
   "id": "43a1c20c",
   "metadata": {},
   "source": [
    "# Tuple\n",
    " is a collection of homogeneous &hetrogeneous\n",
    " are values is inclose by() and separated by,\n",
    "( , )\n",
    "access by index (positive,negative)\n",
    "slicing base on the index\n",
    "tuple is a class collection\n"
   ]
  },
  {
   "cell_type": "code",
   "execution_count": 38,
   "id": "4975831f",
   "metadata": {},
   "outputs": [],
   "source": [
    "t=(10,20,30,40,50)"
   ]
  },
  {
   "cell_type": "code",
   "execution_count": 41,
   "id": "e7235ded",
   "metadata": {},
   "outputs": [
    {
     "data": {
      "text/plain": [
       "tuple"
      ]
     },
     "execution_count": 41,
     "metadata": {},
     "output_type": "execute_result"
    }
   ],
   "source": [
    "type(t)"
   ]
  },
  {
   "cell_type": "code",
   "execution_count": 40,
   "id": "95fcc052",
   "metadata": {},
   "outputs": [
    {
     "name": "stdout",
     "output_type": "stream",
     "text": [
      "<class 'tuple'>\n"
     ]
    }
   ],
   "source": [
    "print(type(t))"
   ]
  },
  {
   "cell_type": "code",
   "execution_count": 39,
   "id": "81eafd5d",
   "metadata": {},
   "outputs": [
    {
     "ename": "TypeError",
     "evalue": "'tuple' object doesn't support item deletion",
     "output_type": "error",
     "traceback": [
      "\u001b[1;31m---------------------------------------------------------------------------\u001b[0m",
      "\u001b[1;31mTypeError\u001b[0m                                 Traceback (most recent call last)",
      "Cell \u001b[1;32mIn[39], line 1\u001b[0m\n\u001b[1;32m----> 1\u001b[0m \u001b[38;5;28;01mdel\u001b[39;00m t[\u001b[38;5;241m2\u001b[39m]\n",
      "\u001b[1;31mTypeError\u001b[0m: 'tuple' object doesn't support item deletion"
     ]
    }
   ],
   "source": [
    "del t[2]"
   ]
  },
  {
   "cell_type": "code",
   "execution_count": 42,
   "id": "14c16413",
   "metadata": {},
   "outputs": [
    {
     "ename": "TypeError",
     "evalue": "'tuple' object does not support item assignment",
     "output_type": "error",
     "traceback": [
      "\u001b[1;31m---------------------------------------------------------------------------\u001b[0m",
      "\u001b[1;31mTypeError\u001b[0m                                 Traceback (most recent call last)",
      "Cell \u001b[1;32mIn[42], line 1\u001b[0m\n\u001b[1;32m----> 1\u001b[0m t[\u001b[38;5;241m4\u001b[39m]\u001b[38;5;241m=\u001b[39m\u001b[38;5;124m\"\u001b[39m\u001b[38;5;124mapple\u001b[39m\u001b[38;5;124m\"\u001b[39m\n",
      "\u001b[1;31mTypeError\u001b[0m: 'tuple' object does not support item assignment"
     ]
    }
   ],
   "source": [
    "t[4]=\"apple\" #does not change(immutable)\n"
   ]
  },
  {
   "cell_type": "markdown",
   "id": "e300c2b7",
   "metadata": {},
   "source": [
    "* differece bet list and tuple\n",
    "tuple :\n",
    "1)does not support del and assign opperator\n"
   ]
  },
  {
   "cell_type": "code",
   "execution_count": 43,
   "id": "361a3a10",
   "metadata": {},
   "outputs": [
    {
     "data": {
      "text/plain": [
       "5"
      ]
     },
     "execution_count": 43,
     "metadata": {},
     "output_type": "execute_result"
    }
   ],
   "source": [
    "len(t)"
   ]
  },
  {
   "cell_type": "code",
   "execution_count": 44,
   "id": "4b951777",
   "metadata": {},
   "outputs": [
    {
     "data": {
      "text/plain": [
       "30"
      ]
     },
     "execution_count": 44,
     "metadata": {},
     "output_type": "execute_result"
    }
   ],
   "source": [
    "t[2]"
   ]
  },
  {
   "cell_type": "code",
   "execution_count": 46,
   "id": "388a0b4b",
   "metadata": {},
   "outputs": [
    {
     "data": {
      "text/plain": [
       "(40, 50)"
      ]
     },
     "execution_count": 46,
     "metadata": {},
     "output_type": "execute_result"
    }
   ],
   "source": [
    "t[3:5:1]"
   ]
  },
  {
   "cell_type": "code",
   "execution_count": 47,
   "id": "366c984d",
   "metadata": {},
   "outputs": [],
   "source": [
    "t1=(10,10,10,10,20,30,40)"
   ]
  },
  {
   "cell_type": "code",
   "execution_count": 48,
   "id": "bcf9cda6",
   "metadata": {},
   "outputs": [
    {
     "data": {
      "text/plain": [
       "(10, 10, 10, 10, 20, 30, 40)"
      ]
     },
     "execution_count": 48,
     "metadata": {},
     "output_type": "execute_result"
    }
   ],
   "source": [
    "t1"
   ]
  },
  {
   "cell_type": "code",
   "execution_count": 49,
   "id": "778611c6",
   "metadata": {},
   "outputs": [
    {
     "data": {
      "text/plain": [
       "4"
      ]
     },
     "execution_count": 49,
     "metadata": {},
     "output_type": "execute_result"
    }
   ],
   "source": [
    "t1.count(10)"
   ]
  },
  {
   "cell_type": "code",
   "execution_count": 51,
   "id": "a8e8dbff",
   "metadata": {},
   "outputs": [
    {
     "data": {
      "text/plain": [
       "0"
      ]
     },
     "execution_count": 51,
     "metadata": {},
     "output_type": "execute_result"
    }
   ],
   "source": [
    "t1.index(10)"
   ]
  },
  {
   "cell_type": "code",
   "execution_count": 55,
   "id": "2e2796c3",
   "metadata": {},
   "outputs": [
    {
     "data": {
      "text/plain": [
       "4"
      ]
     },
     "execution_count": 55,
     "metadata": {},
     "output_type": "execute_result"
    }
   ],
   "source": [
    "t1.index(20)"
   ]
  },
  {
   "cell_type": "code",
   "execution_count": 52,
   "id": "b8ecea6b",
   "metadata": {},
   "outputs": [
    {
     "data": {
      "text/plain": [
       "True"
      ]
     },
     "execution_count": 52,
     "metadata": {},
     "output_type": "execute_result"
    }
   ],
   "source": [
    "20 in t1"
   ]
  },
  {
   "cell_type": "code",
   "execution_count": 54,
   "id": "4d2d08a9",
   "metadata": {},
   "outputs": [
    {
     "data": {
      "text/plain": [
       "True"
      ]
     },
     "execution_count": 54,
     "metadata": {},
     "output_type": "execute_result"
    }
   ],
   "source": [
    "60 not in t1"
   ]
  },
  {
   "cell_type": "code",
   "execution_count": 56,
   "id": "33f2d5b3",
   "metadata": {},
   "outputs": [
    {
     "data": {
      "text/plain": [
       "[10, 10, 10, 10, 20, 30, 40]"
      ]
     },
     "execution_count": 56,
     "metadata": {},
     "output_type": "execute_result"
    }
   ],
   "source": [
    "sorted(t1)  #this is function (if we apply fun not change in original data)"
   ]
  },
  {
   "cell_type": "code",
   "execution_count": 57,
   "id": "813fb686",
   "metadata": {},
   "outputs": [
    {
     "data": {
      "text/plain": [
       "[40, 30, 20, 10, 10, 10, 10]"
      ]
     },
     "execution_count": 57,
     "metadata": {},
     "output_type": "execute_result"
    }
   ],
   "source": [
    "sorted(t1,reverse=True)"
   ]
  },
  {
   "cell_type": "markdown",
   "id": "ad9faf3a",
   "metadata": {},
   "source": [
    "# 3)Set"
   ]
  },
  {
   "cell_type": "code",
   "execution_count": 62,
   "id": "7099a0a7",
   "metadata": {},
   "outputs": [
    {
     "data": {
      "text/plain": [
       "{1, 2, 3, 4, 5}"
      ]
     },
     "execution_count": 62,
     "metadata": {},
     "output_type": "execute_result"
    }
   ],
   "source": [
    "s={1,2,3,4,5}\n",
    "s"
   ]
  },
  {
   "cell_type": "code",
   "execution_count": 70,
   "id": "a05e1c5e",
   "metadata": {},
   "outputs": [
    {
     "name": "stdout",
     "output_type": "stream",
     "text": [
      "<class 'set'>\n"
     ]
    }
   ],
   "source": [
    "print(type(s))"
   ]
  },
  {
   "cell_type": "code",
   "execution_count": 63,
   "id": "f240aad6",
   "metadata": {},
   "outputs": [
    {
     "data": {
      "text/plain": [
       "5"
      ]
     },
     "execution_count": 63,
     "metadata": {},
     "output_type": "execute_result"
    }
   ],
   "source": [
    "len(s)"
   ]
  },
  {
   "cell_type": "code",
   "execution_count": 67,
   "id": "9f297cf7",
   "metadata": {},
   "outputs": [
    {
     "data": {
      "text/plain": [
       "{100, 400, 500, 600}"
      ]
     },
     "execution_count": 67,
     "metadata": {},
     "output_type": "execute_result"
    }
   ],
   "source": [
    "s1={500,400,600,100}\n",
    "s1"
   ]
  },
  {
   "cell_type": "code",
   "execution_count": 68,
   "id": "d017a3a0",
   "metadata": {},
   "outputs": [
    {
     "data": {
      "text/plain": [
       "dict"
      ]
     },
     "execution_count": 68,
     "metadata": {},
     "output_type": "execute_result"
    }
   ],
   "source": [
    "s2={}\n",
    "type(s2)"
   ]
  },
  {
   "cell_type": "code",
   "execution_count": 71,
   "id": "b8ef26b1",
   "metadata": {},
   "outputs": [
    {
     "ename": "TypeError",
     "evalue": "'set' object is not subscriptable",
     "output_type": "error",
     "traceback": [
      "\u001b[1;31m---------------------------------------------------------------------------\u001b[0m",
      "\u001b[1;31mTypeError\u001b[0m                                 Traceback (most recent call last)",
      "Cell \u001b[1;32mIn[71], line 1\u001b[0m\n\u001b[1;32m----> 1\u001b[0m \u001b[43ms\u001b[49m\u001b[43m[\u001b[49m\u001b[38;5;241;43m2\u001b[39;49m\u001b[43m]\u001b[49m\n",
      "\u001b[1;31mTypeError\u001b[0m: 'set' object is not subscriptable"
     ]
    }
   ],
   "source": [
    "s[2]"
   ]
  },
  {
   "cell_type": "code",
   "execution_count": 72,
   "id": "0f4d34c0",
   "metadata": {},
   "outputs": [
    {
     "data": {
      "text/plain": [
       "{1, 4.5, 90, 'a'}"
      ]
     },
     "execution_count": 72,
     "metadata": {},
     "output_type": "execute_result"
    }
   ],
   "source": [
    "s={1,4.5,\"a\",90}\n",
    "s"
   ]
  },
  {
   "cell_type": "markdown",
   "id": "65b6ea81",
   "metadata": {},
   "source": [
    "# 9-JUNE-25"
   ]
  },
  {
   "cell_type": "code",
   "execution_count": 1,
   "id": "02ba50f3",
   "metadata": {},
   "outputs": [],
   "source": [
    "A={1,2,3,4,5}"
   ]
  },
  {
   "cell_type": "code",
   "execution_count": 2,
   "id": "5b3aa066",
   "metadata": {},
   "outputs": [],
   "source": [
    "B={4,5,6,7,8}"
   ]
  },
  {
   "cell_type": "code",
   "execution_count": 5,
   "id": "a316c917",
   "metadata": {},
   "outputs": [
    {
     "data": {
      "text/plain": [
       "{4, 5}"
      ]
     },
     "execution_count": 5,
     "metadata": {},
     "output_type": "execute_result"
    }
   ],
   "source": [
    "c=A.intersection(B)\n",
    "c"
   ]
  },
  {
   "cell_type": "code",
   "execution_count": 6,
   "id": "0e5ac318",
   "metadata": {},
   "outputs": [
    {
     "data": {
      "text/plain": [
       "{1, 2, 3, 4, 5, 6, 7, 8}"
      ]
     },
     "execution_count": 6,
     "metadata": {},
     "output_type": "execute_result"
    }
   ],
   "source": [
    "d=A.union(B)\n",
    "d"
   ]
  },
  {
   "cell_type": "code",
   "execution_count": 8,
   "id": "d7e93996",
   "metadata": {},
   "outputs": [
    {
     "data": {
      "text/plain": [
       "{1, 2, 3}"
      ]
     },
     "execution_count": 8,
     "metadata": {},
     "output_type": "execute_result"
    }
   ],
   "source": [
    "e=A.difference(B) #written elements of set A set removing elements that included in set b \n",
    "e"
   ]
  },
  {
   "cell_type": "code",
   "execution_count": 9,
   "id": "81898c4a",
   "metadata": {},
   "outputs": [
    {
     "data": {
      "text/plain": [
       "{6, 7, 8}"
      ]
     },
     "execution_count": 9,
     "metadata": {},
     "output_type": "execute_result"
    }
   ],
   "source": [
    "f=B.difference(A) #written elements of set B set removing elements that included in set A\n",
    "f"
   ]
  },
  {
   "cell_type": "code",
   "execution_count": 11,
   "id": "da060dfa",
   "metadata": {},
   "outputs": [
    {
     "data": {
      "text/plain": [
       "{1, 2, 3, 6, 7, 8}"
      ]
     },
     "execution_count": 11,
     "metadata": {},
     "output_type": "execute_result"
    }
   ],
   "source": [
    "g=e.union(f)\n",
    "g"
   ]
  },
  {
   "cell_type": "markdown",
   "id": "bcb091bf",
   "metadata": {},
   "source": [
    "# Dictionary:"
   ]
  },
  {
   "cell_type": "raw",
   "id": "136a0da6",
   "metadata": {},
   "source": [
    "# Dictionary:\n",
    "key: is always unique \n",
    "    it may be string or int\n",
    "    key()\n",
    "value: canbe anything\n",
    "     value()\n",
    "items: it gives list of tuple of key: value"
   ]
  },
  {
   "cell_type": "code",
   "execution_count": 13,
   "id": "fb7d61e6",
   "metadata": {},
   "outputs": [
    {
     "data": {
      "text/plain": [
       "{1: 'ram', 2: 'shyam', 3: 'dham', 4: 'raj'}"
      ]
     },
     "execution_count": 13,
     "metadata": {},
     "output_type": "execute_result"
    }
   ],
   "source": [
    "d={1:\"ram\",2:\"shyam\",3:\"dham\",4:\"raj\"}\n",
    "d"
   ]
  },
  {
   "cell_type": "code",
   "execution_count": 14,
   "id": "c71d75b7",
   "metadata": {},
   "outputs": [
    {
     "data": {
      "text/plain": [
       "dict"
      ]
     },
     "execution_count": 14,
     "metadata": {},
     "output_type": "execute_result"
    }
   ],
   "source": [
    "type(d)"
   ]
  },
  {
   "cell_type": "code",
   "execution_count": 15,
   "id": "79121467",
   "metadata": {},
   "outputs": [
    {
     "name": "stdout",
     "output_type": "stream",
     "text": [
      "<class 'dict'>\n"
     ]
    }
   ],
   "source": [
    "print(type(d))"
   ]
  },
  {
   "cell_type": "code",
   "execution_count": 18,
   "id": "eabf4f41",
   "metadata": {},
   "outputs": [
    {
     "data": {
      "text/plain": [
       "dict_keys([1, 2, 3, 4])"
      ]
     },
     "execution_count": 18,
     "metadata": {},
     "output_type": "execute_result"
    }
   ],
   "source": [
    "d.keys()"
   ]
  },
  {
   "cell_type": "code",
   "execution_count": 19,
   "id": "88d748e5",
   "metadata": {},
   "outputs": [
    {
     "data": {
      "text/plain": [
       "dict_values(['ram', 'shyam', 'dham', 'raj'])"
      ]
     },
     "execution_count": 19,
     "metadata": {},
     "output_type": "execute_result"
    }
   ],
   "source": [
    "d.values()"
   ]
  },
  {
   "cell_type": "code",
   "execution_count": 20,
   "id": "78697492",
   "metadata": {},
   "outputs": [
    {
     "data": {
      "text/plain": [
       "dict_items([(1, 'ram'), (2, 'shyam'), (3, 'dham'), (4, 'raj')])"
      ]
     },
     "execution_count": 20,
     "metadata": {},
     "output_type": "execute_result"
    }
   ],
   "source": [
    "d.items() #give list of dictionary in the form of tuple"
   ]
  },
  {
   "cell_type": "code",
   "execution_count": 22,
   "id": "647b7817",
   "metadata": {},
   "outputs": [
    {
     "data": {
      "text/plain": [
       "{1: 'ram', 2: 'shyam', 3: 'suraj', 4: 'raj'}"
      ]
     },
     "execution_count": 22,
     "metadata": {},
     "output_type": "execute_result"
    }
   ],
   "source": [
    "d.update({3:\"suraj\"}) #give key value pair\n",
    "d"
   ]
  },
  {
   "cell_type": "code",
   "execution_count": 24,
   "id": "bc897189",
   "metadata": {},
   "outputs": [
    {
     "data": {
      "text/plain": [
       "{1: 'ram', 2: 'shyam', 3: 'suraj', 4: 'sai'}"
      ]
     },
     "execution_count": 24,
     "metadata": {},
     "output_type": "execute_result"
    }
   ],
   "source": [
    "d[4]=\"sai\"\n",
    "d"
   ]
  },
  {
   "cell_type": "code",
   "execution_count": 25,
   "id": "63331658",
   "metadata": {},
   "outputs": [
    {
     "data": {
      "text/plain": [
       "{1: 'ram', 3: 'suraj', 4: 'sai'}"
      ]
     },
     "execution_count": 25,
     "metadata": {},
     "output_type": "execute_result"
    }
   ],
   "source": [
    "d.pop(2) #remove key: value pair  of key 2 \n",
    "d"
   ]
  },
  {
   "cell_type": "code",
   "execution_count": 28,
   "id": "eb1eded2",
   "metadata": {},
   "outputs": [
    {
     "data": {
      "text/plain": [
       "{1: 'ram', 3: 'suraj'}"
      ]
     },
     "execution_count": 28,
     "metadata": {},
     "output_type": "execute_result"
    }
   ],
   "source": [
    "d.popitem() #Remove last elememt\n",
    "d"
   ]
  },
  {
   "cell_type": "code",
   "execution_count": 30,
   "id": "4f3f1554",
   "metadata": {},
   "outputs": [
    {
     "data": {
      "text/plain": [
       "2"
      ]
     },
     "execution_count": 30,
     "metadata": {},
     "output_type": "execute_result"
    }
   ],
   "source": [
    "len(d)"
   ]
  },
  {
   "cell_type": "code",
   "execution_count": 34,
   "id": "062baed8",
   "metadata": {},
   "outputs": [
    {
     "ename": "IndentationError",
     "evalue": "unexpected indent (619895488.py, line 2)",
     "output_type": "error",
     "traceback": [
      "\u001b[1;36m  Cell \u001b[1;32mIn[34], line 2\u001b[1;36m\u001b[0m\n\u001b[1;33m    v\u001b[0m\n\u001b[1;37m    ^\u001b[0m\n\u001b[1;31mIndentationError\u001b[0m\u001b[1;31m:\u001b[0m unexpected indent\n"
     ]
    }
   ],
   "source": [
    "v=[0,1,2,3,[8,{5:[67,89,90,{\"area\":kudlu,\"city\":\"banglore\"}]}]]\n",
    "               v"
   ]
  },
  {
   "cell_type": "markdown",
   "id": "1c4e8537",
   "metadata": {},
   "source": [
    "# Function"
   ]
  },
  {
   "cell_type": "raw",
   "id": "bee16e6b",
   "metadata": {},
   "source": [
    "Used:\n",
    "1)reduce the line of code and increase the readiability .\n",
    "2)reuse the same code more times.\n",
    "3)used to break the main required into small task .\n"
   ]
  },
  {
   "cell_type": "raw",
   "id": "4814822b",
   "metadata": {},
   "source": [
    "Types:\n",
    "1)build in function\n",
    "2)user defined function\n",
    "3)lambda function: (used for single line expression)"
   ]
  },
  {
   "cell_type": "code",
   "execution_count": 35,
   "id": "df1e0121",
   "metadata": {},
   "outputs": [],
   "source": [
    "def add(n1,n2):\n",
    "    c=n1+n2\n",
    "    return c\n"
   ]
  },
  {
   "cell_type": "code",
   "execution_count": 39,
   "id": "1590ad1b",
   "metadata": {},
   "outputs": [
    {
     "data": {
      "text/plain": [
       "12"
      ]
     },
     "execution_count": 39,
     "metadata": {},
     "output_type": "execute_result"
    }
   ],
   "source": [
    "res=add(5,7)\n",
    "res"
   ]
  },
  {
   "cell_type": "code",
   "execution_count": 40,
   "id": "ba6e0301",
   "metadata": {},
   "outputs": [],
   "source": [
    "def sub(n1,n2):\n",
    "    sub=n1-n2\n",
    "    return sub"
   ]
  },
  {
   "cell_type": "code",
   "execution_count": 45,
   "id": "07e61f41",
   "metadata": {},
   "outputs": [
    {
     "data": {
      "text/plain": [
       "11"
      ]
     },
     "execution_count": 45,
     "metadata": {},
     "output_type": "execute_result"
    }
   ],
   "source": [
    "p=sub(15,4)\n",
    "p"
   ]
  },
  {
   "cell_type": "code",
   "execution_count": 46,
   "id": "740f3dd1",
   "metadata": {},
   "outputs": [],
   "source": [
    "def mul(n1,n2):\n",
    "    mul=(n1*n2)\n",
    "    return(mul)"
   ]
  },
  {
   "cell_type": "code",
   "execution_count": 48,
   "id": "83c88cbf",
   "metadata": {},
   "outputs": [
    {
     "data": {
      "text/plain": [
       "100"
      ]
     },
     "execution_count": 48,
     "metadata": {},
     "output_type": "execute_result"
    }
   ],
   "source": [
    "q=mul(10,10)\n",
    "q"
   ]
  },
  {
   "cell_type": "code",
   "execution_count": 49,
   "id": "b42b0209",
   "metadata": {},
   "outputs": [],
   "source": [
    "def div(n1,n2): #for quetiont\n",
    "    d=(n1/n2)\n",
    "    return(d)\n",
    "    "
   ]
  },
  {
   "cell_type": "code",
   "execution_count": 50,
   "id": "c9f98d87",
   "metadata": {},
   "outputs": [
    {
     "data": {
      "text/plain": [
       "4.0"
      ]
     },
     "execution_count": 50,
     "metadata": {},
     "output_type": "execute_result"
    }
   ],
   "source": [
    "r=div(40,10)\n",
    "r"
   ]
  },
  {
   "cell_type": "code",
   "execution_count": 51,
   "id": "7535964c",
   "metadata": {},
   "outputs": [],
   "source": [
    "def rem(n1,n2):  #give remainder\n",
    "    r=n1%n2\n",
    "    return(r)"
   ]
  },
  {
   "cell_type": "code",
   "execution_count": 52,
   "id": "3de32596",
   "metadata": {},
   "outputs": [
    {
     "data": {
      "text/plain": [
       "0"
      ]
     },
     "execution_count": 52,
     "metadata": {},
     "output_type": "execute_result"
    }
   ],
   "source": [
    "s=rem(40,10)\n",
    "s"
   ]
  },
  {
   "cell_type": "code",
   "execution_count": 53,
   "id": "74a58506",
   "metadata": {},
   "outputs": [],
   "source": [
    "def power(m,n):\n",
    "    p=m**n\n",
    "    return(p)"
   ]
  },
  {
   "cell_type": "code",
   "execution_count": 55,
   "id": "51f051d7",
   "metadata": {},
   "outputs": [
    {
     "data": {
      "text/plain": [
       "144"
      ]
     },
     "execution_count": 55,
     "metadata": {},
     "output_type": "execute_result"
    }
   ],
   "source": [
    "t=power(12,2)\n",
    "t"
   ]
  },
  {
   "cell_type": "code",
   "execution_count": 56,
   "id": "62507f63",
   "metadata": {},
   "outputs": [],
   "source": [
    "# area of circle\n",
    "def area(radius):\n",
    "    a=3.14*(radius**2)\n",
    "    return a"
   ]
  },
  {
   "cell_type": "code",
   "execution_count": 57,
   "id": "54d4a0a6",
   "metadata": {},
   "outputs": [
    {
     "data": {
      "text/plain": [
       "78.5"
      ]
     },
     "execution_count": 57,
     "metadata": {},
     "output_type": "execute_result"
    }
   ],
   "source": [
    "a1=area(5)\n",
    "a1"
   ]
  },
  {
   "cell_type": "code",
   "execution_count": 58,
   "id": "9cc60863",
   "metadata": {},
   "outputs": [],
   "source": [
    "#area of traingle\n",
    "def atri(base,height):\n",
    "    a=base*height\n",
    "    return a\n"
   ]
  },
  {
   "cell_type": "code",
   "execution_count": 59,
   "id": "a30dd1d1",
   "metadata": {},
   "outputs": [
    {
     "data": {
      "text/plain": [
       "20"
      ]
     },
     "execution_count": 59,
     "metadata": {},
     "output_type": "execute_result"
    }
   ],
   "source": [
    "p=atri(10,2)\n",
    "p"
   ]
  },
  {
   "cell_type": "code",
   "execution_count": 62,
   "id": "fd83c6a4",
   "metadata": {},
   "outputs": [],
   "source": [
    "# for find length\n",
    "def mylen(data):\n",
    "    count=0\n",
    "    for i in data:\n",
    "        count+=1\n",
    "    return(count)"
   ]
  },
  {
   "cell_type": "code",
   "execution_count": 63,
   "id": "bb12b7e4",
   "metadata": {},
   "outputs": [
    {
     "data": {
      "text/plain": [
       "9"
      ]
     },
     "execution_count": 63,
     "metadata": {},
     "output_type": "execute_result"
    }
   ],
   "source": [
    "mylen(\"datamites\")"
   ]
  },
  {
   "cell_type": "markdown",
   "id": "286e8615",
   "metadata": {},
   "source": [
    "# 10-june-25"
   ]
  },
  {
   "cell_type": "code",
   "execution_count": 4,
   "id": "24c7d210",
   "metadata": {},
   "outputs": [],
   "source": [
    "def show(n1,n2=7):\n",
    "    print(n1,n2)"
   ]
  },
  {
   "cell_type": "code",
   "execution_count": 5,
   "id": "720ecae8",
   "metadata": {},
   "outputs": [
    {
     "name": "stdout",
     "output_type": "stream",
     "text": [
      "3 4\n"
     ]
    }
   ],
   "source": [
    "show(3,4)"
   ]
  },
  {
   "cell_type": "code",
   "execution_count": 6,
   "id": "7944b628",
   "metadata": {},
   "outputs": [
    {
     "name": "stdout",
     "output_type": "stream",
     "text": [
      "3 7\n"
     ]
    }
   ],
   "source": [
    "show(3) #dafault agrument"
   ]
  },
  {
   "cell_type": "code",
   "execution_count": 8,
   "id": "8ef1cf71",
   "metadata": {},
   "outputs": [],
   "source": [
    "def show1(n1,*n2): # *is used to assine multiple values.\n",
    "    print(n1,n2)\n",
    "    print(type(n1))\n",
    "    print(type(n2))"
   ]
  },
  {
   "cell_type": "code",
   "execution_count": 9,
   "id": "5c0a8acf",
   "metadata": {},
   "outputs": [
    {
     "name": "stdout",
     "output_type": "stream",
     "text": [
      "4 (5, 6, 7, 8, 9, 10)\n",
      "<class 'int'>\n",
      "<class 'tuple'>\n"
     ]
    }
   ],
   "source": [
    "show1(4,5,6,7,8,9,10)"
   ]
  },
  {
   "cell_type": "markdown",
   "id": "de445d79",
   "metadata": {},
   "source": [
    "# Application of ATM"
   ]
  },
  {
   "cell_type": "code",
   "execution_count": 1,
   "id": "14a497ee",
   "metadata": {},
   "outputs": [],
   "source": [
    "def deposite(mbal,amt):\n",
    "    mbal+=amt\n",
    "    return mbal"
   ]
  },
  {
   "cell_type": "code",
   "execution_count": 2,
   "id": "ddc9286e",
   "metadata": {},
   "outputs": [],
   "source": [
    "def withdraw(mbal,amt):\n",
    "    mbal-=amt\n",
    "    return mbal\n",
    "    "
   ]
  },
  {
   "cell_type": "code",
   "execution_count": 3,
   "id": "2993f61d",
   "metadata": {},
   "outputs": [],
   "source": [
    "def transfer(mbal,amt):\n",
    "    mbal-=amt\n",
    "    return mbal"
   ]
  },
  {
   "cell_type": "code",
   "execution_count": 4,
   "id": "5a772d38",
   "metadata": {},
   "outputs": [],
   "source": [
    "def balcheck(mbal):\n",
    "    print(\"Your Balance is: \",mbal)"
   ]
  },
  {
   "cell_type": "code",
   "execution_count": 5,
   "id": "285aac06",
   "metadata": {},
   "outputs": [],
   "source": [
    "def ministate(data):\n",
    "    print(\"past transaction details:\")\n",
    "    for i in data:\n",
    "        print(i)"
   ]
  },
  {
   "cell_type": "code",
   "execution_count": 9,
   "id": "bd8e874f",
   "metadata": {},
   "outputs": [
    {
     "name": "stdout",
     "output_type": "stream",
     "text": [
      "Enter your pin :1234\n",
      "1.Deposit\n",
      "2.withdraw\n",
      "3.transfer\n",
      "4.balcheck\n",
      "5.ministate\n",
      "6.Exit\n",
      "Enter your choise :1\n",
      "Enter amount: 1000\n",
      "Your Account is credited: 1000,your main balance is :1500\n",
      "1.Deposit\n",
      "2.withdraw\n",
      "3.transfer\n",
      "4.balcheck\n",
      "5.ministate\n",
      "6.Exit\n",
      "Enter your choise :2\n",
      "Enter amount: 500\n",
      "your account is debited : 500, your main balance is: 1000\n",
      "1.Deposit\n",
      "2.withdraw\n",
      "3.transfer\n",
      "4.balcheck\n",
      "5.ministate\n",
      "6.Exit\n",
      "Enter your choise :3\n",
      "Enter amount: 200\n",
      "your account is debited : 200, your main balance is: 800\n",
      "1.Deposit\n",
      "2.withdraw\n",
      "3.transfer\n",
      "4.balcheck\n",
      "5.ministate\n",
      "6.Exit\n",
      "Enter your choise :4\n",
      "Your Balance is:  800\n",
      "1.Deposit\n",
      "2.withdraw\n",
      "3.transfer\n",
      "4.balcheck\n",
      "5.ministate\n",
      "6.Exit\n",
      "Enter your choise :5\n",
      "past transaction details:\n",
      "[1000, 'credited', datetime.datetime(2025, 6, 10, 12, 47, 49, 275500)]\n",
      "[500, 'debited', datetime.datetime(2025, 6, 10, 12, 47, 56, 668300)]\n",
      "[200, 'transfer', datetime.datetime(2025, 6, 10, 12, 48, 3, 297611)]\n",
      "1.Deposit\n",
      "2.withdraw\n",
      "3.transfer\n",
      "4.balcheck\n",
      "5.ministate\n",
      "6.Exit\n",
      "Enter your choise :6\n"
     ]
    }
   ],
   "source": [
    "import datetime\n",
    "data=[] \n",
    "balance=500\n",
    "pin=int(input(\"Enter your pin :\"))\n",
    "if(pin==1234):\n",
    "    while(True):\n",
    "        print(\"1.Deposit\\n2.withdraw\\n3.transfer\\n4.balcheck\\n5.ministate\\n6.Exit\")\n",
    "        ch=int(input(\"Enter your choise :\"))\n",
    "        if(ch==1):\n",
    "            amt=int(input(\"Enter amount: \"))\n",
    "            balance=deposite(balance,amt)\n",
    "            print(f\"Your Account is credited: {amt},your main balance is :{balance}\")\n",
    "            data.append([amt,\"credited\",datetime.datetime.now()])\n",
    "        elif(ch==2):\n",
    "            amt=int(input(\"Enter amount: \"))\n",
    "            if (balance-amt>=0):\n",
    "                balance=withdraw(balance,amt)\n",
    "                print(f\"your account is debited : {amt}, your main balance is: {balance}\")\n",
    "                data.append([amt,\"debited\",datetime.datetime.now()])\n",
    "            else:\n",
    "                print(\"Insufficient amount \")\n",
    "        elif(ch==3):\n",
    "            amt=int(input(\"Enter amount: \"))\n",
    "            if (balance-amt>=0):\n",
    "                balance=withdraw(balance,amt)\n",
    "                print(f\"your account is debited : {amt}, your main balance is: {balance}\")\n",
    "                data.append([amt,\"transfer\",datetime.datetime.now()])\n",
    "            else:\n",
    "                print(\"Insufficient amount \")\n",
    "        elif(ch==4):\n",
    "            balcheck(balance)\n",
    "        elif(ch==5):\n",
    "              ministate(data)\n",
    "        elif(ch==6):\n",
    "            break\n",
    "        else:\n",
    "            print(\"Wrong choise\")\n",
    "else:\n",
    "    print(\"Enter correct pin \")"
   ]
  },
  {
   "cell_type": "markdown",
   "id": "52837c6d",
   "metadata": {},
   "source": [
    "# Lamba function\n",
    "used-data preprocessing\n",
    "\n",
    "syntax:\n",
    "    lambda arguments:expression\n",
    "    \n",
    "ex: add=lambda a,b:a+b\n",
    "    "
   ]
  },
  {
   "cell_type": "code",
   "execution_count": 10,
   "id": "c1cc2cc6",
   "metadata": {},
   "outputs": [
    {
     "data": {
      "text/plain": [
       "10"
      ]
     },
     "execution_count": 10,
     "metadata": {},
     "output_type": "execute_result"
    }
   ],
   "source": [
    "add=lambda a,b:a+b\n",
    "add(5,5)"
   ]
  },
  {
   "cell_type": "code",
   "execution_count": 31,
   "id": "60c19aa5",
   "metadata": {},
   "outputs": [],
   "source": [
    "sub=lambda m,n:m-n"
   ]
  },
  {
   "cell_type": "code",
   "execution_count": 32,
   "id": "e50f1715",
   "metadata": {},
   "outputs": [
    {
     "data": {
      "text/plain": [
       "5"
      ]
     },
     "execution_count": 32,
     "metadata": {},
     "output_type": "execute_result"
    }
   ],
   "source": [
    "sub(10,5)"
   ]
  },
  {
   "cell_type": "code",
   "execution_count": 33,
   "id": "2ac53d30",
   "metadata": {},
   "outputs": [],
   "source": [
    "mul=lambda m,n:m*n"
   ]
  },
  {
   "cell_type": "code",
   "execution_count": 34,
   "id": "2bf37313",
   "metadata": {},
   "outputs": [
    {
     "data": {
      "text/plain": [
       "18"
      ]
     },
     "execution_count": 34,
     "metadata": {},
     "output_type": "execute_result"
    }
   ],
   "source": [
    "mul(6,3)"
   ]
  },
  {
   "cell_type": "code",
   "execution_count": 35,
   "id": "549089ca",
   "metadata": {},
   "outputs": [],
   "source": [
    "div=lambda p,q:p/q"
   ]
  },
  {
   "cell_type": "code",
   "execution_count": 36,
   "id": "c3ebdb72",
   "metadata": {},
   "outputs": [
    {
     "data": {
      "text/plain": [
       "12.0"
      ]
     },
     "execution_count": 36,
     "metadata": {},
     "output_type": "execute_result"
    }
   ],
   "source": [
    "div(60,5)"
   ]
  },
  {
   "cell_type": "code",
   "execution_count": 37,
   "id": "0ec5ca16",
   "metadata": {},
   "outputs": [
    {
     "data": {
      "text/plain": [
       "78.5"
      ]
     },
     "execution_count": 37,
     "metadata": {},
     "output_type": "execute_result"
    }
   ],
   "source": [
    "CA=lambda r:3.14*r*r\n",
    "CA(5)"
   ]
  },
  {
   "cell_type": "code",
   "execution_count": 38,
   "id": "55bcca11",
   "metadata": {},
   "outputs": [],
   "source": [
    "AT=lambda b,h:0.5*b*h"
   ]
  },
  {
   "cell_type": "code",
   "execution_count": 39,
   "id": "0d490d4e",
   "metadata": {},
   "outputs": [
    {
     "data": {
      "text/plain": [
       "7.5"
      ]
     },
     "execution_count": 39,
     "metadata": {},
     "output_type": "execute_result"
    }
   ],
   "source": [
    "AT(3,5)"
   ]
  },
  {
   "cell_type": "code",
   "execution_count": 40,
   "id": "4ea80d90",
   "metadata": {},
   "outputs": [
    {
     "data": {
      "text/plain": [
       "25"
      ]
     },
     "execution_count": 40,
     "metadata": {},
     "output_type": "execute_result"
    }
   ],
   "source": [
    "AS=lambda s:s*s\n",
    "AS(5)"
   ]
  },
  {
   "cell_type": "code",
   "execution_count": 41,
   "id": "08795c6a",
   "metadata": {},
   "outputs": [
    {
     "data": {
      "text/plain": [
       "20"
      ]
     },
     "execution_count": 41,
     "metadata": {},
     "output_type": "execute_result"
    }
   ],
   "source": [
    "AR=lambda l,b:l*b\n",
    "AR(5,4)"
   ]
  },
  {
   "cell_type": "code",
   "execution_count": 42,
   "id": "202cf16b",
   "metadata": {},
   "outputs": [
    {
     "data": {
      "text/plain": [
       "24"
      ]
     },
     "execution_count": 42,
     "metadata": {},
     "output_type": "execute_result"
    }
   ],
   "source": [
    "AP=lambda l,al:l*al\n",
    "AP(4,6)"
   ]
  },
  {
   "cell_type": "code",
   "execution_count": 45,
   "id": "ca916093",
   "metadata": {},
   "outputs": [],
   "source": [
    "gret=lambda a,b:a if a>=b else b"
   ]
  },
  {
   "cell_type": "code",
   "execution_count": 47,
   "id": "2a3b75d4",
   "metadata": {},
   "outputs": [
    {
     "data": {
      "text/plain": [
       "7"
      ]
     },
     "execution_count": 47,
     "metadata": {},
     "output_type": "execute_result"
    }
   ],
   "source": [
    "gret(5,7)"
   ]
  },
  {
   "cell_type": "code",
   "execution_count": 48,
   "id": "7a94dc13",
   "metadata": {},
   "outputs": [],
   "source": [
    "res=lambda a:'even'if a%2==0 else 'odd'"
   ]
  },
  {
   "cell_type": "code",
   "execution_count": 49,
   "id": "8c8c5fd3",
   "metadata": {},
   "outputs": [
    {
     "data": {
      "text/plain": [
       "'odd'"
      ]
     },
     "execution_count": 49,
     "metadata": {},
     "output_type": "execute_result"
    }
   ],
   "source": [
    "res(5)"
   ]
  },
  {
   "cell_type": "code",
   "execution_count": 50,
   "id": "1f7b5bbb",
   "metadata": {},
   "outputs": [
    {
     "data": {
      "text/plain": [
       "'even'"
      ]
     },
     "execution_count": 50,
     "metadata": {},
     "output_type": "execute_result"
    }
   ],
   "source": [
    "res(10)"
   ]
  },
  {
   "cell_type": "markdown",
   "id": "348a32b7",
   "metadata": {},
   "source": [
    "# 11-June-25"
   ]
  },
  {
   "cell_type": "markdown",
   "id": "18c29abc",
   "metadata": {},
   "source": [
    "# Filter()\n",
    "syntax:\n",
    "filter(function,data)\n",
    "\n",
    " collection   (# o/p is collection & give address of collection in O/p)\n",
    "\n",
    "\n",
    "#collection means continues memory allocation"
   ]
  },
  {
   "cell_type": "code",
   "execution_count": 1,
   "id": "814abb20",
   "metadata": {},
   "outputs": [],
   "source": [
    "l=[1,2,3,4,5,6,7,8,9]"
   ]
  },
  {
   "cell_type": "code",
   "execution_count": 4,
   "id": "dcb8e21f",
   "metadata": {},
   "outputs": [
    {
     "data": {
      "text/plain": [
       "<filter at 0x1fe2812ef50>"
      ]
     },
     "execution_count": 4,
     "metadata": {},
     "output_type": "execute_result"
    }
   ],
   "source": [
    "filter(lambda x:x%2!=0,l)  #give only address of collection in output"
   ]
  },
  {
   "cell_type": "code",
   "execution_count": 5,
   "id": "10a45357",
   "metadata": {},
   "outputs": [
    {
     "data": {
      "text/plain": [
       "[1, 3, 5, 7, 9]"
      ]
     },
     "execution_count": 5,
     "metadata": {},
     "output_type": "execute_result"
    }
   ],
   "source": [
    "list(filter(lambda x:x%2!=0,l))"
   ]
  },
  {
   "cell_type": "code",
   "execution_count": 9,
   "id": "df40e619",
   "metadata": {},
   "outputs": [],
   "source": [
    "def check(x):\n",
    "    if x%2!=0:\n",
    "        return True\n",
    "    else:\n",
    "        return False"
   ]
  },
  {
   "cell_type": "code",
   "execution_count": 10,
   "id": "2a949969",
   "metadata": {},
   "outputs": [
    {
     "data": {
      "text/plain": [
       "[1, 3, 5, 7, 9]"
      ]
     },
     "execution_count": 10,
     "metadata": {},
     "output_type": "execute_result"
    }
   ],
   "source": [
    "list(filter(check,l))"
   ]
  },
  {
   "cell_type": "code",
   "execution_count": 12,
   "id": "76e36dc3",
   "metadata": {},
   "outputs": [
    {
     "data": {
      "text/plain": [
       "[7, 9]"
      ]
     },
     "execution_count": 12,
     "metadata": {},
     "output_type": "execute_result"
    }
   ],
   "source": [
    "list(filter(lambda x:x%2!=0 and x>5,l))"
   ]
  },
  {
   "cell_type": "markdown",
   "id": "9fee2895",
   "metadata": {},
   "source": [
    "# map()  function\n",
    "syntax:\n",
    "    map(function,data)\n",
    "    \n",
    "    # length remain same of input and o/p"
   ]
  },
  {
   "cell_type": "code",
   "execution_count": 16,
   "id": "72d7a7ba",
   "metadata": {},
   "outputs": [],
   "source": [
    "l1=[1,2,3,4,5,6,7,8,9,10]"
   ]
  },
  {
   "cell_type": "code",
   "execution_count": 17,
   "id": "7c0cf32d",
   "metadata": {},
   "outputs": [
    {
     "data": {
      "text/plain": [
       "<map at 0x1fe2817d930>"
      ]
     },
     "execution_count": 17,
     "metadata": {},
     "output_type": "execute_result"
    }
   ],
   "source": [
    "map(lambda x:x**2,l1)"
   ]
  },
  {
   "cell_type": "code",
   "execution_count": 18,
   "id": "21bf940d",
   "metadata": {},
   "outputs": [
    {
     "data": {
      "text/plain": [
       "[1, 4, 9, 16, 25, 36, 49, 64, 81, 100]"
      ]
     },
     "execution_count": 18,
     "metadata": {},
     "output_type": "execute_result"
    }
   ],
   "source": [
    "list(map(lambda x:x**2,l1))"
   ]
  },
  {
   "cell_type": "markdown",
   "id": "9ff596f8",
   "metadata": {},
   "source": [
    "# Reduce()\n",
    "give o/p in single value like sum, min\n",
    "\n",
    "use package:import functools\n"
   ]
  },
  {
   "cell_type": "code",
   "execution_count": 19,
   "id": "2c016e21",
   "metadata": {},
   "outputs": [],
   "source": [
    "import functools"
   ]
  },
  {
   "cell_type": "code",
   "execution_count": 22,
   "id": "6cbdc03e",
   "metadata": {},
   "outputs": [
    {
     "data": {
      "text/plain": [
       "55"
      ]
     },
     "execution_count": 22,
     "metadata": {},
     "output_type": "execute_result"
    }
   ],
   "source": [
    "functools.reduce(lambda x,y:x+y,l1) "
   ]
  },
  {
   "cell_type": "markdown",
   "id": "db102c76",
   "metadata": {},
   "source": [
    "\"working: first take initial value in x & y like 1 & 2 in list\n",
    "then add them  and then take that addition into x and take next value in list as y  continue upto end.\"\n"
   ]
  },
  {
   "cell_type": "code",
   "execution_count": 37,
   "id": "701c7d1d",
   "metadata": {},
   "outputs": [
    {
     "data": {
      "text/plain": [
       "10"
      ]
     },
     "execution_count": 37,
     "metadata": {},
     "output_type": "execute_result"
    }
   ],
   "source": [
    "l2=[5,2,8,6,3,9,10,1,7,4]\n",
    "n=len(l2)\n",
    "n"
   ]
  },
  {
   "cell_type": "code",
   "execution_count": 38,
   "id": "497a7924",
   "metadata": {},
   "outputs": [
    {
     "data": {
      "text/plain": [
       "10"
      ]
     },
     "execution_count": 38,
     "metadata": {},
     "output_type": "execute_result"
    }
   ],
   "source": [
    "functools.reduce(lambda x,y:x if x>=y else y,l2)"
   ]
  },
  {
   "cell_type": "code",
   "execution_count": 40,
   "id": "9cdb142b",
   "metadata": {},
   "outputs": [
    {
     "data": {
      "text/plain": [
       "1.098765433"
      ]
     },
     "execution_count": 40,
     "metadata": {},
     "output_type": "execute_result"
    }
   ],
   "source": [
    "functools.reduce(lambda x,y,n=len(l2):(x+y)/n,l1)  #average"
   ]
  },
  {
   "cell_type": "code",
   "execution_count": 42,
   "id": "ded85155",
   "metadata": {},
   "outputs": [],
   "source": [
    "import math"
   ]
  },
  {
   "cell_type": "code",
   "execution_count": 43,
   "id": "7fdf550b",
   "metadata": {},
   "outputs": [
    {
     "ename": "ModuleNotFoundError",
     "evalue": "No module named 'camelcase'",
     "output_type": "error",
     "traceback": [
      "\u001b[1;31m---------------------------------------------------------------------------\u001b[0m",
      "\u001b[1;31mModuleNotFoundError\u001b[0m                       Traceback (most recent call last)",
      "Cell \u001b[1;32mIn[43], line 1\u001b[0m\n\u001b[1;32m----> 1\u001b[0m \u001b[38;5;28;01mimport\u001b[39;00m \u001b[38;5;21;01mcamelcase\u001b[39;00m\n",
      "\u001b[1;31mModuleNotFoundError\u001b[0m: No module named 'camelcase'"
     ]
    }
   ],
   "source": [
    "import camelcase"
   ]
  },
  {
   "cell_type": "raw",
   "id": "b8d6ada9",
   "metadata": {},
   "source": [
    "platform for packages:  pypi #usrd for install and upload new packages"
   ]
  },
  {
   "cell_type": "code",
   "execution_count": 44,
   "id": "178fab4a",
   "metadata": {},
   "outputs": [
    {
     "name": "stdout",
     "output_type": "stream",
     "text": [
      "Collecting camelcaseNote: you may need to restart the kernel to use updated packages.\n",
      "\n",
      "  Downloading camelcase-0.2.tar.gz (1.3 kB)\n",
      "  Preparing metadata (setup.py): started\n",
      "  Preparing metadata (setup.py): finished with status 'done'\n",
      "Building wheels for collected packages: camelcase\n",
      "  Building wheel for camelcase (setup.py): started\n",
      "  Building wheel for camelcase (setup.py): finished with status 'done'\n",
      "  Created wheel for camelcase: filename=camelcase-0.2-py3-none-any.whl size=1779 sha256=e41ae6ca29db1fc62b2871cbc1434431114363c6b79d89d3a7a925c83ddc354c\n",
      "  Stored in directory: c:\\users\\dell\\appdata\\local\\pip\\cache\\wheels\\d4\\1e\\cb\\0ea324dd6d5d69394553f35eb9926168f4c55a5e5a494a8e31\n",
      "Successfully built camelcase\n",
      "Installing collected packages: camelcase\n",
      "Successfully installed camelcase-0.2\n"
     ]
    }
   ],
   "source": [
    "pip install camelcase"
   ]
  },
  {
   "cell_type": "code",
   "execution_count": 1,
   "id": "0c51ffce",
   "metadata": {},
   "outputs": [],
   "source": [
    "import camelcase"
   ]
  },
  {
   "cell_type": "code",
   "execution_count": 5,
   "id": "95748839",
   "metadata": {},
   "outputs": [
    {
     "name": "stdout",
     "output_type": "stream",
     "text": [
      "This is a Sentence That Needs CamelCasing!\n"
     ]
    }
   ],
   "source": [
    "from camelcase import CamelCase\n",
    "c = CamelCase()\n",
    "s = 'this is a sentence that needs CamelCasing!'\n",
    "print (c.hump(s))\n"
   ]
  },
  {
   "cell_type": "markdown",
   "id": "66398cd1",
   "metadata": {},
   "source": [
    "# Devloping packages"
   ]
  },
  {
   "cell_type": "markdown",
   "id": "8838ac13",
   "metadata": {},
   "source": [
    "# 13 JUNE 2025"
   ]
  },
  {
   "cell_type": "markdown",
   "id": "568dbe1e",
   "metadata": {},
   "source": [
    "# Error handling /Exception handling"
   ]
  },
  {
   "cell_type": "code",
   "execution_count": 1,
   "id": "f7d576ee",
   "metadata": {},
   "outputs": [
    {
     "ename": "ZeroDivisionError",
     "evalue": "division by zero",
     "output_type": "error",
     "traceback": [
      "\u001b[1;31m---------------------------------------------------------------------------\u001b[0m",
      "\u001b[1;31mZeroDivisionError\u001b[0m                         Traceback (most recent call last)",
      "Cell \u001b[1;32mIn[1], line 3\u001b[0m\n\u001b[0;32m      1\u001b[0m numerator\u001b[38;5;241m=\u001b[39m\u001b[38;5;241m100\u001b[39m\n\u001b[0;32m      2\u001b[0m denomenator\u001b[38;5;241m=\u001b[39m\u001b[38;5;241m0\u001b[39m\n\u001b[1;32m----> 3\u001b[0m result\u001b[38;5;241m=\u001b[39m\u001b[43mnumerator\u001b[49m\u001b[38;5;241;43m/\u001b[39;49m\u001b[43mdenomenator\u001b[49m\n\u001b[0;32m      6\u001b[0m \u001b[38;5;28mprint\u001b[39m(result)\n",
      "\u001b[1;31mZeroDivisionError\u001b[0m: division by zero"
     ]
    }
   ],
   "source": [
    "numerator=100\n",
    "denomenator=0\n",
    "result=numerator/denomenator\n",
    "\n",
    "\n",
    "print(result)"
   ]
  },
  {
   "cell_type": "code",
   "execution_count": 2,
   "id": "5cb2c874",
   "metadata": {},
   "outputs": [
    {
     "ename": "IndexError",
     "evalue": "list index out of range",
     "output_type": "error",
     "traceback": [
      "\u001b[1;31m---------------------------------------------------------------------------\u001b[0m",
      "\u001b[1;31mIndexError\u001b[0m                                Traceback (most recent call last)",
      "Cell \u001b[1;32mIn[2], line 2\u001b[0m\n\u001b[0;32m      1\u001b[0m even_num\u001b[38;5;241m=\u001b[39m[\u001b[38;5;241m2\u001b[39m,\u001b[38;5;241m4\u001b[39m,\u001b[38;5;241m6\u001b[39m,\u001b[38;5;241m8\u001b[39m]\n\u001b[1;32m----> 2\u001b[0m \u001b[38;5;28mprint\u001b[39m(\u001b[43meven_num\u001b[49m\u001b[43m[\u001b[49m\u001b[38;5;241;43m5\u001b[39;49m\u001b[43m]\u001b[49m)\n",
      "\u001b[1;31mIndexError\u001b[0m: list index out of range"
     ]
    }
   ],
   "source": [
    "even_num=[2,4,6,8]\n",
    "print(even_num[5])"
   ]
  },
  {
   "cell_type": "code",
   "execution_count": 9,
   "id": "a32f7032",
   "metadata": {},
   "outputs": [
    {
     "name": "stdout",
     "output_type": "stream",
     "text": [
      "8\n"
     ]
    }
   ],
   "source": [
    "even_num=[2,4,6,8]\n",
    "print(even_num[3])"
   ]
  },
  {
   "cell_type": "code",
   "execution_count": 3,
   "id": "7aa32f2a",
   "metadata": {},
   "outputs": [
    {
     "ename": "NameError",
     "evalue": "name 'b' is not defined",
     "output_type": "error",
     "traceback": [
      "\u001b[1;31m---------------------------------------------------------------------------\u001b[0m",
      "\u001b[1;31mNameError\u001b[0m                                 Traceback (most recent call last)",
      "Cell \u001b[1;32mIn[3], line 1\u001b[0m\n\u001b[1;32m----> 1\u001b[0m \u001b[38;5;28mprint\u001b[39m(\u001b[43mb\u001b[49m)\n",
      "\u001b[1;31mNameError\u001b[0m: name 'b' is not defined"
     ]
    }
   ],
   "source": [
    "print(b)"
   ]
  },
  {
   "cell_type": "code",
   "execution_count": 5,
   "id": "dc8ccd92",
   "metadata": {},
   "outputs": [
    {
     "ename": "KeyError",
     "evalue": "'b'",
     "output_type": "error",
     "traceback": [
      "\u001b[1;31m---------------------------------------------------------------------------\u001b[0m",
      "\u001b[1;31mKeyError\u001b[0m                                  Traceback (most recent call last)",
      "Cell \u001b[1;32mIn[5], line 2\u001b[0m\n\u001b[0;32m      1\u001b[0m d\u001b[38;5;241m=\u001b[39m{\u001b[38;5;124m\"\u001b[39m\u001b[38;5;124ma\u001b[39m\u001b[38;5;124m\"\u001b[39m:\u001b[38;5;124m\"\u001b[39m\u001b[38;5;124mram\u001b[39m\u001b[38;5;124m\"\u001b[39m}\n\u001b[1;32m----> 2\u001b[0m \u001b[43md\u001b[49m\u001b[43m[\u001b[49m\u001b[38;5;124;43m\"\u001b[39;49m\u001b[38;5;124;43mb\u001b[39;49m\u001b[38;5;124;43m\"\u001b[39;49m\u001b[43m]\u001b[49m\n",
      "\u001b[1;31mKeyError\u001b[0m: 'b'"
     ]
    }
   ],
   "source": [
    "d={\"a\":\"ram\"}\n",
    "d[\"b\"]"
   ]
  },
  {
   "cell_type": "code",
   "execution_count": 6,
   "id": "d508f074",
   "metadata": {},
   "outputs": [
    {
     "ename": "TypeError",
     "evalue": "add() takes 1 positional argument but 2 were given",
     "output_type": "error",
     "traceback": [
      "\u001b[1;31m---------------------------------------------------------------------------\u001b[0m",
      "\u001b[1;31mTypeError\u001b[0m                                 Traceback (most recent call last)",
      "Cell \u001b[1;32mIn[6], line 4\u001b[0m\n\u001b[0;32m      1\u001b[0m \u001b[38;5;28;01mdef\u001b[39;00m \u001b[38;5;21madd\u001b[39m (a):\n\u001b[0;32m      2\u001b[0m     \u001b[38;5;28mprint\u001b[39m(a\u001b[38;5;241m+\u001b[39mb)\n\u001b[1;32m----> 4\u001b[0m \u001b[43madd\u001b[49m\u001b[43m(\u001b[49m\u001b[38;5;241;43m3\u001b[39;49m\u001b[43m,\u001b[49m\u001b[38;5;241;43m4\u001b[39;49m\u001b[43m)\u001b[49m\n",
      "\u001b[1;31mTypeError\u001b[0m: add() takes 1 positional argument but 2 were given"
     ]
    }
   ],
   "source": [
    "def add (a):\n",
    "    print(a+b)\n",
    "    \n",
    "add(3,4)"
   ]
  },
  {
   "cell_type": "code",
   "execution_count": 10,
   "id": "6d47ab29",
   "metadata": {},
   "outputs": [
    {
     "ename": "ValueError",
     "evalue": "invalid literal for int() with base 10: 'A'",
     "output_type": "error",
     "traceback": [
      "\u001b[1;31m---------------------------------------------------------------------------\u001b[0m",
      "\u001b[1;31mValueError\u001b[0m                                Traceback (most recent call last)",
      "Cell \u001b[1;32mIn[10], line 1\u001b[0m\n\u001b[1;32m----> 1\u001b[0m \u001b[38;5;28;43mint\u001b[39;49m\u001b[43m(\u001b[49m\u001b[38;5;124;43m\"\u001b[39;49m\u001b[38;5;124;43mA\u001b[39;49m\u001b[38;5;124;43m\"\u001b[39;49m\u001b[43m)\u001b[49m\n",
      "\u001b[1;31mValueError\u001b[0m: invalid literal for int() with base 10: 'A'"
     ]
    }
   ],
   "source": [
    "int(\"A\")"
   ]
  },
  {
   "cell_type": "code",
   "execution_count": 11,
   "id": "51fc84ef",
   "metadata": {},
   "outputs": [
    {
     "ename": "TypeError",
     "evalue": "unsupported operand type(s) for +: 'int' and 'str'",
     "output_type": "error",
     "traceback": [
      "\u001b[1;31m---------------------------------------------------------------------------\u001b[0m",
      "\u001b[1;31mTypeError\u001b[0m                                 Traceback (most recent call last)",
      "Cell \u001b[1;32mIn[11], line 1\u001b[0m\n\u001b[1;32m----> 1\u001b[0m \u001b[38;5;241;43m1\u001b[39;49m\u001b[38;5;241;43m+\u001b[39;49m\u001b[38;5;124;43m\"\u001b[39;49m\u001b[38;5;124;43ma\u001b[39;49m\u001b[38;5;124;43m\"\u001b[39;49m\n",
      "\u001b[1;31mTypeError\u001b[0m: unsupported operand type(s) for +: 'int' and 'str'"
     ]
    }
   ],
   "source": [
    "1+\"a\""
   ]
  },
  {
   "cell_type": "code",
   "execution_count": 12,
   "id": "5446f5db",
   "metadata": {},
   "outputs": [
    {
     "ename": "AttributeError",
     "evalue": "'list' object has no attribute 'apend'",
     "output_type": "error",
     "traceback": [
      "\u001b[1;31m---------------------------------------------------------------------------\u001b[0m",
      "\u001b[1;31mAttributeError\u001b[0m                            Traceback (most recent call last)",
      "Cell \u001b[1;32mIn[12], line 2\u001b[0m\n\u001b[0;32m      1\u001b[0m l\u001b[38;5;241m=\u001b[39m[]\n\u001b[1;32m----> 2\u001b[0m \u001b[43ml\u001b[49m\u001b[38;5;241;43m.\u001b[39;49m\u001b[43mapend\u001b[49m(\u001b[38;5;241m4\u001b[39m)\n",
      "\u001b[1;31mAttributeError\u001b[0m: 'list' object has no attribute 'apend'"
     ]
    }
   ],
   "source": [
    "l=[]\n",
    "l.apend(4)"
   ]
  },
  {
   "cell_type": "code",
   "execution_count": 13,
   "id": "90a15fa0",
   "metadata": {},
   "outputs": [
    {
     "ename": "ModuleNotFoundError",
     "evalue": "No module named 'sdtew'",
     "output_type": "error",
     "traceback": [
      "\u001b[1;31m---------------------------------------------------------------------------\u001b[0m",
      "\u001b[1;31mModuleNotFoundError\u001b[0m                       Traceback (most recent call last)",
      "Cell \u001b[1;32mIn[13], line 1\u001b[0m\n\u001b[1;32m----> 1\u001b[0m \u001b[38;5;28;01mimport\u001b[39;00m \u001b[38;5;21;01msdtew\u001b[39;00m\n",
      "\u001b[1;31mModuleNotFoundError\u001b[0m: No module named 'sdtew'"
     ]
    }
   ],
   "source": [
    "import sdtew "
   ]
  },
  {
   "cell_type": "raw",
   "id": "7efd88c5",
   "metadata": {},
   "source": [
    "# Used to solve Error\n",
    "syntax:\n",
    "    \n",
    "try:\n",
    "    #code that may cause exception\n",
    "except:\n",
    "    #code to run when exception occurs"
   ]
  },
  {
   "cell_type": "code",
   "execution_count": 17,
   "id": "c1240225",
   "metadata": {},
   "outputs": [
    {
     "name": "stdout",
     "output_type": "stream",
     "text": [
      "invalid input\n"
     ]
    }
   ],
   "source": [
    "try:\n",
    "    numerator=100\n",
    "    denomenator=0\n",
    "    result=numerator/denomenator\n",
    "    print(result)\n",
    "except:\n",
    "    print(\"invalid input\")"
   ]
  },
  {
   "cell_type": "code",
   "execution_count": 21,
   "id": "a3a42f00",
   "metadata": {},
   "outputs": [
    {
     "name": "stdout",
     "output_type": "stream",
     "text": [
      "denomenator cannot be zero\n"
     ]
    }
   ],
   "source": [
    "try:\n",
    "    numerator=100\n",
    "    denomenator=0\n",
    "    result=numerator/denomenator\n",
    "    print(result)\n",
    "except ZeroDivisionError:\n",
    "        print(\"denomenator cannot be zero\")\n",
    "except IndexError:\n",
    "    print(\"Index out of bound\")"
   ]
  },
  {
   "cell_type": "code",
   "execution_count": 22,
   "id": "eef78934",
   "metadata": {},
   "outputs": [
    {
     "name": "stdout",
     "output_type": "stream",
     "text": [
      "Index out of bound\n"
     ]
    }
   ],
   "source": [
    "try:\n",
    "    even_num=[2,4,6,8]\n",
    "    print(even_num[5])\n",
    "except ZeroDivisionError:\n",
    "        print(\"denomenator cannot be zero\")\n",
    "except IndexError:\n",
    "    print(\"Index out of bound\")\n",
    "except:\n",
    "    print(\"Error\")\n",
    "        "
   ]
  },
  {
   "cell_type": "code",
   "execution_count": 23,
   "id": "f1382dbc",
   "metadata": {},
   "outputs": [
    {
     "name": "stdout",
     "output_type": "stream",
     "text": [
      "Error\n"
     ]
    }
   ],
   "source": [
    "try:\n",
    "    even_num=[2,4,6,8]\n",
    "    print(even_num[\"5\"])\n",
    "except ZeroDivisionError:\n",
    "        print(\"denomenator cannot be zero\")\n",
    "except IndexError:\n",
    "    print(\"Index out of bound\")\n",
    "except:\n",
    "    print(\"Error\")\n",
    "        "
   ]
  },
  {
   "cell_type": "code",
   "execution_count": 25,
   "id": "df116774",
   "metadata": {},
   "outputs": [
    {
     "name": "stdout",
     "output_type": "stream",
     "text": [
      "Error:denomenator cannot be zero\n",
      "this is finally bock\n"
     ]
    }
   ],
   "source": [
    "try:\n",
    "    numerator=100\n",
    "    denomenator=0\n",
    "    result=numerator/denomenator\n",
    "    print(result)\n",
    "except:\n",
    "        print(\"Error:denomenator cannot be zero\")\n",
    "finally:\n",
    "    print(\"this is finally bock\")"
   ]
  },
  {
   "cell_type": "code",
   "execution_count": 26,
   "id": "7a4fd819",
   "metadata": {},
   "outputs": [
    {
     "name": "stdout",
     "output_type": "stream",
     "text": [
      "B is not known \n"
     ]
    }
   ],
   "source": [
    "try:\n",
    "    print(b)\n",
    "except:\n",
    "    print(\"B is not known \")"
   ]
  },
  {
   "cell_type": "code",
   "execution_count": 27,
   "id": "93cef6b5",
   "metadata": {},
   "outputs": [
    {
     "name": "stdout",
     "output_type": "stream",
     "text": [
      "Different datatypes\n"
     ]
    }
   ],
   "source": [
    "try:\n",
    "    1+\"a\"\n",
    "except:\n",
    "    print(\"Different datatypes\")"
   ]
  },
  {
   "cell_type": "code",
   "execution_count": 29,
   "id": "9cadb970",
   "metadata": {},
   "outputs": [
    {
     "name": "stdout",
     "output_type": "stream",
     "text": [
      "method not listed\n"
     ]
    }
   ],
   "source": [
    "try:\n",
    "    l=[]\n",
    "    l.apend(4)\n",
    "except AttributeError :\n",
    "    print(\"method not listed\")\n",
    "except:\n",
    "    print(\"error\")"
   ]
  },
  {
   "cell_type": "code",
   "execution_count": 30,
   "id": "c7d67611",
   "metadata": {},
   "outputs": [
    {
     "name": "stdout",
     "output_type": "stream",
     "text": [
      "Enter correct module name\n",
      "try again\n"
     ]
    }
   ],
   "source": [
    "try:\n",
    "    import sdtew \n",
    "except:\n",
    "    print(\"Enter correct module name\")\n",
    "finally:\n",
    "    print(\"try again\")"
   ]
  },
  {
   "cell_type": "raw",
   "id": "acae2490",
   "metadata": {},
   "source": [
    "Homework:\n",
    "    \n",
    "1)create file of error \n",
    "2)create notebook of  tuple,set, dictionary methods.\n",
    "3)study 12 inbuild package and 15 function in each packages\n",
    "4)10 lambda functions.\n"
   ]
  },
  {
   "cell_type": "code",
   "execution_count": null,
   "id": "b5259e87",
   "metadata": {},
   "outputs": [],
   "source": []
  }
 ],
 "metadata": {
  "kernelspec": {
   "display_name": "Python 3 (ipykernel)",
   "language": "python",
   "name": "python3"
  },
  "language_info": {
   "codemirror_mode": {
    "name": "ipython",
    "version": 3
   },
   "file_extension": ".py",
   "mimetype": "text/x-python",
   "name": "python",
   "nbconvert_exporter": "python",
   "pygments_lexer": "ipython3",
   "version": "3.10.9"
  }
 },
 "nbformat": 4,
 "nbformat_minor": 5
}
