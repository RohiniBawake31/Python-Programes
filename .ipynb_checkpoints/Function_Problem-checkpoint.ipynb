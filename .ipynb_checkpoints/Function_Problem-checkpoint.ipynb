{
 "cells": [
  {
   "cell_type": "code",
   "execution_count": null,
   "id": "ccf80960-24c3-45b7-b2a6-18c61da91d42",
   "metadata": {},
   "outputs": [],
   "source": [
    "#Python function that prints a text\n",
    "def p_text(text):\n",
    "    return(text)"
   ]
  },
  {
   "cell_type": "code",
   "execution_count": 10,
   "id": "7fa6f2af-8e63-4f29-99e7-ca948f1ac094",
   "metadata": {},
   "outputs": [
    {
     "data": {
      "text/plain": [
       "'hello'"
      ]
     },
     "execution_count": 10,
     "metadata": {},
     "output_type": "execute_result"
    }
   ],
   "source": [
    "p_text('hello')"
   ]
  },
  {
   "cell_type": "code",
   "execution_count": 3,
   "id": "5d1f3ce9-59e9-4129-bfcb-39541c194906",
   "metadata": {},
   "outputs": [],
   "source": [
    "#Python function that accepts two numbers as arguments and returns the sum\n",
    "def sum(a,b):\n",
    "    c=a+b\n",
    "    print(c)\n",
    "    return"
   ]
  },
  {
   "cell_type": "code",
   "execution_count": 4,
   "id": "4bee0c13-62e9-403c-b924-9528c2df24db",
   "metadata": {},
   "outputs": [
    {
     "name": "stdout",
     "output_type": "stream",
     "text": [
      "11\n"
     ]
    }
   ],
   "source": [
    "sum(5,6)"
   ]
  },
  {
   "cell_type": "code",
   "execution_count": 17,
   "id": "8c724674-a85c-4bfc-8be8-b8625f37ebbd",
   "metadata": {},
   "outputs": [],
   "source": [
    "#Python function that accepts different values as parameters and returns a list\n",
    "def List(*a):\n",
    "    c=[*a]\n",
    "    print(c)\n",
    "    return"
   ]
  },
  {
   "cell_type": "code",
   "execution_count": 18,
   "id": "d9797b44-0bf0-4d39-9a35-845a67745b12",
   "metadata": {},
   "outputs": [
    {
     "name": "stdout",
     "output_type": "stream",
     "text": [
      "[40, 5, 6, 23, 1, 4]\n"
     ]
    }
   ],
   "source": [
    "List(40,5,6,23,1,4)"
   ]
  },
  {
   "cell_type": "code",
   "execution_count": 31,
   "id": "eaf890a5-9f80-4444-993b-210174aad79d",
   "metadata": {},
   "outputs": [],
   "source": [
    "#Python function that returns a dictionary\n",
    "def dict(k,v):\n",
    "    d={k:v}\n",
    "    print(d)"
   ]
  },
  {
   "cell_type": "code",
   "execution_count": 32,
   "id": "cdad2ae4-71f7-4af7-8c12-6e6b2c64a160",
   "metadata": {},
   "outputs": [
    {
     "name": "stdout",
     "output_type": "stream",
     "text": [
      "{1: 'sai'}\n"
     ]
    }
   ],
   "source": [
    "dict(1,'sai')"
   ]
  },
  {
   "cell_type": "code",
   "execution_count": 38,
   "id": "f495cab6-d39f-4924-aede-a327e73e4f3a",
   "metadata": {},
   "outputs": [],
   "source": [
    "#Python function that returns a tuple\n",
    "def values(*a):\n",
    "    tuple=(a)\n",
    "    return(tuple)"
   ]
  },
  {
   "cell_type": "code",
   "execution_count": 39,
   "id": "93b0319f-6bfb-46fd-b944-77a2e793ab14",
   "metadata": {},
   "outputs": [
    {
     "data": {
      "text/plain": [
       "(10, 45, 2)"
      ]
     },
     "execution_count": 39,
     "metadata": {},
     "output_type": "execute_result"
    }
   ],
   "source": [
    "values(10,45,2)"
   ]
  },
  {
   "cell_type": "code",
   "execution_count": 1,
   "id": "7bab7430-7e2f-40fe-a2bd-a4f1745fccfb",
   "metadata": {},
   "outputs": [],
   "source": [
    "#Python function that accepts a list as a parameter\n",
    "def sum_list (list):\n",
    "    l=sum(list)\n",
    "    return (l)"
   ]
  },
  {
   "cell_type": "code",
   "execution_count": 6,
   "id": "0e96c7aa-1277-4a8d-8e25-b342412c9ae9",
   "metadata": {},
   "outputs": [
    {
     "data": {
      "text/plain": [
       "20"
      ]
     },
     "execution_count": 6,
     "metadata": {},
     "output_type": "execute_result"
    }
   ],
   "source": [
    "sum_list([5,4,6,5])"
   ]
  },
  {
   "cell_type": "code",
   "execution_count": 26,
   "id": "fdeeeb74-162c-4199-90fd-0d2b14886a3e",
   "metadata": {},
   "outputs": [],
   "source": [
    "#Python function that accepts a dictionary as a parameter\n",
    "def dictionary(info):\n",
    "    for key, value in info.items():\n",
    "       return(key,value)"
   ]
  },
  {
   "cell_type": "code",
   "execution_count": 27,
   "id": "ec3c0aeb-11a9-488c-8687-c4024f577d7e",
   "metadata": {},
   "outputs": [
    {
     "data": {
      "text/plain": [
       "(1, 'sai')"
      ]
     },
     "execution_count": 27,
     "metadata": {},
     "output_type": "execute_result"
    }
   ],
   "source": [
    "dictionary({1:\"sai\",2:\"raj\"})"
   ]
  },
  {
   "cell_type": "code",
   "execution_count": 35,
   "id": "2da01630-0653-4a7f-8145-ec594685cc0b",
   "metadata": {},
   "outputs": [],
   "source": [
    "#Python function using positional arguments  \n",
    "def greet(Name,age):\n",
    "    return(f\"hello {Name} good morning,your {age} years old\")\n",
    "\n"
   ]
  },
  {
   "cell_type": "code",
   "execution_count": 36,
   "id": "0df9acdb-bfac-4a63-bf24-7ed7710fb4e4",
   "metadata": {},
   "outputs": [
    {
     "data": {
      "text/plain": [
       "'hello ruhi good morning,your 25 years old'"
      ]
     },
     "execution_count": 36,
     "metadata": {},
     "output_type": "execute_result"
    }
   ],
   "source": [
    "greet(\"ruhi\",25)"
   ]
  },
  {
   "cell_type": "code",
   "execution_count": 41,
   "id": "68a6a44e-d621-4726-ae3c-e2babc70205d",
   "metadata": {},
   "outputs": [],
   "source": [
    "#Python function using keyword arguments\n",
    "def profit(cost,sell=0,items=0):\n",
    "    p=(sell-cost)*items\n",
    "    return(p)"
   ]
  },
  {
   "cell_type": "code",
   "execution_count": 42,
   "id": "9a1a7e90-e618-43ed-b750-d67204af6ed0",
   "metadata": {},
   "outputs": [
    {
     "data": {
      "text/plain": [
       "250"
      ]
     },
     "execution_count": 42,
     "metadata": {},
     "output_type": "execute_result"
    }
   ],
   "source": [
    "profit(cost=100,sell=150,items=5)"
   ]
  },
  {
   "cell_type": "code",
   "execution_count": 1,
   "id": "d32d792e-40e1-4418-a49c-959389a0be23",
   "metadata": {},
   "outputs": [],
   "source": [
    "#Python function using default arguments\n",
    "def total_amount(amount,discount=0.5):\n",
    "    t=amount+(amount*discount)\n",
    "    return(t)"
   ]
  },
  {
   "cell_type": "code",
   "execution_count": 2,
   "id": "15e1bc9b-cef4-4f82-a1f7-e0e4b68b584c",
   "metadata": {},
   "outputs": [
    {
     "data": {
      "text/plain": [
       "150.0"
      ]
     },
     "execution_count": 2,
     "metadata": {},
     "output_type": "execute_result"
    }
   ],
   "source": [
    "total_amount(100)"
   ]
  },
  {
   "cell_type": "code",
   "execution_count": 66,
   "id": "a71d23b2-1996-4c39-afea-faa53292d62b",
   "metadata": {},
   "outputs": [],
   "source": [
    "#Passing an arbitrary number of arguments to a Python function\n",
    "def power(*args):\n",
    "    p = [x**2 for x in args]\n",
    "    return p"
   ]
  },
  {
   "cell_type": "code",
   "execution_count": 67,
   "id": "3f0f9748-2275-4789-8b60-0cf7f9680aac",
   "metadata": {},
   "outputs": [
    {
     "data": {
      "text/plain": [
       "[4, 9, 16]"
      ]
     },
     "execution_count": 67,
     "metadata": {},
     "output_type": "execute_result"
    }
   ],
   "source": [
    "power(2, 3, 4)"
   ]
  },
  {
   "cell_type": "code",
   "execution_count": 80,
   "id": "4710b551-2be1-4649-adc5-cada39accc12",
   "metadata": {},
   "outputs": [],
   "source": [
    "#Python function to find the factorial of a number\n",
    "def fact(n):\n",
    "    result=1\n",
    "    for i in range(1,n+1):\n",
    "       result*=i\n",
    "    return result   "
   ]
  },
  {
   "cell_type": "code",
   "execution_count": 82,
   "id": "3f9ed436-97fc-4bc7-9604-4e7ad13c1e50",
   "metadata": {},
   "outputs": [
    {
     "data": {
      "text/plain": [
       "24"
      ]
     },
     "execution_count": 82,
     "metadata": {},
     "output_type": "execute_result"
    }
   ],
   "source": [
    "fact(4)"
   ]
  },
  {
   "cell_type": "code",
   "execution_count": 20,
   "id": "4af98c90-d573-4711-855b-5c52f57fb868",
   "metadata": {},
   "outputs": [],
   "source": [
    "#Python function that returns multiple values\n",
    "def arth_operation(a,b):\n",
    "    add=a+b \n",
    "    sub=a-b\n",
    "    mul=a*b\n",
    "    div=a/b\n",
    "    return(add,sub,mul,div)\n"
   ]
  },
  {
   "cell_type": "code",
   "execution_count": 21,
   "id": "4409ec73-43ab-4a80-97e4-3e34940852ce",
   "metadata": {},
   "outputs": [
    {
     "name": "stdout",
     "output_type": "stream",
     "text": [
      "(11, -1, 30, 0.8333333333333334)\n"
     ]
    }
   ],
   "source": [
    "p=arth_operation(5,6)\n",
    "print(p)"
   ]
  },
  {
   "cell_type": "code",
   "execution_count": null,
   "id": "94506a4c-f03e-43b4-a240-95fa1b9efce5",
   "metadata": {},
   "outputs": [],
   "source": []
  }
 ],
 "metadata": {
  "kernelspec": {
   "display_name": "Python [conda env:base] *",
   "language": "python",
   "name": "conda-base-py"
  },
  "language_info": {
   "codemirror_mode": {
    "name": "ipython",
    "version": 3
   },
   "file_extension": ".py",
   "mimetype": "text/x-python",
   "name": "python",
   "nbconvert_exporter": "python",
   "pygments_lexer": "ipython3",
   "version": "3.12.7"
  }
 },
 "nbformat": 4,
 "nbformat_minor": 5
}
