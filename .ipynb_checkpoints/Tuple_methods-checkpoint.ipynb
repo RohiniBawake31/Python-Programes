{
 "cells": [
  {
   "cell_type": "markdown",
   "id": "e3effc63-7307-4820-a86a-57be163f049f",
   "metadata": {},
   "source": [
    "                     Tuple methods"
   ]
  },
  {
   "cell_type": "markdown",
   "id": "c9932150-62ce-499f-a234-b8e4f00c1952",
   "metadata": {},
   "source": [
    "count(x): Returns the number of times x appears in the tuple.\n",
    "\n",
    "input - only one argument"
   ]
  },
  {
   "cell_type": "code",
   "execution_count": 26,
   "id": "e72a7ed6-d6bb-46dc-86c2-19da245964f5",
   "metadata": {},
   "outputs": [
    {
     "data": {
      "text/plain": [
       "2"
      ]
     },
     "execution_count": 26,
     "metadata": {},
     "output_type": "execute_result"
    }
   ],
   "source": [
    "t=(10,21,10,36,54,42,20)\n",
    "t.count(10)"
   ]
  },
  {
   "cell_type": "markdown",
   "id": "9ad7abf0-1193-4606-9899-dfc0ccbdc57d",
   "metadata": {},
   "source": [
    "index(): Returns the index of the first occurrence.\n",
    "\n",
    "input- any value available in tuple"
   ]
  },
  {
   "cell_type": "code",
   "execution_count": 27,
   "id": "538e602e-84af-4445-9099-8695db01016e",
   "metadata": {},
   "outputs": [
    {
     "data": {
      "text/plain": [
       "0"
      ]
     },
     "execution_count": 27,
     "metadata": {},
     "output_type": "execute_result"
    }
   ],
   "source": [
    "t.index(10)"
   ]
  },
  {
   "cell_type": "markdown",
   "id": "0f4cd979-8094-4622-a6fd-8de25e757600",
   "metadata": {},
   "source": [
    "len(tuple): Gets the number of items.\n"
   ]
  },
  {
   "cell_type": "code",
   "execution_count": 28,
   "id": "4ced5e2b-027e-4f99-a493-1677626f1276",
   "metadata": {},
   "outputs": [
    {
     "data": {
      "text/plain": [
       "7"
      ]
     },
     "execution_count": 28,
     "metadata": {},
     "output_type": "execute_result"
    }
   ],
   "source": [
    "len(t)"
   ]
  },
  {
   "cell_type": "markdown",
   "id": "8f62d53a-fd7e-42c8-9bfd-80af6fd79f99",
   "metadata": {},
   "source": [
    "max() :Returns the maximum in the tuple\n",
    "\n",
    "min(): Returns minimum value in the tuple."
   ]
  },
  {
   "cell_type": "code",
   "execution_count": 29,
   "id": "db7b444e-9f49-4f75-89b7-90bc5a39431f",
   "metadata": {},
   "outputs": [
    {
     "data": {
      "text/plain": [
       "54"
      ]
     },
     "execution_count": 29,
     "metadata": {},
     "output_type": "execute_result"
    }
   ],
   "source": [
    "max(t)"
   ]
  },
  {
   "cell_type": "code",
   "execution_count": 30,
   "id": "02073c96-a4a1-4450-9e74-7495b0496f94",
   "metadata": {},
   "outputs": [
    {
     "data": {
      "text/plain": [
       "10"
      ]
     },
     "execution_count": 30,
     "metadata": {},
     "output_type": "execute_result"
    }
   ],
   "source": [
    "min(t)"
   ]
  },
  {
   "cell_type": "code",
   "execution_count": null,
   "id": "e555f04d-d95e-473c-a0b3-c8ac7c71e2bf",
   "metadata": {},
   "outputs": [],
   "source": []
  },
  {
   "cell_type": "code",
   "execution_count": null,
   "id": "3a02fa19-2841-4d5a-be08-160afe888b70",
   "metadata": {},
   "outputs": [],
   "source": []
  },
  {
   "cell_type": "code",
   "execution_count": null,
   "id": "09163207-298a-4673-9694-c3bdaf884501",
   "metadata": {},
   "outputs": [],
   "source": []
  },
  {
   "cell_type": "code",
   "execution_count": null,
   "id": "0105b3eb-ff22-43de-a107-bbad50ed764b",
   "metadata": {},
   "outputs": [],
   "source": []
  }
 ],
 "metadata": {
  "kernelspec": {
   "display_name": "Python [conda env:base] *",
   "language": "python",
   "name": "conda-base-py"
  },
  "language_info": {
   "codemirror_mode": {
    "name": "ipython",
    "version": 3
   },
   "file_extension": ".py",
   "mimetype": "text/x-python",
   "name": "python",
   "nbconvert_exporter": "python",
   "pygments_lexer": "ipython3",
   "version": "3.12.7"
  }
 },
 "nbformat": 4,
 "nbformat_minor": 5
}
